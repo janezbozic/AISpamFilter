{
  "nbformat": 4,
  "nbformat_minor": 0,
  "metadata": {
    "colab": {
      "name": "spam_filter.ipynb",
      "provenance": [],
      "collapsed_sections": []
    },
    "kernelspec": {
      "name": "python3",
      "display_name": "Python 3"
    },
    "language_info": {
      "name": "python"
    }
  },
  "cells": [
    {
      "cell_type": "markdown",
      "source": [
        "# Youtube Comment Scraper"
      ],
      "metadata": {
        "id": "a57I1DxeLwd4"
      }
    },
    {
      "cell_type": "markdown",
      "source": [
        "Youtube comment scraper function:"
      ],
      "metadata": {
        "id": "n0MgfksuLIUE"
      }
    },
    {
      "cell_type": "code",
      "source": [
        "from googleapiclient.discovery import build\n",
        "import pandas as pd\n",
        "\n",
        "#https://www.youtube.com/watch?v=hD1YtmKXNb4\n",
        "\n",
        "\n",
        "def get_comment_replies(resource, comment_id, comments_dict):\n",
        "    request = resource.comments().list(\n",
        "        parentId=comment_id,\n",
        "        part='id,snippet',\n",
        "        maxResults=10\n",
        "    )\n",
        "    replies = 0\n",
        "    response = request.execute()\n",
        "\n",
        "    items = response[\"items\"]\n",
        "\n",
        "    for item in items:\n",
        "        item_info = item[\"snippet\"]\n",
        "        # the top level comment can have sub reply comments\n",
        "        comments_dict[\"name\"].append(item_info[\"authorDisplayName\"])\n",
        "        comments_dict[\"comment\"].append(item_info[\"textDisplay\"])\n",
        "        comments_dict[\"subcomment\"].append(1)\n",
        "        replies += 1\n",
        "\n",
        "    return replies\n",
        "\n",
        "\n",
        "def video_comments(video_id, num_of_comments, api_key):\n",
        "    # build a resource for youtube\n",
        "    resource = build('youtube', 'v3', developerKey=api_key)\n",
        "\n",
        "    request = resource.commentThreads().list(\n",
        "        part=\"snippet\",\n",
        "        videoId=video_id,\n",
        "        maxResults=100,\n",
        "        order=\"orderUnspecified\")  # top comments.\n",
        "    # execute the request\n",
        "    response = request.execute()\n",
        "\n",
        "    items = response[\"items\"]\n",
        "\n",
        "    comments_dict = {\"name\": [], \"comment\": [], \"subcomment\": []}\n",
        "\n",
        "    count = 0\n",
        "\n",
        "    while count < num_of_comments:\n",
        "        p = False\n",
        "        for item in items:\n",
        "            item_info = item[\"snippet\"]\n",
        "            # the top level comment can have sub reply comments\n",
        "            topLevelComment = item_info[\"topLevelComment\"]\n",
        "            comment_info = topLevelComment[\"snippet\"]\n",
        "            comments_dict[\"name\"].append(comment_info[\"authorDisplayName\"])\n",
        "            comments_dict[\"comment\"].append(comment_info[\"textDisplay\"])\n",
        "            comments_dict[\"subcomment\"].append(0)\n",
        "            rep_count = get_comment_replies(resource, item[\"id\"], comments_dict)\n",
        "            count += rep_count + 1\n",
        "            if count == num_of_comments:\n",
        "                p = True\n",
        "                break\n",
        "        if p:\n",
        "            break\n",
        "        if 'nextPageToken' in response:\n",
        "            request = resource.commentThreads().list(\n",
        "                part=\"snippet\",\n",
        "                videoId=video_id,\n",
        "                maxResults=100,\n",
        "                pageToken=response['nextPageToken'],\n",
        "                order=\"orderUnspecified\")  # top comments.\n",
        "            # execute the request\n",
        "            response = request.execute()\n",
        "            items = response[\"items\"]\n",
        "        else:\n",
        "            break\n",
        "\n",
        "    df_comments = pd.DataFrame(comments_dict)\n",
        "    return df_comments"
      ],
      "metadata": {
        "id": "0jR8RHuFLPqk"
      },
      "execution_count": null,
      "outputs": []
    },
    {
      "cell_type": "markdown",
      "source": [
        "# Filtering system for emails"
      ],
      "metadata": {
        "id": "queZFNKScS6x"
      }
    },
    {
      "cell_type": "markdown",
      "source": [
        "## Data Preprocessing\n",
        "\n",
        "Convert all letters to lower case. Remove punctuation, white space, numbers, hyperlink, stop words and etc. Use word stemming and word lemmatization."
      ],
      "metadata": {
        "id": "a2hxzfy5cloq"
      }
    },
    {
      "cell_type": "code",
      "source": [
        "from google.colab import drive\n",
        "drive.mount('/content/drive')"
      ],
      "metadata": {
        "colab": {
          "base_uri": "https://localhost:8080/"
        },
        "id": "K31jCSNWe-Ae",
        "outputId": "a362718d-506a-46f1-a0a1-55ce6ead0601"
      },
      "execution_count": null,
      "outputs": [
        {
          "output_type": "stream",
          "name": "stdout",
          "text": [
            "Mounted at /content/drive\n"
          ]
        }
      ]
    },
    {
      "cell_type": "code",
      "source": [
        "from google.colab import auth\n",
        "auth.authenticate_user()\n",
        "\n",
        "import gspread\n",
        "from google.auth import default\n",
        "creds, _ = default()\n",
        "\n",
        "gc = gspread.authorize(creds)"
      ],
      "metadata": {
        "id": "q7Zi0tfofWqQ"
      },
      "execution_count": null,
      "outputs": []
    },
    {
      "cell_type": "code",
      "source": [
        "!pip install clean-text"
      ],
      "metadata": {
        "colab": {
          "base_uri": "https://localhost:8080/"
        },
        "id": "AXMsobIpKkfi",
        "outputId": "d92dd2a4-9ee3-4593-f9c0-b0e449f3a496"
      },
      "execution_count": null,
      "outputs": [
        {
          "output_type": "stream",
          "name": "stdout",
          "text": [
            "Looking in indexes: https://pypi.org/simple, https://us-python.pkg.dev/colab-wheels/public/simple/\n",
            "Collecting clean-text\n",
            "  Downloading clean_text-0.6.0-py3-none-any.whl (11 kB)\n",
            "Collecting ftfy<7.0,>=6.0\n",
            "  Downloading ftfy-6.1.1-py3-none-any.whl (53 kB)\n",
            "\u001b[K     |████████████████████████████████| 53 kB 1.6 MB/s \n",
            "\u001b[?25hCollecting emoji<2.0.0,>=1.0.0\n",
            "  Downloading emoji-1.7.0.tar.gz (175 kB)\n",
            "\u001b[K     |████████████████████████████████| 175 kB 24.7 MB/s \n",
            "\u001b[?25hRequirement already satisfied: wcwidth>=0.2.5 in /usr/local/lib/python3.7/dist-packages (from ftfy<7.0,>=6.0->clean-text) (0.2.5)\n",
            "Building wheels for collected packages: emoji\n",
            "  Building wheel for emoji (setup.py) ... \u001b[?25l\u001b[?25hdone\n",
            "  Created wheel for emoji: filename=emoji-1.7.0-py3-none-any.whl size=171046 sha256=692164a8b4c6ea496f0011b7ef73b15ac4719c605c9364c1ad3ea485368b0fe6\n",
            "  Stored in directory: /root/.cache/pip/wheels/8a/4e/b6/57b01db010d17ef6ea9b40300af725ef3e210cb1acfb7ac8b6\n",
            "Successfully built emoji\n",
            "Installing collected packages: ftfy, emoji, clean-text\n",
            "Successfully installed clean-text-0.6.0 emoji-1.7.0 ftfy-6.1.1\n"
          ]
        }
      ]
    },
    {
      "cell_type": "code",
      "source": [
        "from string import digits\n",
        "from gensim.parsing.preprocessing import remove_stopwords\n",
        "import string\n",
        "import re\n",
        "from cleantext import clean\n",
        "from pprint import pprint\n",
        "\n",
        "from nltk.stem import PorterStemmer\n",
        "from nltk.stem import WordNetLemmatizer\n",
        "import nltk\n",
        "nltk.download('wordnet')"
      ],
      "metadata": {
        "id": "WpQdioelNnVy",
        "colab": {
          "base_uri": "https://localhost:8080/"
        },
        "outputId": "28d3c97f-e354-4457-a6e2-1b904b79e2bb"
      },
      "execution_count": null,
      "outputs": [
        {
          "output_type": "stream",
          "name": "stderr",
          "text": [
            "Since the GPL-licensed package `unidecode` is not installed, using Python's `unicodedata` package which yields worse results.\n"
          ]
        },
        {
          "output_type": "stream",
          "name": "stdout",
          "text": [
            "[nltk_data] Downloading package wordnet to /root/nltk_data...\n",
            "[nltk_data]   Unzipping corpora/wordnet.zip.\n"
          ]
        },
        {
          "output_type": "execute_result",
          "data": {
            "text/plain": [
              "True"
            ]
          },
          "metadata": {},
          "execution_count": 5
        }
      ]
    },
    {
      "cell_type": "code",
      "source": [
        "lemmatizer = WordNetLemmatizer()\n",
        "\n",
        "def word_lemmatizer(words):\n",
        "   lemma_words = [lemmatizer.lemmatize(o) for o in words]\n",
        "   return \" \".join(lemma_words)\n",
        "\n",
        "sheets = ['Youtube01-Psy', 'Youtube02-KatyPerry', 'Youtube03-LMFAO', 'Youtube04-Eminem', 'Youtube05-Shakira']\n",
        "#sheets1 = ['comments_ltt', 'comments_mrbeast', 'comments_unspeakable']\n",
        "\n",
        "all_comments = []\n",
        "#all_comments1 = []\n",
        "for sheet in sheets:\n",
        "  wb = gc.open(sheet)\n",
        "\n",
        "  rows = wb.sheet1.get_all_values()\n",
        "  #rows\n",
        "\n",
        "  \n",
        "  for row in rows:\n",
        "    if row[4] != 'CLASS':\n",
        "    #if row[4] != 'spam':\n",
        "      remove_digits = str.maketrans('', '', string.digits)\n",
        "      remove_punct = str.maketrans('', '', string.punctuation)\n",
        "      #res = row[3].lower().translate(remove_digits)\n",
        "      res = remove_stopwords(row[3].lower().translate(remove_digits).translate(remove_punct)) # lowercase, remove punctuation, remove digits, remove stopwords\n",
        "      clean_text = word_lemmatizer(res.split(\" \"))\n",
        "      clean_text = word_lemmatizer(clean_text.split(\" \")) # lemmatize\n",
        "      clean_text = clean(clean_text, no_emoji=True) # remove emojis\n",
        "\n",
        "      #print(clean_text) #\n",
        "      # to spodnje je za kaggle dataset\n",
        "      all_comments.append([clean_text, int(row[4])]) # save preprocessed text and class (0 - not spam or 1 - spam)\n",
        "      \n",
        "      #to spodnje je za nš dataset\n",
        "      #all_comments1.append([clean_text, int(row[4])]) # save preprocessed text and class (0 - not spam or 1 - spam)\n",
        "\n",
        "\n",
        "# pprint(all_comments)"
      ],
      "metadata": {
        "id": "9qA4UuzJim7e"
      },
      "execution_count": null,
      "outputs": []
    },
    {
      "cell_type": "code",
      "source": [
        "\n",
        "\n",
        "lemmatizer = WordNetLemmatizer()\n",
        "\n",
        "def word_lemmatizer(words):\n",
        "   lemma_words = [lemmatizer.lemmatize(o) for o in words]\n",
        "   return \" \".join(lemma_words)\n",
        "\n",
        "#sheets = ['Youtube01-Psy', 'Youtube02-KatyPerry', 'Youtube03-LMFAO', 'Youtube04-Eminem', 'Youtube05-Shakira']\n",
        "sheets1 = ['comments_ltt', 'comments_mrbeast', 'comments_unspeakable']\n",
        "\n",
        "#all_comments = []\n",
        "all_comments1 = []\n",
        "for sheet in sheets1:\n",
        "  wb = gc.open(sheet)\n",
        "\n",
        "  rows = wb.sheet1.get_all_values()\n",
        "  #rows\n",
        "\n",
        "  \n",
        "  for row in rows:\n",
        "    # if row[4] != 'CLASS':\n",
        "    if row[4] != 'spam':\n",
        "      remove_digits = str.maketrans('', '', string.digits)\n",
        "      remove_punct = str.maketrans('', '', string.punctuation)\n",
        "      #res = row[3].lower().translate(remove_digits)\n",
        "      res = remove_stopwords(row[2].lower().translate(remove_digits).translate(remove_punct)) # lowercase, remove punctuation, remove digits, remove stopwords\n",
        "      clean_text = word_lemmatizer(res.split(\" \"))\n",
        "      clean_text = word_lemmatizer(clean_text.split(\" \")) # lemmatize\n",
        "      clean_text = clean(clean_text, no_emoji=True) # remove emojis\n",
        "\n",
        "      #print(clean_text) #\n",
        "      # to spodnje je za kaggle dataset\n",
        "      # all_comments.append([clean_text, int(row[4])]) # save preprocessed text and class (0 - not spam or 1 - spam)\n",
        "      \n",
        "      #to spodnje je za nš dataset\n",
        "      all_comments1.append([clean_text, int(row[4])]) # save preprocessed text and class (0 - not spam or 1 - spam)\n",
        "\n",
        "\n",
        "# pprint(all_comments1)"
      ],
      "metadata": {
        "id": "1ALNTVj0jGRk"
      },
      "execution_count": null,
      "outputs": []
    },
    {
      "cell_type": "code",
      "source": [
        "\n",
        "a = [c[1] for c in all_comments1]\n",
        "print(sum(a))\n",
        "print(len(a)-sum(a))\n",
        "print(len(a))\n"
      ],
      "metadata": {
        "colab": {
          "base_uri": "https://localhost:8080/"
        },
        "id": "R0hvmq-HdyB8",
        "outputId": "3ce2a8b7-3880-4b04-b99f-d64fa7c3d41b"
      },
      "execution_count": null,
      "outputs": [
        {
          "output_type": "stream",
          "name": "stdout",
          "text": [
            "179\n",
            "1409\n",
            "1588\n"
          ]
        }
      ]
    },
    {
      "cell_type": "code",
      "source": [
        "x_train = [x[0] for x in all_comments]\n",
        "y_train = [x[1] for x in all_comments]\n",
        "x_test = [x[0] for x in all_comments1]\n",
        "y_test = [x[1] for x in all_comments1]\n",
        "\n",
        "print(\"Majority class classification accuracy:\", 1 - sum(y_test)/len(x_test))"
      ],
      "metadata": {
        "id": "t4TmjH-v59d0",
        "colab": {
          "base_uri": "https://localhost:8080/"
        },
        "outputId": "35fc868f-afb3-4d92-ac5c-ae7e11408ee2"
      },
      "execution_count": null,
      "outputs": [
        {
          "output_type": "stream",
          "name": "stdout",
          "text": [
            "Majority class classification accuracy: 0.8872795969773299\n"
          ]
        }
      ]
    },
    {
      "cell_type": "markdown",
      "source": [
        "## CNN"
      ],
      "metadata": {
        "id": "aMLT-ndFDx7B"
      }
    },
    {
      "cell_type": "code",
      "source": [
        "from sklearn.model_selection import train_test_split\n",
        "import numpy as np\n",
        "\n",
        "ham_sample = train_test_split([c for c, spam in all_comments if not spam])\n",
        "ham_train, ham_test = ham_sample\n",
        "spam_sample = train_test_split([c for c, spam in all_comments if spam])\n",
        "spam_train, spam_test = spam_sample\n",
        "print(\"ham:\", len(ham_train), len(ham_test))\n",
        "print(\"spam:\", len(spam_train), len(spam_test))\n",
        "\n",
        "ham_train_label = [0] * len(ham_train)\n",
        "spam_train_label = [1] * len(spam_train)\n",
        "x_train = np.concatenate((ham_train, spam_train))\n",
        "y_train = np.concatenate((ham_train_label, spam_train_label))\n",
        "print(\"size of train set:\", x_train.shape)\n",
        "\n",
        "ham_test_label = [0] * len(ham_test)\n",
        "spam_test_label = [1] * len(spam_test)\n",
        "x_test = np.concatenate((ham_test, spam_test))\n",
        "y_test = np.concatenate((ham_test_label, spam_test_label))\n",
        "print(\"size of test set:\", x_test.shape)\n",
        "\n",
        "train_shuffle_index = np.random.permutation(np.arange(0, x_train.shape[0]))\n",
        "test_shuffle_index = np.random.permutation(np.arange(0, x_test.shape[0]))\n",
        "\n",
        "\"\"\"\n",
        "x_train = all_comments1[:1088][0]\n",
        "y_train = all_comments1[:1088][1]\n",
        "x_test = all_comments1[1088:][0]\n",
        "y_test = all_comments1[1088:][1]\n",
        "\"\"\"\n",
        "\n",
        "x_train = x_train[train_shuffle_index]\n",
        "y_train = y_train[train_shuffle_index]\n",
        "x_test = x_test[test_shuffle_index]\n",
        "y_test = y_test[test_shuffle_index]\n",
        "print(len(spam_test)/(len(ham_test)+len(spam_test)))"
      ],
      "metadata": {
        "colab": {
          "base_uri": "https://localhost:8080/"
        },
        "id": "y5-ESyGOEZ7c",
        "outputId": "045dc96e-6218-4d7c-f8fd-76b84959a383"
      },
      "execution_count": null,
      "outputs": [
        {
          "output_type": "stream",
          "name": "stdout",
          "text": [
            "ham: 713 238\n",
            "spam: 753 252\n",
            "size of train set: (1466,)\n",
            "size of test set: (490,)\n",
            "0.5142857142857142\n"
          ]
        }
      ]
    },
    {
      "cell_type": "code",
      "source": [
        "print(all_comments1)"
      ],
      "metadata": {
        "colab": {
          "base_uri": "https://localhost:8080/"
        },
        "id": "j_xTUKm7vtn7",
        "outputId": "45d9514d-1257-40ce-e45b-401bb89c8c87"
      },
      "execution_count": null,
      "outputs": [
        {
          "output_type": "stream",
          "name": "stdout",
          "text": [
            "[['bigger picture better theyre blocking ambient light painting wall black buying screen need worry losing light projector', 0], ['linus drop tip', 0], ['there grown man like linus jumping box tech hand make smile', 0], ['best crack ive seen', 0], ['m y oof habe money buy buy big oled ffs', 0], ['laugh', 0], ['hrefhttpswwwyoutubecomwatchvurvspcjamptmsa press linus exit', 0], ['isnt cheap', 0], ['point jake room linus house', 0], ['fart', 0], ['friend told video hunt fucking obnoxious click bait title unsubbed', 0], ['lumen lumen thats way weak', 0], ['projector cardboard box', 0], ['im thinking jackery farting', 0], ['hahahaha quotbest bang buckquot yea sure nice hrefhttpwwwyoutubecomresultssearchqueryadada best bang buck true p projector got amazon paired quot screen l', 0], ['quotdude therere video makequot time linus make video project house get write cost cost project k projector business expense', 0], ['epson rly happy video', 0], ['ahhhdreams goal', 0], ['box mounted projector gave anxiety', 0], ['follow result room painted', 0], ['hrefhttpswwwyoutubecomwatchvurvspcjamptmsa little brother unplugged controller feel included', 0], ['yankee think cheap stuff dlls americanos mexico pensamos wey eso e el salario aao americanos venezuela ese proyector vale ma que mi casa', 0], ['mildly creative production canadian dollar omg im poor hahhaa', 0], ['canada usa', 0], ['linus ask fart go bonus', 0], [\"you'll need turn ac pay guy spent\", 0], ['av receiver', 0], ['black counter sadge', 0], ['meh want drool projector check barco m screen midday single projector smaller model medium room tou imax d thing', 0], ['love mike finnegan tshirt', 0], [\"hrefhttpswwwyoutubecomwatchvurvspcjamptmsa close eye listen contest sound wrong y'\", 0], ['going painting wall project screen', 0], ['ginger guy look like discound paymoneywubby', 0], ['jake wheel linus amp yvonnes marriage', 0], ['linus drop dtips strike', 0], ['quotill yoursquot quotokquot xd homiesexuality finest', 0], ['venta black pls', 0], ['ad start guy tell know video feature exact projector', 0], ['paint room musou black', 0], ['skip good', 0], ['life better laser', 0], ['linus clumsy fool hard watch content lol', 0], ['hrefhttpswwwyoutubecomwatchvurvspcjamptmsa look like inch', 0], ['like new guy', 0], ['linus drop tip', 0], ['whats toboggan summer', 0], ['jvc medium room looking upgrade thank convincing way tim v', 0], ['min linus drop', 0], ['got spare k borrow projector', 0], ['way bring sponsor get damn time y', 0], ['quotjoking joking im youquot lmao y', 0], ['abrare playing controller', 0], ['cheapbrbrbrbrbb', 0], ['linus video theater room screen andor use talk paint', 0], ['steam download internet speed mp game client download', 0], ['kid', 0], ['youre painting room vantablack right right y', 0], ['im excited linus durability drop test gotta sure going hand', 0], ['early s went school got trouble classroom projector playing game understood going damage fun lasted', 0], ['hrefhttpswwwyoutubecomwatchvurvspcjamptmsa lol silly boy', 0], ['got spoiled train dragon', 0], ['control light painting screen black dont bouncing lightbrbralso general rest room black theaterbrbryou mention video watching commented', 0], ['quotquotits kquot', 0], ['receiver', 0], ['need black room black light reflection light bleed haha', 0], ['bought year gothis video going madisnt', 0], ['projector properly calibrated room ready y\\'y\"', 0], ['hey linus hope laser beamer dousnt set wall', 0], ['hundreads thousends dollar thats u sebastian peanut u buy', 0], ['yep linus tech drop', 0], ['yo guy video samsung freestyle home theater projector appreciate critique', 0], ['welli gig p hrefhttpswwwyoutubecomwatchvurvspcjamptmsa', 0], ['way people afford credit card terrible idea stop going debt people', 0], ['paint wall quotvantaquot black', 0], ['look like shit washed barely contrast yuck', 0], ['paint wall black', 0], ['fart', 0], ['linus dropping grey said wasted lol', 0], ['drop dollar projector smooth', 0], ['avr input component input handle day lol', 0], ['im loving fart', 0], ['u fart', 0], [\"quoti wanted hear noise makesquot heard noise y'\", 0], [\"let's real come moment linus drop excessively expensive piece equipment\", 0], ['okay linus ive dropped share epson projector y', 0], ['wasnt train dragon hidden world', 0], ['heck linus expect projector float hrefhttpswwwyoutubecomwatchvurvspcjamptmsa disgusting', 0], ['knew eventually youd come projector oled cool real cinematic experience size king', 0], ['quotmini plex server running zimaboard gb ssda hrefhttpswwwyoutubecomwatchvkpgmiajplaehttpswwwyoutubecomwatchvkpgmiajplaeaquot', 0], ['great choice let know need help setting killer room yz', 0], ['compare dell sql', 0], ['got free projector work ive screen awhile random reason mounted projector love great projector year old free want invest projector setupsbrbrwill', 0], ['linus doesnt drop expensive hardware im interested video y\"', 0], ['it\\'s longer \"ifa linus drop it\\'s \"whena \"how timesa', 0], ['droppus tech tip', 0], ['ah rich people glooping new stuff asking poor subscriber buy stuff', 0], ['ultimate home theater budget lg c oled run calman autocal youve got reference grade tv accurate bigbudget hollywood studio use approach watching master netflix recommen', 0], ['normally hate kind video quotyeah video look good tv sound good phone speakerquot time genuinely watching train dragon unfinished wall tv thinking', 0], ['u fart question cliff hanger damn wanted know', 0], ['linus love he right saved ton cash yzbrbrbtw need projector gonna wait come think k justifiable like big oled tv', 0], ['linus jake brings joy', 0], ['amazed mb download speed uncommon usbrbrin sweden people mb download speed hell speed house running g modem wood yes upload', 0], ['theyre cute couple gonna enjoy new home', 0], ['tear people like excited', 0], ['linus review crypto mining hardware', 0], ['daily driver vava chroma quot vava alr screen love bought nvidia shield tv tube freaking improves p hsbs hou d content ai upscaler', 0], ['best \"segue sponsora', 0], ['projector person leave expert linus', 0], ['yknow finish watching hurt wallet thinking possibility spending renovationmoney beast', 0], ['projector look like world darkest black painted wall', 0], ['theyre going future', 0], ['tour iraq small projector time bunk movie night area having projector simple solution portable entertainment veteran projector home', 0], ['dr evil quotlasersquot reference bunsubscribeb', 0], ['wait see rgb laser projector completely new game waiting cristie k rgb delivered september', 0], ['im sitting trying figure thing hanging car forza realize damn electrical box', 0], ['admit expecting bit dollar read quotcheapquot thumbnail', 0], ['dropped instantly paused video look price lmfao second later tell itbrbrget bigger native k projector water cool', 0], ['black level time good room darkbrbrpaint monument grey black black look cheap use matte finish brbrmake sure paint ceiling', 0], ['far exponent oh yep thanks mate', 0], ['said newer video theyre going paint room darkest black', 0], ['nice rich dollar receiver', 0], ['linus dont tell buy kaleidescape home theater', 0], ['seeing linus squatting box holding thing anxiety inducing', 0], ['dont hype', 0], [\"jake saying quoti want itquot beginning crack time y'\", 0], ['drop video mood', 0], ['today unsolved mystery hrefhttpswwwyoutubecomwatchvurvspcjamptmsa actually fart', 0], ['hmm think waited sonys new vlp xw', 0], [\"ma man playing fh controller y'\", 0], ['guess quotbest bang buckquot depends money havebri think average consumer based average household income better looking optoma uhd like m p m lag k', 0], ['previous car didnt cost half projector cost', 0], ['hrefhttpswwwyoutubecomwatchvurvspcjamptmsa linus', 0], ['lumen', 0], [\"cooperate av living use projector weekly projector way durable think laser based pj's way better lamp based pj's\", 0], ['power thing draw', 0], ['know long throw projector ust like epiqvisiona\" ultra l', 0], [\"epson ub entire projector community favor compare laser contrast lamp based can't wanting know par better black level wise\", 0], ['paint room reflectivemost light absorbing black paint hand action lab guy amazing', 0], ['love minute minute product review dedicated finding speaker', 0], ['hrefhttpswwwyoutubecomwatchvurvspcjamptmsa holy crud look great', 0], ['wow', 0], ['way budget lmao', 0], ['thud', 0], ['linus droping thing stopped funny irritating reckless stuff like smh', 0], ['curious plan wall amp ceiling acoustic wise', 0], ['show clip train dragon call', 0], ['seen good projector awful plain white wall looked pretty good', 0], ['fart lmao', 0], ['funny watch linus excited waddling pant dont fall showing', 0], ['ok far country mile', 0], ['thats train dragon', 0], ['ahhh wall wall', 0], [\"fart hahahahahaha y'\", 0], ['pffft christie projector bust kidding epson actually good brand', 0], ['house point jake know house linus', 0], ['infinite contrast trash', 0], ['wowbri fun studying jerry rig universityyy', 0], ['cheap a', 0], ['linus drop usd worth tech asked review stuff', 0], ['hrefhttpswwwyoutubecomwatchvurvspcjamptmsa showing train dragon said second actually train dragon hidden world', 0], ['linus attach carbrand invite fan moviebrbrorder pizzasbrthis time people', 0], ['hope propper acoustic treatment home theatrebasstraps man help needed', 0], ['drop k projector place k projector jank cardboard box stand upgrade jank cardboard box stand', 0], ['movie train dragon hidden world httyd', 0], ['hrefhttpswwwyoutubecomwatchvurvspcjamptmsa best partbrbrlinus dont know precision take mirror align thing drop slam sure cost loss picture quality', 0], ['drop tip return', 0], ['ah yes cheap', 0], ['alright guy laugh today thats needed', 0], ['unscripted site video improvises drop stuff best', 0], ['bet recording doesnt product like justice', 0], ['swear linus wasnt owner ltt hed asked stay room unboxings test hed assigned holding script printed paper tablet device cost t', 0], ['hed probably trusted opinion high end stuff like microled screen looked he amazed quotcheapquot projector white wall despite having high end oled stuff', 0], [\"wanted medium room i'm wishing yy'y'\", 0], ['hrefhttpswwwyoutubecomwatchvurvspcjamptmsa quot oh hi markquot', 0], ['hit true', 0], ['wear vr headset face instead', 0], ['ltt video traveling long distance expensive fragile electronics', 0], ['yea k projector supposed \"bang bucka pssh', 0], [\"anybody click expecting buy projector it's\", 0], ['dont mean insult id watching lot video toggle clickbait title informative title instead id like know video watch promise twis', 0], ['grand', 0], ['hrefhttpswwwyoutubecomwatchvurvspcjamptmsa train dragon actually', 0], ['hrefhttpswwwyoutubecomwatchvurvspcjamptmsa classic', 0], ['surive fall worth getting imo', 0], ['hey linus realllllllly room quotvanta blackquot', 0], ['narrator quotbut cameraquot', 0], ['damn kind want', 0], ['better samsung lspt right price sale', 0], ['great alternative sony vplvwes nearly price better image processing native k epson lcd aging', 0], ['want brjust watched good time time watch actuall video', 0], [\"ceiling cable conduit didn't need newer cable can't run tearing ceiling y\", 0], ['soooo weird hdmi handshake problem receiver jsut got firsthand couple day ago gtprojectorgtreceiver', 0], ['linus drop tip', 0], ['anthem receiver like intel upgrade series', 0], ['tell linus allowed touch', 0], ['mb y happy kb', 0], ['sure screen width room use curtain bring look good', 0], ['linus wont video plug box open middle y', 0], ['pretty sure guy edit video proper change youre misleading people telling viewer feature projector', 0], ['dont understand person drop soooo stuff', 0], ['linus literally handle he given like kid toy quick jerky violent movement involve basic pushing pulling action man literally grown toddler y', 0], ['advertisement', 0], ['thats awesome ginormous', 0], ['epson l projector link working', 0], ['clumsiest guy ive seen youtube dude think touch lol', 0], ['paint room vantablack', 0], ['hrefhttpswwwyoutubecomwatchvurvspcjamptmsa boy boy', 0], ['use quothow train dragonquot movie copyright problem', 0], ['paint room vanta black', 0], ['jvc r better', 0], ['quotno dont cameraquot', 0], ['dropped understand concerned linus carry expensive thought clumsy', 0], ['legitimate question like vantablack wall projector displayed result image oled level hdr experience', 0], ['wouldnt image technically wouldnt', 0], ['expensive thing linus dropped', 0], ['linus drop tip', 0], ['sadly mgbps', 0], ['love linus amp look like joyful kid opening christmas present', 0], ['shoulda called quotlinus drop grandquotbut hit expense house', 0], [\"pant y'yy'y keeping younger generation y'y'\", 0], ['hipsterkid got working told pant cool yyy wondering ur pant falling downbut notu lied fyi dumb hahahate guy ur clearly surrounde', 0], ['support d', 0], ['paint room musou black paint amazing resultbri hope message guy upvotelike help attention', 0], ['hdr', 0], ['seasonic company audio interface long time ago', 0], ['loved change train dragon midsommer real quick', 0], ['look like hl tripmine', 0], ['fart bcutb', 0], ['running laser pj grey alr screen living room work fairly sun zipscreen outside window', 0], ['goddamn sad come channel long time jake unhealthy', 0], ['remember d tv cheap point going like ish grand', 0], ['projector sick wish wall space project', 0], ['hrefhttpswwwyoutubecomwatchvurvspcjamptmsa quottaco boutquot eh', 0], [\"moment dropped speakerbox safe sheet metal love ityyy'\", 0], ['hrefhttpswwwyoutubecomwatchvurvspcjamptmsa im joking im joking im brbrjake throw shade xd', 0], ['love know big adssponsors pay house mean house video covered big chunk point interesting smart idea', 0], ['watching forsee linus grandchild build holodeck', 0], ['thought projector good im watching video hehe thanks experience', 0], ['everytime linus handling equipment hand cringe he clutz', 0], ['hrefhttpswwwyoutubecomwatchvurvspcjamptmsa thats said', 0], ['l short throw epson freakin awesome', 0], ['bad unit support dolby vision format major concern discussion hdmi cable run mentioned signal degradation apparent foot run hdmi cable best practice utilize k', 0], [\"year it'll affordable buy\", 0], ['want', 0], ['linus tried xiaomi k laser projector review time thanks', 0], ['standing projector blasting light', 0], ['plz black paint wall', 0], ['brand epson', 0], ['love linus new bracelet', 0], ['tf backroom', 0], ['petition linus drop tip t shirt ltt store', 0], ['drop', 0], ['thousand love video informative laugh', 0], ['got projector buck thing k', 0], ['fucking love jake need video haha', 0], ['anker nebula capsule max work perfectly fraction price bad experience epson shit school projector', 0], ['musou black paint theater room', 0], ['cyberpunk work lol', 0], ['greedy billionaire underpays worker fun right elong', 0], ['credited train dragon incorrectly thats actually film ill forgive projector look absolutely gorgeous looking basic p ip monitor', 0], ['day employee tell linus straight quotu dumb motherferquot day', 0], ['hrefhttpswwwyoutubecomwatchvurvspcjamptmsa midsommar hell movie', 0], ['hrefhttpswwwyoutubecomwatchvurvspcjamptmsa mean relevant relevant coming bc drama pretty big latch', 0], ['ready brightness drop colour change time weve got epson laser projector work noticeable especially youve got new compare', 0], ['big difference model laser lcd big difference brightness v lm application plus l mad color calibration function builtin camera assistance', 0], ['fairly heavy use probably max brightness wont guarantee didnt set stupidly noticeable oldest one probably eblunl one older model ann', 0], ['model kind usage running max brightness isnt right theyre newer getting thousand hour maybe brightness drop supposed drop quickly', 0], ['guy use vanta black wall', 0], ['ah yes time installment quotlinus get employee renovate house getting sponsor pay itquot', 0], ['psychorabbitt im sure refuting agreeing butokay', 0], ['landon tapscott fair employee compensated intel give grand stuff pay linus sponsorship he shilling overpriced merch', 0], ['fair basically renovates employee home intel tech upgrade', 0], ['chromecast suck', 0], ['remote look like comcast demand remote family', 0], ['poor ginger away light source he gonna sunburned', 0], ['cool bean', 0], ['dont need black room notice cinema covered deep subdued colour everythign velvet type meterial absorbs light black mistake black box nausia difficu', 0], ['imma need linus speed internet', 0], ['havent seen linus drop', 0], ['screen important projector', 0], ['mean powered linus course dropped y', 0], ['tech new house \"holy sta level tech nerd heaven living house', 0], ['looking realize poor watching room life city nice linus thriving living', 0], ['fsm gang check', 0], ['black paint', 0], ['fat guy love short', 0], ['company work today bankrupt one', 0], ['worng need wall dark grey best darkness', 0], [\"recall correctly wasn't new bos linus's work new ownership linustechtips recall correctly linus's meal organised\", 0], ['thumb metric prefer focused tone supposed funny', 0], ['wonder vantablack cool', 0], ['ordering sort different food linus', 0], [\"i'm thirsty\", 0], ['hrefhttpswwwyoutubecomwatchvurvspcjamptmsa reeeeeee thats train dragon hidden world', 0], ['linus stop dropping stuff seriously', 0], ['oh god worth wait linus drop tipsyyy', 0], ['deal s laser projector epson careful ive come box work slightly damaged box', 0], ['jake quotonly grandquotbrme hoping like', 0], ['ay believe episode paying linuses house', 0], ['paint wall musou black paint absorb light', 0], [\"incredible editing it's easy forget talent screen enjoying content y\", 0], ['dual hdmi input extremly useful ive witnessed hdmi port projector fail induction long hdmi cable frying input second literal second life unfortunate event probably intended r', 0], ['jakes ribbing linus great relationship care', 0], ['milk dont mind', 0], ['literally time', 0], ['thought time linus shaked box quotis dropping nowquot sort disappointed happened unboxed projector dropped projector laughed hard xd', 0], ['linus know minimal stuff treat thing poorly sad people loving kind content kind personbrlooks like nice know break thing', 0], ['quotlinus drop stuffquot allowed meme thought hate getting end', 0], ['ltt need linus away hardware heart attack time', 0], ['paint projector wall white wall vantablack best light control reflective light projector absorbed vantablack thought d', 0], ['german quottolpatchquot facepalm linus', 0], [\"didn't like jake projector better surprise\", 0], ['best segway best outro game video ending imo', 0], ['need updated supercut shit linus drop', 0], ['linux wont drop cost', 0], ['update room darkened', 0], ['wall quotblackest blackquot supposed absorb visible light', 0], ['quotits grandquot', 0], ['shade cyberpunk actually love game', 0], ['quotwhats worthquot meh imma drop', 0], ['replaced tv xgimi horizon pro projector month doesnt love playing elden ring inch k screen regret', 0], ['liquid cool', 0], ['mean definately spend k projector low latency old optoma projector hdx instance latency m report matter test grand projector r', 0], ['problem epson ub stomach buying literally replaced projector time quotlemon lawquot switch brand new refurb started having brand new issue', 0], ['love inch remote ultra slim small samsung tv lose thing constantly', 0], [\"awwwww way it's motorized\", 0], ['saw butter finger drop projector waste old saying describes situation quotis like giving pearl pigsquot good doesnt appreciate', 0], ['linus took page sarah book spend extreme tech upgrade single item lol', 0], ['ask house complete playlist involved house watch beginning end', 0], ['linus handle nice thing leave tech guy', 0], ['got christmas epson dealer big format printer field engineer printer nice itedit box house tiny use', 0], ['measured real brightness lumen dcip color gammut', 0], ['fart', 0], ['noise life cycle lost year warrenty', 0], ['keyboard', 0], ['cheap', 0], ['missing want projector tv', 0], [\"inch tv's non existent want big screen need projector\", 0], ['linus join breakdancing crew s story pant', 0], ['use quot oh god quot getting hand', 0], ['im actually thinking jake life linus', 0], ['screen innovation screen diamond love make image pop light', 0], ['lost min hrefhttpswwwyoutubecomwatchvurvspcjamptmsa dollar nope aint happening budget', 0], ['dollar need supply drink munchies price love way people quotcheapquot course work bloody', 0], [\"linus dropping beat y'yz\", 0], ['love cut quotdid fartquot xd', 0], ['k d support stick ub pretty amazing movie better option gamers cinema watcher', 0], ['response time', 0], ['try flashbang max brightness', 0], [\"where's jake's room house\", 0], ['hdmi epson projector split screen make awesome game party', 0], ['love epson projector', 0], ['bthonkb', 0], ['australian thanks', 0], ['know quotgoofball known linusquot', 0], ['guy need check christie k projector dolby cinema', 0], [\"feel like i've watched\", 0], ['let linus house', 0], ['use vantablack wall', 0], [\"drive crazy linus house order mean setting projector box wall electrical floor finishedbrbri'd love actually right order mounted correc\", 0], ['youre wandering buy', 0], ['david lacziko worth think moviesbrbrdont actually thats terrible advice lmfao', 0], ['xnyxiee sell house lol', 0], ['buy whatchu mean', 0], ['thr movie isnt httyd httyd thw', 0], ['bryou dont look', 0], ['linus quot mb home amazingquotbreuropeans quotno isnt thats second cheapest option ispquot', 0], ['thats nice budget option like jvc dlanz k laser projector provides superior performance thats k thing im sure dlanz input lag quotgaming modequot claim m source', 0], ['guy try painting surround vanta black paint similar', 0], ['time buy vantablack paint wall', 0], ['heard doctor forbid holding nd kid fiasco having tell born way daddy oopsie born', 0], ['ive got use digital projector kind feesible shine projector special screen thats built wall wouldnt deal people casting shadow screen walkin', 0], ['let play midsommar test projector', 0], ['linus voluntarily drop speaker instead knocking look like disposable wood trim', 0], ['thank showing k projector', 0], [\"wouldnt linus dropping y'\", 0], ['linus dont disconnected successful people going projector including price screen mounting hardware sound cable neat stay grounded bud', 0], ['intro win', 0], ['quotcan use tiniest pc external hard disk youre running pc mac firewire supportquot', 0], ['quotkids candy storequot', 0], ['project country mile', 0], ['hrefhttpswwwyoutubecomwatchvurvspcjamptmsa boy locker room', 0], ['ahhh yes sell pen', 0], ['seriously dropped k projector like year ago blown water god damn', 0], ['prefer bigger harder lose remote long work', 0], ['projector shitty location drop put shitty locationbrhe learns', 0], [\"brah i'm hitting kb lol\", 0], ['ill stick sony vwes true k youll new vwes price laser cool hdr y bulb easy replace half life hour epson pretty dull', 0], [\"door toe light blocker extends awesome called i've seen like\", 0], ['need girlfriend cringe worthy watching', 0], ['xnyxiee clearly wasnt referring yai', 0], ['linus literally married kidsbron guy literally require relationship', 0], ['weird having watched linus year amp coming he different fine like going rhett link', 0], ['recent time linus flexing peasant nice enjoy surround thing want', 0], ['watching samsung wow look great', 0], ['quotdid fartquot', 0], ['seriously guy bwindowb theatre room ive epson number year room window wallsceiling painted black seriously dark know best color q', 0], ['projector support d deal', 0], ['bruh wtf bandwidth', 0], ['second skip introduced attack independent advertising video', 0], ['linus doesnt drop isnt good', 0], ['talking k projectorbrquotwow look amazingquotbrme watching p monitorbrbrbrquotthats crazyquot', 0], ['dont change ltt like geeking friend wack new tech mile better marketing firm trash legacy medium hope day box ability genuine feeling medium comp', 0], ['today episode linus drop tip gunna drop bomb projector word sponsor pillow cushion protects drop', 0], ['recognize jerry rig university shirt great', 0], ['grandma literally got exact projector free new house mounted screen', 0], ['grew kb somewhat fast download speed mb mind blowing', 0], ['yes im glad make total sense', 0], ['hrefhttpswwwyoutubecomwatchvurvspcjamptmsa weather stripping switch thing', 0], ['best bang buck projector eh blooks priceb bswitches tab video continues watchb', 0], ['paint room vantablack', 0], ['nerd power time lol', 0], ['drop count', 0], ['swear god linus drop shit purpose', 0], ['whats car game drifting play', 0], ['linus thought vantablack black type paint wall ceiling wonder better', 0], [\"blinus casually dropping electronicsbbrclassic y'\", 0], ['hrefhttpswwwyoutubecomwatchvurvspcjamptmsa actually train dragon hidden world train dragon fishlegs mustache nd movie', 0], ['keyboard', 0], ['paint wall black use high contrast grey screen care reflection sure', 0], ['man projector ive got k lazer projector basement yz', 0], ['paint room black level image quality x better spoke soon lol', 0], ['distance size image looking new projector inch screen', 0], ['frankly id watch movie p projector k tv', 0], [\"linus life insurance astronomical stunt many'y'y'\", 0], ['\"i love sponsor farta', 0], ['cool came resin d printer u style pixel shift increase resolution print', 0], ['cringe build reminds watch fist minute \"the face deatha yr old brtrauma based mind control y\\'yyyyay\\'\"', 0], ['chat la\"ng sy luan chac thach ban cover na y lam na y chac mung em cang toa n the ekip f studio', 0], [\"linus promise best bang buck projector market country milebrle nuff' said i'm getting brlinus clear expensive piece kit dollar brle ooh that's going\", 0], [\"gully create new yt channel dedicated linus butter finger y'\", 0], ['thats rad im happy bro', 0], ['fart', 0], ['bang buck k', 0], ['ltt better drop end bos', 0], ['linus mother dropped baby hell drop single time', 0], ['hrefhttpsyoutubedrlcaptmkhttpsyoutubedrlcaptmka', 0], ['upscale video card test basically', 0], [\"got excited second thought draw win pc y'y'y'y'y'y' realised fake hahaon comment replied\", 0], ['paint wall musou black absorb light bounce awesome', 0], ['remote controller couch like eat broken time sitting couch ate', 0], ['soooo swell', 0], ['great projector epson literally gave bsighs pb', 0], ['know brand model receiver', 0], ['going use vantablack similar wall', 0], ['hrefhttpswwwyoutubecomwatchvurvspcjamptmsa jake fartsbra hrefhttpswwwyoutubecomwatchvurvspcjamptmsa linus quotdid fartquot im dead lol', 0], ['dont know dont cheap lol', 0], ['guy use vantablack paint', 0], ['going judge projector white room', 0], ['rep epson store best buy store projector shiz superior oh try apps control thing', 0], ['love recessed patch hide plug double strain relief', 0], ['commercial av technician im jealous got epson projector supply issue lol', 0], ['use black paint room', 0], ['need know got automatic door', 0], ['paint wall pure black paint black way dont reflection', 0], ['thats glorious', 0], ['cliffhanger', 0], ['meh native k brnor variable refresh rate brand k good deal br year ago acceptable ridiculous', 0], ['aside literally shitting form competition performance image qualitybrbrlmao okay dude', 0], ['k dang bank lol', 0], ['jakes reaction linus dropped projector', 0], ['got viewsonic pghd special sure look good fhd watching movie playing game great experience quot screen bedroom', 0], ['owned epson projector like best', 0], ['epson projector amazing year', 0], ['hrefhttpswwwyoutubecomwatchvurvspcjamptmsa', 0], ['need bubble wrap floorswall linus testament sturdy stuff linus dropped year', 0], ['shouldve bought new jvcs instead higher native cr true k k quotwolbulationquot similar projector fake kbrbrit lower input lag true', 0], ['dropped stunt double hope go warranty', 0], ['wife heard quotlets thicker quot brwife wth watching brme geek comparing technologybrwife ahhhhh make sense', 0], ['hmm compare sony oled quot xr aj k', 0], ['linus dropthings', 0], ['need updated video screen', 0], ['love linus dropping inch oled g happen lg', 0], ['mb download steam k usage', 0], ['fun game somebody fart', 0], ['production afford sure like channel touch average user', 0], ['said quotvaluequot expecting thousand dollar lollllll', 0], ['oh hi mark', 0], ['tbh doesent look great like black ultra black', 0], ['love chapter dropped quotpainquot', 0], ['fake laughing remote thickness bad', 0], ['nice setup guy fun video', 0], ['hrefhttpswwwyoutubecomwatchvurvspcjamptmsa quotawww look pinner saw big onequot linus confirmed', 0], ['umm pant linus wearing look great kinda hope theyre upcoming merch item', 0], ['benqs series good home pretty amazing im sure better budget check benqs line', 0], ['hrefhttpswwwyoutubecomwatchvurvspcjamptmsa surprised linus id surprised didnt come close dropping super expensive video', 0], ['personally im fan large remote hate little dainty one lost broken super easy', 0], ['began watch movie projector year ago plan buy tv better projector im happy price bought', 0], ['samsungs ultra short trow beamers nice', 0], ['close video seeing price door need door', 0], ['deaf felt sound', 0], [\"i'll youry\", 0], ['paint paint block light', 0], ['ive installed projector decent', 0], ['linus man need checked dropping problem getting concerning', 0], ['linus drop thing', 0], [\"love huge epson remote they're difficult lose\", 0], ['quotand love sponsor fartquot', 0], ['watercool', 0], ['ultimate home theatre experience meta quest cost significantly k projector', 0], ['good point bit bulky doesnt work glass experience vr get smaller innate vision support blow stuff like water', 0], ['dont like black wall use darker shaded color flat paint maroon dark cyan flat latex popular home theater ive helped set', 0], ['hrefhttpswwwyoutubecomwatchvurvspcjamptmsabrbrquotim joking im youquotbrbruh lmao', 0], ['controller play forza', 0], ['school cheap epson projector wrote st epson uh yeah', 0], ['linus allowed touch sensitive equipment anymore y', 0], ['hrefhttpswwwyoutubecomwatchvrfnfqqjshttpswwwyoutubecomwatchvrfnfqqjsa', 0], ['big fan projector movie joy look a interesting', 0], ['hrefhttpswwwyoutubecomwatchvurvspcjamptmsa guess type complaint tech youtubers remote guy doesnt matter click couple butto', 0], ['linux actually pay pocket lmg shill money', 0], ['im starting love editing mispronunciation random moment y', 0], ['iicongratulations yz shortlisted winner claim pcy\"y\"', 1], ['man earned respect subscription', 0], ['guess afford id drop', 0], ['jake need stop hand movement watching fat jiggle im eating make want puke', 0], ['iicongratulations yz shortlisted winner claim pcy\"y\"', 1], ['quotits controlled dropquot linus wear tshirt printed', 0], ['video painting room vantablack', 0], ['iicongratulations yz shortlisted winner claim pcy\"y\"', 1], ['hrefhttpswwwyoutubecomwatchvurvspcjamptmsa thats estranged nevermentionedinfamilyreunions mario brother broke away tradition plumbing chose ac technician', 0], ['iicongratulations yz shortlisted winner claim pcy\"y\"', 1], ['fixed lighting room guy look worse normal', 0], ['iicongratulations yz shortlisted winner claim pcy\"y\"', 1], ['alright here question year lot people including said steam downloading somewhat broken inconsistent slow reason decide alright im going x dow', 0], ['iicongratulations yz shortlisted winner claim pcy\"y\"', 1], ['linus drop tip feel bad knowing exercise warranty recorded drop voiding', 0], ['iicongratulations yz shortlisted winner claim pcy\"y\"', 1], ['hrefhttpswwwyoutubecomwatchvurvspcjamptmsa came forwelcome', 0], ['iicongratulations yz shortlisted winner claim pcy\"y\"', 1], ['put unaffordable category matter better expensive option thats nearly spends tricked pc', 0], ['iicongratulations yz shortlisted winner claim pcy\"y\"', 1], ['linus feel like frequency quotdrop accidentsquot increasingat camera lol', 0], ['iicongratulations yz shortlisted winner claim pcy\"y\"', 1], ['project waiting epson projectorsstupid global supply chain hehe', 0], ['iicongratulations yz shortlisted winner claim pcy\"y\"', 1], ['linus believe get mb home australian like quothuh thought itd faster therequot realise thats capital b bcries mbps australian nbnb y', 0], ['iicongratulations yz shortlisted winner claim pcy\"y\"', 1], ['love seeing linus he fun kind amusing person deserves success he sharing life thats great', 0], [\"linus climbing quotwe forgot audioquot section feel trying package delivery van y'\", 0], ['iicongratulations yz shortlisted winner claim pcy\"y\"', 1], ['laughing jvc laser true native k projector', 0], ['lol k cheap d', 0], ['iicongratulations yz shortlisted winner claim pcy\"y\"', 1], ['quotonly grandquot', 0], ['iicongratulations yz shortlisted winner claim pcy\"y\"', 1], ['bought benq ht light cannon lightcontrolled room absolute best hdr cinema experience money amazing', 0], ['iicongratulations yz shortlisted winner claim pcy\"y\"', 1], ['hrefhttpswwwyoutubecomwatchvurvspcjamptmsa happened linus dropping expensive thing like usual miss', 0], ['iicongratulations yz shortlisted winner claim pcy\"y\"', 1], ['hrefhttpswwwyoutubecomwatchvurvspcjamptmsa germany mb xd', 0], ['epson remote size result corporate customer feedback company lose tiny one', 0], ['damn time wouldnt trust linus car case drop', 0], ['need linus dropping expensive tech jake laughing hard', 0], [\"video helped reach trading age thanks linus tech tip video coming y'y\", 0], ['bluefire animation dont like let like try there bacd trying', 0], ['feel like bot wouldnt surprised actual reply human multiple bot', 0], ['magicrice right honestly majestic watching bot pretend people', 0], ['moose confirm talk', 0], ['magicrice know', 0], ['bot escaped tf casual', 0], ['holy shit bot having convos lmao', 0], ['thank sharing vulnerable helping people thing blessing prayer x', 0], [\"kim sun start making profit use buy land that's appreciating asset utilised enjoyed whilst increasing value\", 0], [\"white stone thanks lot info appreciate i'll check\", 0], ['linus tec home soon running', 0], ['damn linus dropping shit time piss', 0], ['linus setting new quality standard linus drop proof', 0], ['wow horrible horrible horrible horrible horrible review impressed like motorized lens standard highend projection years ub likely better contrast video th', 0], ['need video expensive thing linus dropped', 0], ['m', 0], ['iicongratulations yz shortlisted winner claim pcy\"y\"', 1], ['benq w nvidia shield k player unreal white wall unrealbrbrwill eventually sony ht wireless surround soundbrbronce u projector reen moviestv showssports', 0], ['iicongratulations yz shortlisted winner claim pcy\"y\"', 1], ['need paint room black dark color clamp reflective light perceived brightness room better', 0], ['hrefhttpswwwyoutubecomwatchvurvspcjamptmsa try rob projector beat death remote think like ergonomic reason', 0], [\"making rethink amazon projector i've past year\", 0], ['iicongratulations yz shortlisted winner claim pcy\"y\"', 1], ['hope paint room musou black', 0], ['iicongratulations yz shortlisted winner claim pcy\"y\"', 1], ['goodbye monitor hello projector xd actually gaming room projector time played car game open world game lie gta witcher anthem game style cool projector controlle', 0], ['jakes mustash dirty lookin lol', 0], ['iicongratulations yz shortlisted winner claim pcy\"y\"', 1], ['jake gota start working linus', 0], ['iicongratulations yz shortlisted winner claim pcy\"y\"', 1], ['fart yyyy funniest thing', 0], ['iicongratulations yz shortlisted winner claim pcy\"y\"', 1], ['got epson ehtw new apartment p cheaper im happy turn tv season turn projector night', 0], ['iicongratulations yz shortlisted winner claim pcy\"y\"', 1], ['hmmm niceee youre annoyed neighbor house screen', 0], ['iicongratulations yz shortlisted winner claim pcy\"y\"', 1], ['wellll im buying', 0], ['iicongratulations yz shortlisted winner claim pcy\"y\"', 1], ['seriously watch maaaan linus drop tip meme old point lmao', 0], ['iicongratulations yz shortlisted winner claim pcy\"y\"', 1], ['fart', 0], ['tbh infinite cable based canada partially u phantom cable nonetheless bad company worth checking y', 0], ['iicongratulations yz shortlisted winner claim pcy\"y\"', 1], ['specie amused death', 0], ['thats took long cause tried able send sample linus drop actual use eventually sen managed d', 0], ['iicongratulations yz shortlisted winner claim pcy\"y\"', 1], ['hope guy like new video concept', 0], ['', 0], ['happen', 0], ['sub', 0], ['mom', 0], ['y r best', 0], ['', 0], ['love', 0], ['', 0], ['type content genius', 0], ['hiatpry', 0], ['kiss y\\'\"y\\'\"y\\'\"y\\'\"y\\'\"y\\'\"y\\'\"y\\'\"y\\'\"y\\'\"y\\'\"y\\'\"y\\'\"y\\'\"y\\'\"y\\'\"y\\'\"y\\'\"y\\'\"y\\'\"y\\'\"y\\'\"y\\'\"y\\'\"y\\'\"y\\'\"y\\'\"y\\'\"y\\'\"y\\'\"y\\'\"y\\'\"y\\'\"y\\'\"y\\'\"y\\'\"y\\'\"y\\'\"y\\'\"y\\'\"y\\'\"y\\'\"y\\'\"y\\'\"y\\'\"y\\'\"y\\'\"y\\'\"y\\'\"y\\'\"y\\'\"y\\'\"y\\'\"y\\'\"y\\'\"y\\'\"y\\'\"y\\'\"y\\'\"y\\'\"y\\'\"y\\'\"y', 0], ['puppy playtime real life', 0], ['hello beast', 0], ['jimmy', 0], ['mr random collab', 0], ['hey beasttoday birthdayi wish', 0], ['need money', 0], ['video', 0], ['dont u video', 0], ['wow', 0], ['vids subbed appreciate', 0], ['listo ya suscriba', 0], [\"n n' n n\", 0], ['feel bad jimmy cuz got broken watching couple love', 0], ['love mr beast amazing', 0], ['play roblox', 0], ['pensa que habaa ganado iphone pro max y al final fue otra persona que se hizo pasar por mrbeast triste queda pagua por el envao y todo estafaron', 0], [\"a'ame suscriba\", 0], [\"n'n n nnnn n nn'nnz n'nbrn\", 0], ['jimmy wont heart y\\'\"', 0], ['cara ta em porttugues', 0], ['hello mr beast', 0], ['canada weather bad right jimmy youre best', 0], ['pin y', 0], ['miss day hope post video hope better', 0], ['love youbrmr beast', 0], ['mr beast student loan', 0], ['wait cc audio', 0], [\"y'y'y'\", 0], ['son shirt', 0], ['waiting day hit m', 0], ['mrbeast dont upload new video', 0], ['mr best russia', 0], ['stayhome', 0], ['oops', 0], ['stayhome', 0], ['love video mrbeast', 0], ['noice', 0], ['mrbeast know rent country liechtenstein saying', 0], ['beanbean search k night max time rented', 0], ['fr', 0], ['easyyyy', 0], ['hello mrbeast love video new fan subscriber peru', 0], ['change scream', 0], ['hahahahahah amazinga hrefaboutinvalidzcsafeza', 0], ['hope run president nearly soon youre eilligible use large following propel office hopefully enact meaningful change terrible position party immense damage', 0], ['alright congratulation selected shortlisted winner', 1], ['ring miss exy\\'\" ave replaced mr beast burger daily bitey\\'', 0], ['alright congratulation selected shortlisted winner', 1], ['a', 0], ['alright congratulation selected shortlisted winner', 1], ['inspire lot thingsa', 0], ['hey jimmy love videosays', 0], ['alright congratulation selected shortlisted winner', 1], ['speak spanish original channel', 0], ['alright congratulation selected shortlisted winner', 1], ['genial esta en espaaol', 0], ['alright congratulation selected shortlisted winner', 1], ['posting waiting long lt', 0], ['alright congratulation selected shortlisted winner', 1], [\"jesus love y'\", 0], ['alright congratulation selected shortlisted winner', 1], ['vid make shed tear lt', 0], [\"y'y'y'brthanks watching leaving commentbrtelegram claim prize yzyz\", 1], ['scam meh bro', 0], ['mr beast oh cousin favorite tuber', 0], ['friend pleaseyy', 0], ['pls answer', 0], ['real mr beast', 0], ['alright congratulation selected shortlisted winner', 1], ['u', 0], ['millionaire brief case', 0], ['alright congratulation selected shortlisted winner', 1], ['karl picture sisterbrbrhim that\\'s time girlfriend brbrme \"sweet home alabamaa', 0], ['alright congratulation selected shortlisted winner', 1], ['clash hub', 0], ['lol', 0], ['easy challenge', 0], [\"y'y'y'brthanks watching leaving commentbrtelegram claim prize yzyz\", 1], ['mrbess', 0], [\"y'y'y'brthanks watching leaving commentbrtelegram claim prize yzyz\", 1], ['best youtuber good work mr beast', 0], ['brad pitt huh', 0], [\"y'y'y'brthanks watching leaving commentbrtelegram claim prize yzyz\", 1], ['video day', 0], ['', 0], [\"y'congratulations yzsyou selected shortlisted winnersbrbrtelegram claim giveaway prizeyzysyz\", 1], ['ending happy tearsyy', 0], ['welcome bro aa', 0], ['soudaivone', 0], ['mr beastbr tomorrow birthday p birthday', 0], ['mrbeasts vid', 0], ['sir single channel car', 0], ['brother want married dont money help', 0], ['job', 0], ['hell u', 0], [\"i'm fan\", 0], ['mr beast u giant smile face cuz ur video', 0], [\"i'm sub\", 0], ['gading fory', 0], ['come birthday pls', 0], ['viste estoy suscrito desde nino cudotenia yy', 0], ['halp sar', 0], ['thank mr beast', 0], [\"y' congratulation won prize right away yzy'\", 1], ['yeah awesome kind heart love watching video great job', 0], [\"y' congratulation won prize right away yzy'\", 1], ['help', 0], ['joshua camposok stinkyhooper', 0], [\"y' congratulation won prize right away yzy'\", 1], ['mil left', 0], [\"y' congratulation won prize right away yzy'\", 1], ['crazy entertaining good job feel bad', 0], [\"y' congratulation won prize right away yzy'\", 1], ['sign', 0], ['', 0], [\"y' congratulation won prize right away yzy'\", 1], ['challenge leave earth keep', 0], [\"y' congratulation won prize right away yzy'\", 1], [\"you're best mrbeast\", 0], [\"y' congratulation won prize right away yzy'\", 1], ['', 0], ['bulbasaur plush', 0], ['', 0], [\"y' congratulation won prize right away yzy'\", 1], ['send laptop', 0], ['wont', 0], [\"y' congratulation won prize right away yzy'\", 1], ['want play game', 0], ['hello tell karl girlfriend', 0], [\"y' congratulation won prize right away yzy'\", 1], ['dont space', 0], [\"y' congratulation won prize right away yzy'\", 1], ['r u going post vid ive waiting likw month half post soon thanks', 0], [\"y' congratulation won prize right away yzy'\", 1], ['yes', 0], ['play', 0], ['new subscriptor y\\'\"y\\'y\\'', 0], ['hey mr beast play plant v zombie plis', 0], [\"nearly got scammed mrbeast giveawayk dollar y'\", 0], ['gamingtrex happenes time u dont rude', 0], ['lindsey paul scammed easily', 0], ['congratulation yzyzays', 0], ['youtuber want money new equipment', 0], [\"isn't gonna\", 0], ['stop asking money', 0], ['pick filipino mrbeastyai', 0], ['', 0], ['pick', 0], ['omfg', 0], ['hey join team plzzzz', 0], ['mr beast', 0], ['dankie meneer dier dat jy ons gehelp het', 0], ['mr beast want play super sus', 0], ['podium vim pra portugal na yyyzy', 0], ['hi jimmy subbed', 0], ['', 0], ['mr te amo', 0], ['ur goal m suscribe', 0], ['chandler', 0], ['got covid', 0], ['night dreampt reason', 0], ['mrbeast cooki', 0], ['subscribed cookie', 0], ['wowfantastic', 0], ['dollar', 0], ['', 0], ['unicorn w health gonna come', 0], [\"aaayoo thanks commenting subscriber winnery' dm claim prize telegram onlyyzyzaa\", 1], ['rate soon idea run jimmy', 0], [\"aaayoo thanks commenting subscriber winnery' dm claim prize telegram onlyyzyzaa\", 1], ['insane y\"', 0], [\"aaayoo thanks commenting subscriber winnery' dm claim prize telegram onlyyzyzaa\", 1], ['true beast kind donating money poor true beast make challenge strong mr beast vids blow hope', 0], [\"aaayoo thanks commenting subscriber winnery' dm claim prize telegram onlyyzyzaa\", 1], ['mrbeast best', 0], ['youre', 0], [\"aaayoo thanks commenting subscriber winnery' dm claim prize telegram onlyyzyzaa\", 1], ['jimmy vids', 0], [\"aaayoo thanks commenting subscriber winnery' dm claim prize telegram onlyyzyzaa\", 1], ['beast', 0], ['hey sir needed k consider send money paypal needed return needed', 0], ['mr boost beast upload', 0], [\"y'congratulations yzsyou selected shortlisted winnersbrbrtelegram claim giveaway prizeyzysyz\", 1], ['vid coming', 0], [\"y'congratulations yzsyou selected shortlisted winnersbrbrtelegram claim giveaway prizeyzysyz\", 1], ['n\" nnn\\'', 0], [\"y'congratulations yzsyou selected shortlisted winnersbrbrtelegram claim giveaway prizeyzysyz\", 1], ['love mr beast subscriber year', 0], [\"y'congratulations yzsyou selected shortlisted winnersbrbrtelegram claim giveaway prizeyzys\", 1], ['u getting pretty close m', 0], [\"y'congratulations yzsyou selected shortlisted winnersbrbrtelegram claim giveaway prizeyzys\", 1], ['collab mr random', 0], [\"y'congratulations yzsyou selected shortlisted winnersbrbrtelegram claim giveaway prizeyzys\", 1], ['give lot money brgive money plz need money sir', 0], [\"y'congratulations yzsyou selected shortlisted winnersbrbrtelegram claim giveaway prizeyzys\", 1], ['hi', 0], [\"y'congratulations yzsyou selected shortlisted winnersbrbrtelegram claim giveaway prizeyzys\", 1], ['hi', 0], [\"y'congratulations yzsyou selected shortlisted winnersbrbrtelegram claim giveaway prizeyzysyz\", 1], ['point \"you\\'re gonna poora', 0], [\"y'congratulations yzsyou selected shortlisted winnersbrbrtelegram claim giveaway prizeyzysyz\", 1], ['india sir chance include game', 0], [\"y'congratulations yzsyou selected shortlisted winnersbrbrtelegram claim giveaway prizeyzysyz\", 1], ['going good life mrbeast', 0], [\"y'congratulations yzsyou selected shortlisted winnersbrbrtelegram claim giveaway prizeyzysyz\", 1], ['today commenting channel mr beast need mobile', 0], [\"watsap y' br\", 1], ['malayalis undoo', 0], ['ha', 0], [\"watsap y' br\", 1], ['dad love vids told friend', 0], [\"watsap y' br\", 1], ['nn zn nyaiay\"', 0], ['hey mrbeast help storror', 0], ['hey mrbeast help storror', 0], ['hey mrbeast help storror', 0], ['hey mrbeast help storror', 0], ['hey mrbeast help storror', 0], ['hey mrbeast help storror', 0], ['hey mrbeast help storror', 0], ['hey mrbeast help storror', 0], ['hey mrbeast help storror', 0], ['hey mrbeast help storror', 0], ['hey mrbeast help storror', 0], ['hey mrbeast help storror', 0], ['hey mrbeast help storror', 0], ['hey mrbeast help storror', 0], ['hey mrbeast help storror', 0], ['hey mrbeast help storror', 0], ['hey mrbeast help storror', 0], ['hey mrbeast help storror', 0], ['hey mrbeast help storror', 0], ['hey mrbeast help storror', 0], ['hey mrbeast help storror', 0], ['hey mrbeast help storror', 0], ['hey mrbeast help storror', 0], ['help storror', 0], ['mr beast great', 0], ['sir chance play game', 0], ['ok', 0], ['quotcan buy new rtx tiquot', 0], [\"watsap y' br\", 1], [\"yy''\", 0], ['bhai india ayo free petrol', 0], ['mr random usa', 0], ['mr beast', 0], ['hrefhttpswwwyoutubecomwatchvhdytmkxnbamptmsa lucky guy bringing dollar wife man', 0], [\"lol y' watsap y' br\", 1], ['love video best video mr beast love', 0], [\"watsap y' br\", 1], ['sooo easy house couved year', 0], [\"watsap y' br\", 1], ['eat time india dum biryani', 0], ['ja vi elsker dette landet som det stiger frem furutrar vidt vannet med tusen hjem elsker elsker det tenke pvar far og mor den saganatt som senker drammer pvar jord', 0], ['love sir', 0], [\"watsap y' br\", 1], ['pakistani plees bugati devo', 0], ['stop begging comment job', 0], ['lmao happen kid', 0], ['\\'n n \"n', 0], ['hlo brmr beast plz help', 0], ['nolan room funny', 0], [\"let talk y congratulation y'yzyz\", 1], ['iii thanks comment pm yzyz', 1], ['spend room year easy', 0], ['iii thanks comment pm yzyz', 1], ['loved vidio', 0], ['iii thanks comment pm yzyz', 1], ['hrefhttpswwwyoutubecomwatchvhdytmkxnbamptmsa funny momenty', 0], [\"thi~ksfii' iitchi~gbrwhitsipi12148149371y'lets talk bigger introduce\", 1], ['fan', 0], [\"thi~ksfii' iitchi~gbrwhitsipi12148149371y'lets talk bigger introduce\", 1], ['help palace', 0], ['let talk y congratulation yzyz', 1], ['hello', 0], [\"thi~ksfii' iitchi~gbrwhitsipi12148149371y'lets talk bigger introduce\", 1], ['hibrmr beast', 0], [\"thi~ksfii' iitchi~gbrwhitsipi12148149371y'lets talk bigger introduce\", 1], ['agree mister beast amasing', 0], [\"y'congratulations yzsyou selected shortlisted winnersbrbrtelegram claim giveaway prizeyzys\", 1], ['carl imma grab picture sisterbrhim ahhh thats think look girlfriend', 0], [\"y'congratulations yzsyou selected shortlisted winnersbrbrtelegram claim giveaway prizeyzys\", 1], ['hrefhttpswwwyoutubecomwatchvhdytmkxnbamptmsa', 0], [\"thi~ksfii' iitchi~gbrwhitsipi12148149371y'lets talk bigger introduce\", 1], ['video make happy hard time family need city feel bad thank', 0], [\"thi~ksfii' iitchi~gbrwhitsipi12148149371y'lets talk bigger introduce\", 1], ['chris moisturize', 0], [\"thi~ksfii' iitchi~gbrwhitsipi12148149371y'lets talk bigger introduce\", 1], ['birthday', 0], ['rostia cabrera ty', 0], ['happy birthday', 0], [\"thi~ksfii' iitchi~gbrwhitsipi12148149371y'lets talk bigger introduce\", 1], ['mr beast best watch country entertaining making people happybrbr', 0], [\"thi~ksfii' iitchi~gbrwhitsipi12148149371y'lets talk bigger introduce\", 1], ['collab mr random', 0], [\"thi~ksfii' iitchi~gbrwhitsipi12148149371y'lets talk bigger introduce\", 1], ['heard lot help poor people need help', 0], [\"y'congratulations yzsyou selected shortlisted winnersbrbrtelegram claim giveaway prizeyzys\", 1], ['mr bean share', 0], [\"thi~ksfii' iitchi~gbrwhitsipi12148149371y'lets talk bigger introduce\", 1], ['hey mr beast ineed', 0], ['stop asking money', 0], [\"thi~ksfii' iitchi~gbrwhitsipi12148149371y'lets talk bigger introduce\", 1], ['birthday aug', 0], [\"happy birthday dayyz'yz'yz'yzyzyz\", 0], [\"thi~ksfii' iitchi~gbrwhitsipi12148149371y'lets talk bigger introduce\", 1], ['jimmy arent uploading month', 0], ['mrbeast sorry iam kid lol', 0], [\"thi~ksfii' iitchi~gbrwhitsipi12148149371y'lets talk bigger introduce\", 1], ['omg boy girlfriend feel bad', 0], [\"thi~ksfii' iitchi~gbrwhitsipi12148149371y'lets talk bigger introduce\", 1], ['azura evim olsa var ya odadan bir gan daayara aakmam', 0], [\"thi~ksfii' iitchi~gbrwhitsipi12148149371y'lets talk bigger introduce\", 1], ['dear a ay a a aa', 0], [\"thi~ksfii' iitchi~gbrwhitsipi12148149371y'lets talk bigger introduce\", 1], ['deeznuts', 0], [\"thi~ksfii' iitchi~gbrwhitsipi12148149371y'lets talk bigger introduce\", 1], ['mrbeast destroying tesla suprising elon musk new company', 0], [\"thi~ksfii' iitchi~gbrwhitsipi12148149371y'lets talk bigger introduce\", 1], [\"guy don't give money take camera\", 0], [\"thi~ksfii' iitchi~gbrwhitsipi12148149371y'lets talk bigger introduce\", 1], ['got emotinol', 0], ['yep', 0], ['texting', 0], ['ur te real holy moly', 0], ['got', 0], ['adrienne verstynen', 0], ['dont think', 0], [\"thi~ksfii' iitchi~gbrwhitsipi12148149371y'lets talk bigger introduce\", 1], ['yy come india', 0], ['pls philipinesyyy', 0], [\"thi~ksfii' iitchi~gbrwhitsipi12148149371y'lets talk bigger introduce\", 1], ['spend nest hour solving rubiks cube', 0], [\"wow man impresive y'y'y'y'y'y'y'\", 0], [\"thi~ksfii' iitchi~gbrwhitsipi12148149371y'lets talk bigger introduce\", 1], ['u callin india y\"', 0], [\"thi~ksfii' iitchi~gbrwhitsipi12148149371y'lets talk bigger introduce\", 1], ['helping people', 0], ['', 0], ['congratulation aiaiaibrclaim prizey\"iy\"ibrtelegram y\"y\"', 1], ['y\"ai', 0], ['congratulation aiaiaibrclaim prizey\"iy\"ibrtelegram y\"y\"', 1], ['hi', 0], ['congratulation aiaiaibrclaim prizey\"iy\"ibrtelegram y\"y\"', 1], ['mil till m', 0], ['congratulation aiaiaibrclaim prizey\"iy\"ibrtelegram y\"y\"', 1], ['best channel', 0], ['congratulation aiaiaibrclaim prizey\"iy\"ibrtelegram y\"y\"', 1], ['pressing logo', 0], ['congratulation aiaiaibrclaim prizey\"iy\"ibrtelegram y\"y\"', 1], ['wont ice creamyyaa', 0], ['congratulation aiaiaibrclaim prizey\"iy\"ibrtelegram y\"y\"', 1], ['ynn\" \\' \\'\"nn', 0], ['try visit sovereign country', 0], ['congratulation aiaiaibrclaim prizey\"iy\"ibrtelegram y\"y\"', 1], ['survive need draw pokemon entire time', 0], ['subscribe chanles', 0], ['congratulation aiaiaibrclaim prizey\"iy\"ibrtelegram y\"y\"', 1], ['satua', 0], ['congratulation aiaiaibrclaim prizey\"iy\"ibrtelegram y\"y\"', 1], ['collab mr random', 0], ['collab mr random', 0], ['congratulation aiaiaibrclaim prizey\"iy\"ibrtelegram y\"y\"', 1], ['collab mr random', 0], ['collab mr random', 0], ['collab mr random', 0], ['s\"br', 0], ['joined member', 0], [\"y'congratulations yzsyou selected shortlisted winnersbrbrtelegram claim giveaway prizeyzys\", 1], ['jimmy im love', 0], [\"y'congratulations yzsyou selected shortlisted winnersbrbrtelegram claim giveaway prizeyzys\", 1], ['iwant believe win y', 0], [\"y'congratulations yzsyou selected shortlisted winnersbrbrtelegram claim giveaway prizeyzys\", 1], ['hi', 0], [\"y'congratulations yzsyou selected shortlisted winnersbrbrtelegram claim giveaway prizeyzys\", 1], ['hi sir poor help form india', 0], ['kenuard thanks', 0], [\"what's method payment brother bless y\", 0], ['donquott forget subscribe', 0], ['', 0], ['backroom real life', 0], ['noice', 0], [\"y'congratulations yzsyou selected shortlisted winnersbrbrtelegram claim giveaway prizeyzys\", 1], ['ver este tipo video e como tener hambre y ver video persona comiendo', 0], [\"y'congratulations yzsyou selected shortlisted winnersbrbrtelegram claim giveaway prizeyzys\", 1], ['hi mrbeast', 0], [\"thi~ksfii' iitchi~gbrwhitsipi12148149371y'lets talk bigger introduce\", 1], [\"mr beast y'y'y'\", 0], [\"y'congratulations yzsyou selected shortlisted winnersbrbrtelegram claim giveaway prizeyzys\", 1], ['stay life', 0], [\"y'congratulations yzsyou selected shortlisted winnersbrbrtelegram claim giveaway prizeyzys\", 1], ['lol', 0], [\"y'congratulations yzsyou selected shortlisted winnersbrbrtelegram claim giveaway prizeyzys\", 1], ['mr beast uae dreaming america meet yyy', 0], [\"y'congratulations yzsyou selected shortlisted winnersbrbrtelegram claim giveaway prizeyzys\", 1], ['russian sorry', 0], [\"y'congratulations yzsyou selected shortlisted winnersbrbrtelegram claim giveaway prizeyzys\", 1], [\"aiaiy'\", 0], [\"y'congratulations yzsyou selected shortlisted winnersbrbrtelegram claim giveaway prizeyzys\", 1], [\"send i'll skydiving tomorrow extreme fear height\", 0], [\"y'congratulations yzsyou selected shortlisted winnersbrbrtelegram claim giveaway prizeyzys\", 1], [\"ur gonna poorquot y'y'\", 0], [\"thi~ksfii' iitchi~gbrwhitsipi12148149371y'lets talk bigger introduce\", 1], ['cool', 0], [\"thanks commenting brcongratulations y' randomly selected dm meai claim prize y'\", 1], ['try game indiabrand dont forget invite game', 0], [\"thanks commenting brcongratulations y' randomly selected dm meai claim prize y'\", 1], [\"haven't u posted long\", 0], [\"thanks commenting brcongratulations y' randomly selected dm meai claim prize y'\", 1], ['hope notice i', 0], [\"thanks commenting brcongratulations y' randomly selected dm meai claim prize y'\", 1], ['best youtuber centuryasasai', 0], [\"thanks commenting brcongratulations y' randomly selected dm meai claim prize y'\", 1], ['collab mr random', 0], [\"thanks commenting brcongratulations y' randomly selected dm meai claim prize y'\", 1], ['ai india', 0], [\"thanks commenting brcongratulations y' randomly selected dm meai claim prize y'\", 1], ['new content giant bubble filled helium', 0], [\"thanks commenting brcongratulations y' randomly selected dm meai claim prize y'\", 1], ['hii', 0], [\"thanks commenting brcongratulations y' randomly selected dm meai claim prize y'\", 1], ['aaa', 0], [\"thanks commenting brcongratulations y' randomly selected dm meai claim prize y'\", 1], ['hello mr beastbrim new yt channelbrim phillipinesbri hope friend', 0], [\"thanks commenting brcongratulations y' randomly selected dm meai claim prize y'\", 1], ['yt hitler gang k', 0], [\"thanks commenting brcongratulations y' randomly selected dm meai claim prize y'\", 1], ['got dollor toy', 0], [\"thanks commenting brcongratulations y' randomly selected dm meai claim prize y'\", 1], ['oh god good dis prison got rp dollor', 0], ['imsohapyforyou', 0], [\"thanks commenting brcongratulations y' randomly selected dm meai claim prize y'\", 1], ['soi pobre', 0], [\"thanks commenting brcongratulations y' randomly selected dm meai claim prize y'\", 1], ['help yyyyy', 0], [\"thi~ksfii' iitchi~gbrwhitsipi12148149371y'lets talk bigger introduce\", 1], ['help yyy', 0], ['help yyyyy', 0], ['help y\"y\"y\"y\"', 0], [\"thanks commenting brcongratulations y' randomly selected dm meai claim prize y'\", 1], ['hope available join mr beast vedio', 0], [\"thanks commenting brcongratulations y' randomly selected dm meai claim prize y'\", 1], ['undang saya dong wkwkwk', 0], [\"thanks commenting brcongratulations y' randomly selected dm meai claim prize y'\", 1], ['subscribe money need', 0], [\"thanks commenting brcongratulations y' randomly selected dm meai claim prize y'\", 1], ['join challenge', 0], [\"thanks commenting brcongratulations y' randomly selected dm meai claim prize y'\", 1], ['love india yyyyyyyyyyyyyyyyyyyy', 0], ['y\"y\"', 0], [\"thanks commenting brcongratulations y' randomly selected dm meai claim prize y'\", 1], ['want play game', 0], [\"thanks commenting brcongratulations y' randomly selected dm meai claim prize y'\", 1], ['love india bruh', 0], ['mr beast recreate room plz', 0], [\"thanks commenting brcongratulations y' randomly selected dm meai claim prize y'\", 1], ['hhi', 0], [\"thanks commenting brcongratulations y' randomly selected dm meai claim prize y'\", 1], ['collab mr random pls', 0], [\"thanks commenting brcongratulations y' randomly selected dm meai claim prize y'\", 1], [\"tamilan seeing vedioy'y'y'yi\", 0], [\"thanks commenting brcongratulations y' randomly selected dm meai claim prize y'\", 1], ['bye', 0], [\"thanks commenting brcongratulations y' randomly selected dm meai claim prize y'\", 1], ['hi', 0], ['mrbeast posting', 0], [\"thanks commenting brcongratulations y' randomly selected dm meai claim prize y'\", 1], ['hy army important news important stream boy luv bts reach billion th anniversary near view going slowbratleast watch song time day brthanks', 0], ['liquema bawls anybody asked', 0], [\"mid band mid song y'z\", 0], ['quotquotone best thing dude teks credit achieves respect audience team polite video congratulation achievement', 0], [\"thanks commenting brcongratulations y' randomly selected dm meai claim prize y'\", 1], ['help', 0], [\"thanks commenting brcongratulations y' randomly selected dm meai claim prize y'\", 1], [\"'n nnn\", 0], [\"thanks commenting brcongratulations y' randomly selected dm meai claim prize y'\", 1], ['toilet paper basically destroying', 0], ['hrefhttpswwwyoutubecomwatchvojgfkkuhmamptmsabrnooooobrnot tungsten cubebri liked', 0], ['', 0], ['im glad teddy bear ok y\"', 0], ['yup', 0], ['im sort stuff', 0], ['ys pic like', 0], [\"army statue lake year people y'\", 0], ['mr beast', 0], ['hi unspeakable im bigest fanbrim jackson gabriel', 0], ['felt heart destroys charizard yy\\'\"', 0], ['m', 0], [\"poor that's gonna clean mess\", 0], ['unspeaka', 0], ['hay', 0], ['', 0], ['', 0], ['time stamp hrefhttpswwwyoutubecomwatchvojgfkkuhmamptmsa disrespect', 0], ['car', 0], ['ampu', 0], ['hygyyhyh', 0], ['hi unspeakable', 0], ['painful watch hrefhttpswwwyoutubecomwatchvojgfkkuhmamptmsa', 0], ['congratulation selected shortlisted winner yzyzsyzsyzs', 1], ['unspeakable favorite', 0], ['congratulation selected shortlisted winner yzyzsyzsyzs', 1], ['love mess clean', 0], [\"sure didn't scammed\", 0], [\"i'm playing fortnite\", 0], [\"wonder what's lake\", 0], ['congratulation selected shortlisted winner yzyzsyzsyzs', 1], ['isnt expensive know pokemon card japan', 0], ['bet left right video', 0], ['oculus', 0], ['demand', 0], ['limited edition bose', 0], ['old guuy\"', 0], ['want', 0], ['ys', 0], ['wonder stuff water', 0], [\"nutella bathroom y'y'y'y'y'\", 0], ['unspeakable im', 0], ['bruhhhhhhhhhhhhhhhhhhhhhhhhhuhhhhh im big pokamon fan pokamon omg dare reeeeeeeeeeeeeeee', 0], ['content pantry thought maid service large clear plastic bag sign sell priceless', 0], ['qrrtttftfttftfreaed', 0], ['hi tyler', 0], ['y\\'\"y\\'\"y\\'\"y\\'\" noooooooooo destroy', 0], ['guy trashed snack room place thingy kinda mean leaving work maid', 0], [\"ha hay'y'\", 0], ['want dsaddssyyyyyyy', 0], ['y', 0], ['rip pantry yyyyyyyyyyyy', 0], ['nice', 0], ['song stumble guy', 0], ['like went bathroom james', 0], ['ya rude', 0], ['y\\'y\\'thanks watching congratulationsyzyz selected winnersbrbrtelegram clam prize yzyzyzy\"', 1], ['wrong bb', 0], [\"like destroy yeah would've bad\", 0], ['sad mailed random house baecuse throw away', 0], ['unspeakable u need channel u ride bike insane trail', 0], ['want iphone', 0], ['pls', 0], ['im mad destroyed favorite pokemon', 0], [\"saw knome vid cracked laughter can't beleive\", 0], ['rarest pokemon card wold worth', 0], ['unspeakable love new iphone', 0], ['unspeakable u ima unsub', 0], ['unspeakable dude worth bruh wish', 0], ['aaaaaaaaaaaaaaaaaaaa', 0], ['yes gabe', 0], ['bros background music start stumble guy theme', 0], ['feel bad fish stuff isnt tecnicly litter know someday youre deadthis place gonna magnet fishing sudden gonna pull haunted gargoile', 0], ['charizard thousand dollar', 0], ['dum dude live england dude', 0], ['subscribed', 0], ['subscribed unspeakabie', 0], ['subscribed', 0], ['hrefhttpswwwyoutubecomwatchvojgfkkuhmamptmsa couch', 0], ['hrefhttpswwwyoutubecomwatchvojgfkkuhmamptmsa dont worry landed landed giveaway blue away', 0], ['huge fan pokamon card seeing rainbow rare vmax destroyed feel like going', 0], ['bro gotta treat maid like y', 0], ['love', 0], ['ya babe destroyed', 0], ['noooooooooooooooooooo', 0], [\"i'll titanium cube i'm michigan\", 0], ['car wholesome', 0], ['steal prestons stuff', 0], ['like video billion', 0], ['chanle asmr', 0], ['clear river', 0], ['wasnt expierd boy mean maid', 0], [\"y'z\", 0], [\"land away destroy don't waste item person happy destroy it's wasted sad\", 0], ['snacks nooooooo fav snack yy', 0], ['like bug went bugbrbrbrbri like bug bug', 0], ['deman', 0], ['hrefhttpswwwyoutubecomwatchvojgfkkuhmamptmsa look james face', 0], ['yyyyyyyyyyyy respin', 0], [\"u soooooo sooooooo good destroying thing yyyyyyyyyyyyyyyyyyyy'y'y'y'y'y'y'y'y'y'y'y'y'yy'yy'yy'yy'yy'yy'yy'yy'yy'y\", 0], ['got charizard rilly', 0], ['imagine gave youtube channel away', 0], [\"tuber mean it's entertaining spend money\", 0], ['food waisted', 0], ['funny', 0], ['ya\"', 0], ['pokemon card valuable', 0], ['historically', 0], ['subscriber biggest subscriber alexandra love youtube video noise', 0], ['feel bad maid lol', 0], [\"unspeakable love you're video\", 0], ['guy best', 0], ['great work mate', 0], ['ioiu', 0], ['joy day thank', 0], ['wait mess pantry', 0], ['omg buggy ys', 0], ['wonder lake', 0], [\"love merch it's good\", 0], [\"got merch it's it's comfortable love ity'y\", 0], ['ha ha ha taco bell', 0], [\"destroy i'm mad right stop punching unspeakable unsubscribe\", 0], ['look true unspeakable loo challenge video', 0], ['mune like dollar', 0], ['taco bell favorite fast food', 0], ['lol', 0], ['car sick bro y landed giveawayk better kelly assistant probably excited shocked brooooo wish y\\' y y\"', 0], ['time nathan censor cuss word lol', 0], ['whyyyyyyyyyyyyyyyyyyyyyyyyy', 0], ['earlyyy', 0], ['nice tv', 0], ['jhon deere', 0], ['sup', 0], ['difficult watch teacher expensive thing afford destroyed ouch', 0], ['nooooooooooooooooooooooooooooooooooooooooooooooooooooooooooooooooooooooooooooooooooo', 0], ['expensive expensive pc', 0], ['nathen whyyyyyyyy', 0], ['moo moo', 0], ['big fan', 0], ['hi unspeakable', 0], ['waste food', 0], ['thats going demigod', 0], ['hi', 0], ['guy mean maid', 0], ['love gave ssssooooo away kid sterving fair dumped food ground kid kill pepole food mabey time dont dump food ground', 0], ['y\\'yy\\'yy\\'yy\\'yy\\'yy\\'yy\\'yy\\'yy\\'yyy\"yy\"yy\"yy\"yy\"yy\"y', 0], ['dont care pokemon', 0], ['tractor sank like titanic', 0], ['dont know network', 0], ['wonder land island house', 0], ['love video', 0], [\"questioncan u fly texasu can't\", 0], ['wereing unspeakable merch', 0], ['laugh indestructeble land gonna spin land destroy', 0], ['useless', 0], ['dont destroy charzard gigantimax', 0], ['guy cool', 0], [\"it's gold\", 0], ['pokamon card', 0], ['notice unspeakible', 0], ['james pulled green sign got terrified bc thought creature fazbear fright story quotkids playquot xd', 0], ['love video unspeakable', 0], ['im unsubcibing', 0], ['actully', 0], ['dont dare destory crad', 0], ['james gabe nathan', 0], ['noooooooooooooooooooo look fraviote pokemon thats shiny worth dollers', 0], ['bad influence kid destroy house maid coming maid dust clean vacuum dont clean house', 0], ['feel bad rainbow rare vmax', 0], ['charzaird', 0], ['nooooooooooooooooooooooooooooooooo', 0], ['hit destroy weel hart dropped rip carzard', 0], ['waiiiii', 0], ['dat', 0], ['waiii', 0], ['rip money sorry lot money video', 0], ['cleaning pantry', 0], ['dont think destroyed', 0], [\"i'm hungry\", 0], [\"hold basically unspeakable's lake there's gargoyle lawnmower want\", 0], ['unspeakable', 0], ['car', 0], ['hrefhttpswwwyoutubecomwatchvojgfkkuhmamptmsa hey way tree gabe way tree', 0], ['a', 0], ['like showing new tiller james poop', 0], [\"game rube fall flamingo james fall penguin they'll confused probably funny\", 0], ['remembers seen tv product og', 0], ['james pant toilet', 0], ['', 0], ['', 0], ['hahahahanoyyyyyyyyyyyyyyyyyyyyy', 0], ['beautiful house', 0], ['love maid', 0], ['love video brunspekubel', 0], ['love video', 0], ['pepole year feuture wonder ancient pepole statue lake', 0], ['dont like website keep asking cooky', 0], ['nice', 0], ['f', 0], ['fav youtuber', 0], ['pore pokamon', 0], ['mad', 0], ['hrefhttpswwwyoutubecomwatchvojgfkkuhmamptmsa actually thought real poo james eating nutella y\"', 0], ['love video', 0], ['preston life antarctica', 0], ['destroy board charizard', 0], ['amazing giveaway', 0], ['hi', 0], ['destroy charizard', 0], ['nooooooooooooooooooooooo', 0], ['y\\'\"', 0], ['yeeeeeeeeeeessssss', 0], ['bye', 0], ['yeeeeeeeeeeeeeeessssssssss', 0], ['yyyy\"y\"y\"y\"y\"y\"y\"y\"y\"yzy', 0], [\"ooooo wow likey'y'y'y'y'y'y'y'y'yyyyyyyyyyyyy\", 0], ['yes unspeakable', 0], ['thats john deer oh deer hrefhttpswwwyoutubecomwatchvojgfkkuhmamptmsa', 0], ['checked merch', 0], ['ppokemonyzyyy', 0], ['mad youyyyyyy', 0], ['im biggest fan unspeakable', 0], ['lovey\\'aiyyy\\'\"yy\\'syzy\\'y\\'\"y\\'y\\'y\\'y\\'', 0], ['sorry mess', 0], ['break charizard', 0], ['hrefhttpswwwyoutubecomwatchvojgfkkuhmamptmsa waste pantry food halal mo', 0], ['love video unspeakable', 0], [\"yeah destroyed doesn't work anymore\", 0], ['yyyyyyyy\"yyyyy', 0], ['lawnmower tractor', 0], ['hrefhttpswwwyoutubecomwatchvojgfkkuhmamptmsa ahhhhhhhhhhhhhhh unspeakable whyyyyyyyyyyyyyyyyy', 0], ['cinda mean raid', 0], ['love video subscribed single themyyyyyy', 0], ['dont dis brbrbrbrbrbrok', 0], ['congratulation winning chance', 0], ['destroy pokamon card trying g age', 0], ['hiiiiiiiiiiiiiiiiiiiiiiiiiiiiiiiiiiiiiiiiiiiiiiiiiiiiiiiiiiiiiiiiiiiii', 0], ['grandparent lawn mower', 0], ['', 0], ['b', 0], ['gave food wasted away hrefhttpswwwyoutubecomwatchvojgfkkuhmamptmsa', 0], [\"love chnael mom won't let merch\", 0], ['charizard', 0], ['destroyed heart unspeakable', 0], ['love video video animal', 0], ['bobo', 0], ['ignore bottle nutela bathroom', 0], ['time wach video said driving thought car', 0], ['charizard vmax cool love pokemon card', 0], [\"house real dog's cat\", 0], ['gabe james funny', 0], ['love video', 0], ['hi im biggest fan oll', 0], ['lake video', 0], ['', 0], ['destroy rainbow charzard hirt eye', 0], ['', 0], ['hey unspeakable unspeakable merch girl', 0], ['feel bad', 0], ['', 0], ['fast food employee said fck', 0], ['laughed titanic song gabe riding sinking', 0], ['destroyed charizard hurt', 0], ['waste money', 0], [\"fact lawnmower lake mean it's watermower\", 0], ['bro stop putting gabe video play like baby y y y\" y y y\\'', 0], [\"bspeakerb million peace's gabe super glue\", 0], ['gg egg egg egg egg egg egg egg', 0], ['nooooooooo', 0], ['stumble guy music beginning video', 0], ['unspeakeble', 0], ['gabe funny love', 0], ['awaybr destroybr', 0], ['damage charzard', 0], ['u symbola a a a a a a', 0], ['love vids', 0], ['lol', 0], ['thats rude tha maid yknow', 0], ['poor nathany', 0], [\"appreciate giving tv lady it's chickfila lady\", 0], ['dont want know water', 0], [\"it's like like\", 0], ['j', 0], ['j', 0], ['thats good boy', 0], ['music stumble guy d', 0], ['wow', 0], ['car cool', 0], ['wasting food', 0], ['dad lawn mower', 0], ['unspeakable like new mrbeast', 0], ['going new merch', 0], ['yesy', 0], ['favorite person im friend best thing', 0], ['noooooooooooooooooooooooo', 0], ['hrefhttpswwwyoutubecomwatchvojgfkkuhmamptmsa shouldnt wast like plus maid lot', 0], ['charzard', 0], ['want', 0], ['throw away charizard bruh', 0], ['ffffffffrfffffffffffffffffffffffffffffffffffffffffffffffffffffffffffffffffffffffffffffffffffffffffffflmingo', 0], ['relly specialized', 0], ['golden charizard k', 0], ['probably', 0], ['probably fish', 0], ['sady', 0], ['love pokemon downy', 0], ['prayveseay', 0], ['', 0], ['', 0], ['ahvkgbj gif jf ghcgfjcgfjc gh good day good person family friend family friend family friend family friend family friend family friend', 0], ['plz stop panful', 0], ['u n s p e k b l e', 0], ['jfufhfjjdhc sure best way okay right t im sure e right fuurhr r tufhrjudjyd eibryfyehtu yrrh', 0], ['poor maid', 0], [\"y'zno\", 0], ['bot mrch', 0], ['yiayy\\'aiyyyyyyyy\"yyyyyyyyyy\\'yyyyyyyyyyyyyyyyyyyyyyyyyy\"yyyyyyyyyyyyy', 0], ['love pokemon little bit mad', 0], ['whene destroyde poemon kart hart crusht', 0], ['dislike', 0], ['waste perfectly good fruit loop goldfishyyyyyy', 0], ['aye charizard vmax', 0], ['love videosbrunspeakable best tuber', 0], ['cool', 0], ['pokemon yi love charade thing', 0], ['stop destroying pantry', 0], ['s', 0], ['yy', 0], ['love need toyota tundra double cab black edition new new dont interested need', 0], ['video best', 0], [\"y y y y y y'y'y'y'y'\", 0], ['hi', 0], ['noooooooooooooooooooooooooooooooooooooooooooooooooooo love pokamon soooooooo sooooooo sooooooo sooooooo btw dad account', 0], ['', 0], ['omg', 0], ['destroyed gabe', 0], ['pick mess somebody mouth', 0], ['james know target joke think youre smart spell', 0], ['im sad carzard', 0], ['getting dogfood', 0], [\"can't screen reason\", 0], ['went chickfila christian fast food doesn\\'t let pay worker said \"oh godabrbrsus', 0], ['love taco bell', 0], ['yes', 0], [\"i'm subscribed subscribed\", 0], ['best youtuber', 0], ['', 0], ['', 0], ['got lawn mower river funnyyyyyyyy', 0], ['ay\\'\"y\\'s', 0], ['sand', 0], ['ayy\\'\"y\\'sy\\'y\\'y\\'', 0], ['nathan bthrows statue lakebbrme thing lake', 0], ['better help clean going amon poppy rhapsody noggin better hiding', 0], ['uset love ur video', 0], ['hrefhttpswwwyoutubecomwatchvojgfkkuhmamptmsa worst nightmare', 0], ['r p charizarb', 0], [\"y'all day rewatch video year month ago i'm waiting hour waiting mom\", 0], ['better title mrbeast day', 0], ['', 0], ['okay', 0], ['hrefhttpswwwyoutubecomwatchvojgfkkuhmamptmsa rip maid ayyy', 0], ['want froot rolupps', 0], [\"unspeakable let's fan swim pondbrbrfans rolex therebrbrunspeakable noicey'\", 0], ['bro amazing', 0], ['', 0], ['ate poop lolyyyyyyy', 0], ['love vids', 0], ['suded', 0], ['disrespectful maid', 0], ['waste food dying hungry kid africa', 0], ['wow expired monthbrbredit wow month yall cleaned', 0], ['gabe destroy lawn mower', 0], [\"hey unspeakable thing need simon cat meant cat don't know\", 0], ['like vedes', 0], [\"thing didn't destroy gave wheeler broke bhamm box\", 0], ['love love good ffffffffuuuuuuu', 0], ['youre army like', 0], ['wish iphone', 0], ['hello friend coming ant', 0], ['sorry waste food poor beggar india fodd day', 0], ['imagine kid amerika want food trow groundxd', 0], ['polution bruh', 0], ['bjhkk', 0], [\"i'm big fan love video video\", 0], ['yes', 0], ['imagine thing lake', 0], [\"gabe i'm eating rice crispy it's shaped like penguin i'm killing\", 0], ['bro pokemon hurt bad nearly cried', 0], ['watching video teeth came', 0], ['wait unspeakable happened keiko', 0], ['big fan', 0], [\"it's pronounced pokamon\", 0], ['socool', 0], ['pokamon', 0], ['hrefhttpswwwyoutubecomwatchvojgfkkuhmamptmsa thought actually kidding right wheel labelled dont destroy away mean house expensive', 0], ['realised landed real reversed check wheel inspect actually landed cheated', 0], [\"like wasting food getting crazy laughy'y'y'y'y'\", 0], ['yeah yeah', 0], [\"wait wait don't peel destroy\", 0], ['charizard worth', 0], ['yyy', 0], ['unspeakable love pokamon', 0], [\"hurt feeling i've collecting pokamon i've\", 0], ['love voios', 0], ['gabe james y\"', 0], ['subscribed unspeakable', 0], ['hi unspeakable', 0], ['addfhjkl right better idea yield y\\'y\\'y\\'y\\'y\\'y\\'y\\'y\\'yy\"yyyyyyyyyy\"y\"\"yyy\\'y', 0], [\"gargoyle literally said don't land destroy land destroy\", 0], ['', 0], ['yyyyzyyyyzyyyasy\\'\"ay\"asy\"y\"y\"yzyzyyyyyy', 0], ['unspeakable robot shirt', 0], ['yus thank god expiredbrim dad account', 0], ['', 0], ['ines called broke pokemon core thats favorite', 0], ['sad hamer momenty', 0], ['', 0], ['', 0], ['poens girl', 0], ['gabe took fone', 0], ['whyyyyyyyyyyyyyyyyyyyyyyyy', 0], ['wonder u destroy house landed', 0], ['got pokemon packet', 0], ['away truncation cube', 0], ['noooooo pokemon', 0], ['time buy new tungsten cube', 0], ['mr nice guy literally say lol everyones comment', 0], ['bicycle', 0], ['lol', 0], ['going por challenge', 0], ['bro', 0], ['yes', 0], [\"y'all need food whyyyyy\", 0], ['yoda', 0], ['rosies girl espie', 0], ['yno lala dada dada dada ok th sort good h poo poo poo', 0], ['thats dislikeed', 0], ['waste food', 0], ['litter stuff destroy', 0], ['destroy perfectly good gargoil', 0], ['j', 0], ['yes', 0], ['stepdad bike', 0], ['bruh clean big mess', 0], ['bruh best youtuber wach vid day', 0], ['good daybrunspeakable', 0], ['yes banged different birthday friend pay uk', 0], [\"feel bad bc people work hard want feel bad wanna help volunteer help feel good y'\", 0], ['cool', 0], ['awsome', 0], ['recycle lawnmower lake minute little one oil kill fish', 0], [\"probably game thank it's destroyed\", 0], ['unspeakable birthday getting brballoons', 0], [\"i'm unsubscribe sorry bc u broke charzard vmax u fix\", 0], ['destroy dollar flippin', 0], ['near end nathans sister', 0], [\"don't think destroyed\", 0], [\"don't like y poor charzard subbed\", 0], ['love video', 0], ['jtfgdbrbrjkgkjbrjkj', 0], ['unspeakable r ostim vid r good', 0], ['oof', 0], ['maid disrespect', 0], ['artan', 0], ['aqashfbvbm', 0], ['team sea ys', 0], ['stop wasting staf video', 0], ['urbanisation', 0], ['nooooooooooooooooooooooooooooooooooooooooooooooooooo', 0], ['y\\'y\\'y\\'y\\'y\\'y\\'y\\'yy\"y\"yyyyzyzyzyyyyyyyyyyyyyyyyyyyyyyyyyy', 0], ['totally watching video seven month posted', 0], ['hi big fan', 0], [\"meant hi unspeakable elizabeth wish work i'm biggest fan\", 0], ['hey pokamon elizabeth wish work want biggest fan', 0], ['ooommmggg', 0], ['', 0], ['pokamon car', 0], ['wow', 0], [\"that's rood maid\", 0], ['kelly nicest girl', 0], ['wen thing expired nathen like gu subscribe', 0], ['piarais game', 0], ['wgdh', 0], ['nathan literally world best youtuber subscribe reminds mebrbredit tungsten cube', 0], [\"unspeakable waste money stuff he's pretty going destroy it's expensive stuff get destroyed lol\", 0], ['pokemon', 0], ['bathroombreveryonesees nutella aint taking dump he pretending dump', 0], [\"i'm glad got\", 0], ['ye mercy took month', 0], ['wish landed destroy car', 0], ['tractorsysys', 0], ['unspeakable good idea think going decimated', 0], ['', 0], ['lg android tmobile im', 0], ['s', 0], ['subscribe like', 0], ['haha al', 0], ['coco', 0], ['cleaning going', 0]]\n"
          ]
        }
      ]
    },
    {
      "cell_type": "code",
      "source": [
        "all_comments1 = np.array(all_comments1)\n",
        "\n",
        "review = all_comments1[:,0]\n",
        "label = all_comments1[:,1].astype(int)\n",
        "review_train, review_test, label_train, label_test = train_test_split( review, label, test_size=0.25, random_state=1000) \n",
        "\n",
        "print(label)\n",
        "\n"
      ],
      "metadata": {
        "colab": {
          "base_uri": "https://localhost:8080/"
        },
        "id": "OduQw2gRF-6y",
        "outputId": "3e75120a-6903-45cd-e236-01d9945b0ffa"
      },
      "execution_count": null,
      "outputs": [
        {
          "output_type": "stream",
          "name": "stdout",
          "text": [
            "[0 0 0 ... 0 0 0]\n"
          ]
        }
      ]
    },
    {
      "cell_type": "code",
      "source": [
        "from keras.preprocessing.text import Tokenizer\n",
        "from keras.preprocessing.sequence import pad_sequences\n",
        "\n",
        "tokenizer = Tokenizer(num_words=5000)\n",
        "tokenizer.fit_on_texts(review_train)\n",
        "\n",
        "Xcnn_train = tokenizer.texts_to_sequences(review_train)\n",
        "Xcnn_test = tokenizer.texts_to_sequences(review_test)\n",
        "\n",
        "vocab_size = len(tokenizer.word_index) + 1  \n",
        "print(review_train[1])\n",
        "print(Xcnn_train[1]) \n",
        "\n",
        "\n",
        "maxlen = 50\n",
        "Xcnn_train = pad_sequences(Xcnn_train, padding='post', maxlen=maxlen)\n",
        "Xcnn_test = pad_sequences(Xcnn_test, padding='post', maxlen=maxlen)\n",
        "print(Xcnn_train[0, :]) "
      ],
      "metadata": {
        "colab": {
          "base_uri": "https://localhost:8080/"
        },
        "id": "pGDchIHUDec0",
        "outputId": "c062c2f2-9f9a-4f20-dc2a-ec59b98f2be3"
      },
      "execution_count": null,
      "outputs": [
        {
          "output_type": "stream",
          "name": "stdout",
          "text": [
            "deeznuts\n",
            "[773]\n",
            "[253 128 772 328   0   0   0   0   0   0   0   0   0   0   0   0   0   0\n",
            "   0   0   0   0   0   0   0   0   0   0   0   0   0   0   0   0   0   0\n",
            "   0   0   0   0   0   0   0   0   0   0   0   0   0   0]\n"
          ]
        }
      ]
    },
    {
      "cell_type": "code",
      "source": [
        "from keras.models import Sequential\n",
        "from keras import layers \n",
        "\n",
        "\n",
        "\n",
        "embedding_dim = 200\n",
        "textcnnmodel = Sequential()\n",
        "textcnnmodel.add(layers.Embedding(vocab_size, embedding_dim, input_length=maxlen))\n",
        "textcnnmodel.add(layers.Conv1D(128, 5, activation='relu'))\n",
        "textcnnmodel.add(layers.GlobalMaxPooling1D())\n",
        "textcnnmodel.add(layers.Dense(10, activation='relu'))\n",
        "textcnnmodel.add(layers.Dense(1, activation='sigmoid'))\n",
        "textcnnmodel.compile(optimizer='adam',\n",
        "              loss='binary_crossentropy',\n",
        "              metrics=['accuracy'])\n",
        "textcnnmodel.summary() "
      ],
      "metadata": {
        "colab": {
          "base_uri": "https://localhost:8080/"
        },
        "id": "-JGO3VmqHvg8",
        "outputId": "50d0af46-39b8-4d5f-bf52-922f862c1e2b"
      },
      "execution_count": null,
      "outputs": [
        {
          "output_type": "stream",
          "name": "stdout",
          "text": [
            "Model: \"sequential\"\n",
            "_________________________________________________________________\n",
            " Layer (type)                Output Shape              Param #   \n",
            "=================================================================\n",
            " embedding (Embedding)       (None, 50, 200)           460800    \n",
            "                                                                 \n",
            " conv1d (Conv1D)             (None, 46, 128)           128128    \n",
            "                                                                 \n",
            " global_max_pooling1d (Globa  (None, 128)              0         \n",
            " lMaxPooling1D)                                                  \n",
            "                                                                 \n",
            " dense (Dense)               (None, 10)                1290      \n",
            "                                                                 \n",
            " dense_1 (Dense)             (None, 1)                 11        \n",
            "                                                                 \n",
            "=================================================================\n",
            "Total params: 590,229\n",
            "Trainable params: 590,229\n",
            "Non-trainable params: 0\n",
            "_________________________________________________________________\n"
          ]
        }
      ]
    },
    {
      "cell_type": "code",
      "source": [
        "print(Xcnn_train)\n",
        "print(label_train)\n",
        "print(Xcnn_test)\n",
        "print(label_test)"
      ],
      "metadata": {
        "colab": {
          "base_uri": "https://localhost:8080/"
        },
        "id": "8w6RN8VrrhT7",
        "outputId": "896a6c98-1a70-475b-b737-f4bd3485501a"
      },
      "execution_count": null,
      "outputs": [
        {
          "output_type": "stream",
          "name": "stdout",
          "text": [
            "[[ 253  128  772 ...    0    0    0]\n",
            " [ 773    0    0 ...    0    0    0]\n",
            " [ 473  105  254 ...    0    0    0]\n",
            " ...\n",
            " [2299 2300  165 ...    0    0    0]\n",
            " [  35   30    8 ...    0    0    0]\n",
            " [ 162  486 2301 ...    0    0    0]]\n",
            "[0 0 0 ... 0 1 0]\n",
            "[[ 306   33  623 ...    0    0    0]\n",
            " [   0    0    0 ...    0    0    0]\n",
            " [ 261  231    0 ...    0    0    0]\n",
            " ...\n",
            " [ 197  541  197 ...    0    0    0]\n",
            " [  28 2204    0 ...    0    0    0]\n",
            " [   2  150  951 ...    0    0    0]]\n",
            "[0 0 0 0 0 1 0 0 0 0 0 0 0 0 0 0 0 0 0 0 1 0 0 0 0 0 0 0 0 0 0 1 0 0 0 0 0\n",
            " 0 0 0 0 0 0 0 0 0 0 1 1 0 0 0 0 0 0 0 1 0 0 0 0 0 1 0 0 0 0 0 0 0 0 0 0 0\n",
            " 0 1 0 0 0 1 0 0 0 0 1 0 0 1 0 0 0 0 0 0 0 1 0 0 0 1 0 0 0 0 0 0 0 0 0 0 1\n",
            " 0 0 0 0 0 0 0 0 1 1 0 0 0 0 0 0 0 0 0 0 0 0 0 0 0 0 0 0 0 0 0 0 1 0 0 1 1\n",
            " 0 0 0 0 0 0 0 0 0 0 0 0 0 0 0 0 0 0 0 0 0 0 0 0 0 0 0 0 0 0 0 0 0 0 0 0 0\n",
            " 0 0 0 0 0 0 0 0 0 0 0 0 0 0 0 0 0 0 1 0 0 0 0 0 0 0 1 0 0 0 0 0 0 0 0 0 0\n",
            " 0 0 0 0 0 0 0 1 0 0 0 0 0 1 0 0 0 0 0 0 0 0 0 0 0 0 0 0 0 0 1 0 1 0 0 0 0\n",
            " 0 0 1 0 1 0 0 0 0 0 0 1 0 0 0 0 0 0 0 0 0 0 0 0 0 0 0 0 0 0 0 0 0 0 0 0 0\n",
            " 0 0 0 0 0 0 0 0 0 0 1 0 0 0 0 0 0 0 0 0 0 0 0 0 0 0 0 0 0 0 0 0 0 0 0 0 0\n",
            " 0 1 0 0 0 1 0 0 0 0 0 0 0 0 0 1 1 0 0 0 0 1 0 0 0 0 0 0 0 1 0 0 0 0 0 1 0\n",
            " 0 0 0 0 0 0 0 0 0 1 0 0 0 0 1 0 1 0 0 0 0 0 1 1 0 0 0]\n"
          ]
        }
      ]
    },
    {
      "cell_type": "code",
      "source": [
        "textcnnmodel.fit(Xcnn_train, label_train, validation_data=(Xcnn_test, label_test), \n",
        "                epochs=16,\n",
        "                verbose=False, batch_size=32\n",
        "                 )\n",
        "loss, accuracy = textcnnmodel.evaluate(Xcnn_train, label_train, verbose=False)\n",
        "print(\"Training Accuracy: {:.4f}\".format(accuracy))\n",
        "loss, accuracy = textcnnmodel.evaluate(Xcnn_test, label_test, verbose=False)\n",
        "print(\"Testing Accuracy:  {:.4f}\".format(accuracy))"
      ],
      "metadata": {
        "colab": {
          "base_uri": "https://localhost:8080/"
        },
        "id": "z-I0rOm1IXUG",
        "outputId": "c53e1474-f50a-48df-e408-b7ce2fd93f85"
      },
      "execution_count": null,
      "outputs": [
        {
          "output_type": "stream",
          "name": "stdout",
          "text": [
            "Training Accuracy: 1.0000\n",
            "Testing Accuracy:  0.9975\n"
          ]
        }
      ]
    },
    {
      "cell_type": "code",
      "source": [
        "from sklearn.metrics import accuracy_score, f1_score, precision_score, recall_score\n",
        "\n",
        "def evaluate(model, review_test, label_test):\n",
        "  # loss, accuracy = model.evaluate(review_test, label_test, verbose=False)\n",
        "  # accuracy = model.score(review_test, label_test)\n",
        "  label_predict = model.predict(Xcnn_test, verbose=1)\n",
        "  label_predict = [int(x) for x in np.around(label_predict, decimals=1)]\n",
        "  accuracy = accuracy_score(label_test, label_predict)\n",
        "  f1 = f1_score(label_test, label_predict)\n",
        "  precision = precision_score(label_test, label_predict)\n",
        "  recall = recall_score(label_test, label_predict)\n",
        "  return accuracy, f1, precision, recall\n",
        "\n",
        "accuracy, f1_score, precision, recall = evaluate(textcnnmodel, review_test, label_test)\n",
        "print(f'accuracy: {accuracy:.2f}\\nf1: {f1_score:.2f}\\nprecision: {precision:.2f}\\nrecall: {recall:.2f}')"
      ],
      "metadata": {
        "colab": {
          "base_uri": "https://localhost:8080/"
        },
        "id": "9sIP_YeVSSZX",
        "outputId": "eac9074e-9c71-45c5-e021-1c787bf7a108"
      },
      "execution_count": null,
      "outputs": [
        {
          "output_type": "stream",
          "name": "stdout",
          "text": [
            "13/13 [==============================] - 0s 10ms/step\n",
            "accuracy: 0.99\n",
            "f1: 0.98\n",
            "precision: 0.98\n",
            "recall: 0.98\n"
          ]
        }
      ]
    },
    {
      "cell_type": "code",
      "source": [
        "from keras import backend as K\n",
        "\n",
        "def recall_m(y_true, y_pred):\n",
        "    true_positives = K.sum(K.round(K.clip(y_true * y_pred, 0, 1)))\n",
        "    possible_positives = K.sum(K.round(K.clip(y_true, 0, 1)))\n",
        "    recall = true_positives / (possible_positives + K.epsilon())\n",
        "    return recall\n",
        "\n",
        "def precision_m(y_true, y_pred):\n",
        "    true_positives = K.sum(K.round(K.clip(y_true * y_pred, 0, 1)))\n",
        "    predicted_positives = K.sum(K.round(K.clip(y_pred, 0, 1)))\n",
        "    precision = true_positives / (predicted_positives + K.epsilon())\n",
        "    return precision\n",
        "\n",
        "def f1_m(y_true, y_pred):\n",
        "    precision = precision_m(y_true, y_pred)\n",
        "    recall = recall_m(y_true, y_pred)\n",
        "    return 2*((precision*recall)/(precision+recall+K.epsilon()))\n",
        "\n",
        "# compile the model\n",
        "textcnnmodel.compile(optimizer='adam', loss='binary_crossentropy', metrics=['acc',f1_m,precision_m, recall_m])\n",
        "\n",
        "# fit the model\n",
        "history = textcnnmodel.fit(Xcnn_train, label_train, validation_split=0.3, epochs=10, verbose=0)\n",
        "\n",
        "# evaluate the model\n",
        "loss, accuracy, f1_score, precision, recall = textcnnmodel.evaluate(Xcnn_test, label_test, verbose=0)\n",
        "print(f'accuracy: {accuracy:.4f}\\nf1: {f1_score:.2f}\\nprecision: {precision:.2f}\\nrecall: {recall:.2f}')"
      ],
      "metadata": {
        "colab": {
          "base_uri": "https://localhost:8080/"
        },
        "id": "oDxfiuF2NGwX",
        "outputId": "c76ff829-a44f-4b94-b962-080c1d5a27b6"
      },
      "execution_count": null,
      "outputs": [
        {
          "output_type": "stream",
          "name": "stdout",
          "text": [
            "accuracy: 0.9975\n",
            "f1: 0.91\n",
            "precision: 0.90\n",
            "recall: 0.92\n"
          ]
        }
      ]
    },
    {
      "cell_type": "markdown",
      "source": [
        "## Naive Bayes"
      ],
      "metadata": {
        "id": "wDxecBLRYhvT"
      }
    },
    {
      "cell_type": "markdown",
      "source": [
        "### Feature Extraction"
      ],
      "metadata": {
        "id": "Etoz-Qp4ehTH"
      }
    },
    {
      "cell_type": "markdown",
      "source": [
        ""
      ],
      "metadata": {
        "id": "V43muaMZDzry"
      }
    },
    {
      "cell_type": "code",
      "source": [
        "print(all_comments[210])"
      ],
      "metadata": {
        "colab": {
          "base_uri": "https://localhost:8080/"
        },
        "id": "lxC8Y6C-vbOO",
        "outputId": "6516e685-9f5a-414b-f43f-35201c596e67"
      },
      "execution_count": null,
      "outputs": [
        {
          "output_type": "stream",
          "name": "stdout",
          "text": [
            "['friend read book repass httpwwwsharedcomwebpreviewpdfcjfoftxeba', 1]\n"
          ]
        }
      ]
    },
    {
      "cell_type": "code",
      "source": [
        "from sklearn.feature_extraction.text import CountVectorizer\n",
        "\n",
        "# list of comments\n",
        "comments = [text for text, is_spam in all_comments]\n",
        "\n",
        "# create the transform\n",
        "vectorizer = CountVectorizer(lowercase=False)\n",
        "\n",
        "# tokenize and build vocab\n",
        "vectorizer.fit(comments)\n",
        "print(vectorizer.vocabulary_)\n",
        "\n",
        "# encode document\n",
        "count_vector = vectorizer.transform(comments)\n",
        "print(count_vector.shape)\n",
        "print(type(count_vector))\n",
        "print(count_vector.toarray())"
      ],
      "metadata": {
        "colab": {
          "base_uri": "https://localhost:8080/"
        },
        "id": "X7H4PGyatqA7",
        "outputId": "9628c913-fdb3-4ee9-cd7b-8af7abe3f81c"
      },
      "execution_count": null,
      "outputs": [
        {
          "output_type": "stream",
          "name": "stdout",
          "text": [
            "{'huh': 1585, 'check': 462, 'youtube': 3624, 'channel': 446, 'kobyoshi': 1814, 'hey': 1343, 'guy': 1266, 'new': 2216, 'vid': 3382, 'monkey': 2134, 'im': 1626, 'white': 3508, 'shirtplease': 2835, 'leave': 1860, 'like': 1882, 'comment': 544, 'subscribe': 3057, 'test': 3167, 'murdevcom': 2172, 'shaking': 2816, 'sexy': 2810, 'enjoy': 891, 'watchvvtarggvgtwq': 3469, 'website': 3484, 'site': 2884, 'kid': 1791, 'stuff': 3045, 'kidsmediausa': 1793, 'com': 534, 'turned': 3298, 'mute': 2183, 'soon': 2950, 'came': 396, 'wanted': 3442, 'views': 3398, 'funny': 1138, 'videos': 3387, 'shouldd': 2850, 'tell': 3158, 'next': 2219, 'me': 2035, 'started': 3010, 'reading': 2608, 'stop': 3028, 'day': 688, 'youre': 3621, 'entire': 904, 'family': 986, 'die': 741, 'want': 3441, 'stay': 3015, 'alive': 92, 'right': 2692, 'now': 2258, 'httpstwittercomgbphotographygb': 1476, 'httpspremiumeasypromosappcomvoteme': 1467, 'hello': 1329, 'gaming': 1152, 'art': 164, 'video': 3383, 'scientific': 2765, 'experiment': 951, 'tutorial': 3301, 'lyric': 1985, 'weve': 3502, 'hope': 1380, 'able': 3, 'cover': 616, 'expectation': 947, 'got': 1225, 'far': 995, 'checking': 464, 'httpwwwebaycomitmsspagenamestrkmeselxitamptrksidpml': 1545, 'httpubuntuonecombeuutvuzkxkutgpzk': 1530, 'edm': 854, 'apparel': 146, 'company': 554, 'dedicated': 705, 'bringing': 364, 'music': 2173, 'inspired': 1672, 'design': 728, 'clothing': 515, 'perfect': 2381, 'rave': 2601, 'festival': 1032, 'neon': 2207, 'crop': 644, 'top': 3243, 'tank': 3140, 'tshirts': 3291, 'vnecks': 3416, 'accessory': 17, 'follow': 1074, 'facebook': 970, 'instagraml': 1675, 'free': 1106, 'giveaway': 1189, 'news': 2218, 'visit': 3409, 'oncueapparel': 2304, 'think': 3200, 'million': 2087, 'view': 3394, 'come': 535, 'people': 2379, 'auburn': 180, 'pride': 2494, 'httpwwwteespringcomtigermeathoodie': 1571, 'marketglory': 2023, 'comstrategygameandrijamatf': 565, 'earn': 835, 'real': 2610, 'money': 2130, 'game': 1147, 'yr': 3648, 'old': 2295, 'producer': 2504, 'chiptunes': 478, 'bit': 304, 'wonderful': 3543, 'checked': 463, 'remixes': 2657, 'gangnamstyle': 1157, 'remix': 2655, 'thanks': 3175, 'kyle': 1823, 'rap': 2590, 'yeah': 3600, 'dont': 788, 'watch': 3456, 'anymore': 139, 'billion': 296, 'not': 2251, 'android': 124, 'apps': 156, 'newest': 2217, 'song': 2935, 'memory': 2061, 'martin': 2025, 'luther': 1979, 'king': 1803, 'jr': 1757, 'goodbye': 1209, 'sub': 3052, 'reason': 2615, 'dubstep': 820, 'fireball': 1054, 'fruity': 1122, 'loop': 1943, 'took': 3242, 'time': 3221, 'watchvteloarioo': 3467, 'billioncoming': 297, 'dafuq': 667, 'korean': 1819, 'big': 286, 'usa': 3352, 'mean': 2036, 'support': 3097, 'bomb': 329, 'listen': 1906, 'best': 274, 'succesfull': 3074, 'pplease': 2481, 'take': 3132, 'second': 2780, 'ill': 1618, 'yt': 3649, 'grateful': 1234, 'clip': 511, 'bf': 283, 'advice': 61, 'improve': 1637, 'sure': 3101, 'hater': 1307, 'hate': 1306, 'win': 3523, 'project': 2510, 'effect': 857, 'foto': 1093, 'web': 3483, 'buy': 391, 'httpaudiojunglenetusereugenekalininportfoliorefeugenekalinin': 1431, 'youtubecodytolleson': 3630, 'awesome': 201, 'roblox': 2711, 'minecraft': 2099, 'world': 3553, 'warcraft': 3445, 'gta': 1248, 'mario': 2019, 'suscribe': 3111, 'czfcxsnjnq': 664, 'httpwwwtwitchtvjaroadc': 1573, 'stream': 3035, 'raw': 2602, 'talent': 3134, 'straight': 3032, 'hip': 1354, 'hop': 1379, 'sound': 2960, 'dizzy': 771, 'juice': 1759, 'prod': 2502, 'drug': 817, 'model': 2121, 'citizen': 494, 'lazy': 1852, 'prophetz': 2518, 'pls': 2444, 'count': 609, 'hour': 1394, 'httpwwwavaazorgpopetitionyoutubecorporationfoxbroadcastingcompanyanularosstrikesnocanalnostalgiacxpzpgb': 1537, 'thumb': 3213, 'hw': 1595, 'plz': 2446, 'xx': 3589, 'help': 1330, 'reach': 2605, 'avoid': 195, 'watching': 3459, 'baby': 218, 'hit': 1360, 'yet': 3609, 'httpswwwfacebookcompagesbrewcrew': 1492, 'facebookpage': 971, 'chance': 440, 'iphone': 1700, 'gwar': 1269, 'play': 2422, 'superbowl': 3093, 'httpwwwchangeorgpetitionsthenationalfootballleagueallowgwartoperformthesuperbowlhalftimeshowshare': 1544, 'httpwwwtwitchtvsevadus': 1574, 'hi': 1345, 'httptankionlinecomfriendcddbf': 1522, 'great': 1236, 'out': 2327, 'has': 1303, 'chuck': 492, 'norrus': 2248, 'ovbiously': 2329, 'behold': 258, 'viewed': 3395, 'history': 1359, 'ever': 924, 'gonna': 1206, 'dislike': 759, 'themselves': 3186, 'psykorean': 2527, 'omg': 2301, 'oldspice': 2298, 'spraytan': 2998, 'party': 2349, 'commercial': 549, 'omgim': 2302, 'sitting': 2885, 'isnt': 1706, 'thing': 3196, 'popular': 2459, 'actually': 35, 'get': 1175, 'fablife': 967, 'welcome': 3491, 'diys': 770, 'challenge': 437, 'thx': 3216, 'httpwwwguardaloorgbestoffunnycatsgattipazziedivertenti': 1561, 'drone': 815, 'kamal': 1773, 'tayara': 3147, 'absolutely': 8, 'beautiful': 251, 'httphackfbaccountlivecomref': 1438, 'whats': 3503, 'trying': 3288, 'showcase': 2853, 'subscriber': 3062, 'promise': 2511, 'suck': 3079, 'spread': 2999, 'amp': 113, 'share': 2825, 'lucas': 1971, 'trigo': 3275, 'gtgtgtgt': 1252, 'httpswwwfacebookcomvideophpvampsetvbamptypeamppermpage': 1507, 'lt': 1968, 'thereim': 3192, 'group': 1242, 'leader': 1854, 'angel': 125, 'rookie': 2723, 'pop': 2457, 'member': 2057, 'chanicka': 445, 'julie': 1760, 'stephanie': 3019, 'leah': 1855, 'feel': 1022, 'feedback': 1021, 'criticism': 641, 'know': 1811, 'notch': 2252, 'singer': 2875, 'constructive': 587, 'appreciate': 152, 'auditioning': 184, 'management': 2014, 'plan': 2416, 'jyp': 1772, 'bighit': 290, 'jellyfish': 1737, 'yg': 3611, 'sm': 2909, 'thank': 3172, 'taking': 3133, 'read': 2607, 'httpwooboxcomgxrfbrtu': 1533, 'go': 1197, 'admit': 49, 'number': 2264, 'viewer': 3396, 'coming': 543, 'viewing': 3397, 'apparently': 147, 'do': 775, 'psy': 2526, 'gangnam': 1156, 'style': 3050, 'mv': 2185, 'httpyoutubebzkpqf': 1581, 'xd': 3586, 'lol': 1928, 'wow': 3562, 'section': 2782, 'active': 31, 'bad': 221, 'httpbinboxiofiro': 1433, 'ching': 477, 'ling': 1899, 'long': 1931, 'ding': 747, 'ring': 2697, 'yaaaaaa': 3593, 'ganga': 1153, 'sty': 3049, 'fuck': 1126, 'you': 3614, 'httpswwwindiegogocomprojectscleaningthepan': 1508, 'halp': 1288, 'brother': 370, 'please': 2434, 'use': 3353, 'gift': 1180, 'card': 408, 'amazon': 106, 'itunes': 1717, 'psn': 2525, 'google': 1213, 'youll': 3617, 'happy': 1296, 'code': 521, 'amazing': 105, 'xxbbtczhmhvzd': 3590, 'asian': 168, 'nonasian': 2244, 'country': 611, 'jelly': 1736, 'try': 3287, 'learn': 1857, 'asia': 167, 'looking': 1936, 'plizz': 2441, 'withing': 3535, 'unique': 3328, 'angry': 126, 'httpwwwgofundmecomlittlebrother': 1557, 'anybody': 138, 'subscribes': 3065, 'subscribers': 3063, 'httpthepiratebaysetorrenttimothysykescollection': 1526, 'half': 1285, 'way': 3478, 'decent': 700, 'said': 2738, 'deserve': 726, 'visiting': 3410, 'itz': 1718, 'recap': 2617, 'diddle': 739, 'screw': 2770, 'chinese': 476, 'crap': 624, 'understand': 3322, 'saying': 2759, 'speaking': 2973, 'english': 889, 'should': 2849, 'need': 2202, 'moneyenjoy': 2131, 'httpswwwtsucoemersonzanol': 1517, 'visuelgamingznl': 3413, 'back': 220, 'youtuber': 3645, 'hoppa': 1384, 'gangam': 1154, 'weird': 3490, 'ehi': 862, 'lexis': 1872, 'band': 226, 'uploading': 3346, 'miss': 2105, 'lot': 1953, 'click': 509, 'gt': 1247, 'love': 1958, 'it': 1708, 'gofundmecomgrwmps': 1200, 'page': 2333, 'picture': 2403, 'funnytortspics': 1139, 'httpsplusgooglecompost': 1465, 'bitches': 306, 'china': 475, 'milions': 2086, 'comentars': 539, 'bilion': 293, 'zero': 3654, 'mix': 2112, 'holy': 1369, 'shit': 2836, 'person': 2388, 'zombie': 3657, 'apocalypse': 142, 'greeting': 1241, 'spoderman': 2985, 'wiews': 3517, 'grow': 1243, 'guys': 1267, 'anyway': 140, 'crazy': 627, 'uk': 3311, 'korea': 1818, 'republic': 2667, 'discover': 755, 'young': 3618, 'moroccan': 2145, 'httpwwwlinkbuckscomacng': 1562, 'getting': 1176, 'cardsbut': 409, 'spending': 2979, 'cash': 415, 'juno': 1763, 'wallet': 3436, 'nike': 2231, 'gamestop': 1149, 'ebay': 846, 'easy': 843, 'simple': 2870, 'task': 3144, 'videosdownloading': 3389, 'inviting': 1697, 'friend': 1116, 'joinits': 1751, 'signup': 2866, 'sign': 2863, 'today': 3231, 'promo': 2512, 'bd': 242, 'somebody': 2931, 'wake': 3434, 'justin': 1768, 'bieber': 285, 'gay': 1165, 'gotta': 1226, 'worth': 3559, 'clicked': 510, 'went': 3496, 'uphill': 3342, 'jbs': 1732, 'ahhh': 79, 'year': 3601, 'ago': 74, 'dance': 673, 'dancepsy': 675, 'httpwwwreverbnationcommsmarilynmiles': 1566, 'starlitnightsky': 3008, 'epic': 907, 'httpswwwtsucokodysman': 1518, 'stupid': 3047, 'doesnt': 778, 'thousand': 3211, 'millions': 2088, 'httpwwwgcmforexcompartnersawaspxtaskjointampaffiliateid': 1550, 'men': 2062, 'allot': 95, 'effort': 858, 'unfortunatly': 3327, 'httpwwwvakinhacombrvaquinhaeaspxe': 1577, 'vip': 3403, 'gun': 1263, 'cross': 645, 'al': 86, 'add': 39, 'herehttpswwwfacebookcomtlouxmusic': 1338, 'singing': 2876, 'covers': 618, 'place': 2414, 'promote': 2514, 'pay': 2366, 'pal': 2338, 'pivot': 2413, 'animation': 129, 'twitter': 3307, 'ig': 1609, 'killuminati': 1800, 'oppa': 2318, 'httpwwwsunfrogshirtscomsunglassworldhtml': 1569, 'httpswwwfacebookcomteelalala': 1505, 'httpwwwtwitchtvzxlightsoutxz': 1576, 'reminds': 2653, 'httpssoundcloudcompopaegiswrennalmondeyes': 1472, 'httpwwwswagbuckscompregisterrb': 1570, 'search': 2776, 'chubbz': 491, 'dinero': 746, 'ready': 2609, 'mscalifornia': 2160, 'single': 2877, 'type': 3310, 'face': 969, 'earth': 839, 'damn': 671, 'this': 3202, 'is': 1704, 'fancy': 991, 'static': 3013, 'incmediaorg': 1646, 'truth': 3286, 'meet': 2047, 'look': 1933, 'pe': 2371, 'let': 1868, 'name': 2190, 'httpwwwbubblewscomnewspeaceandbrotherhood': 1542, 'wouldnt': 3561, 'mind': 2095, 'chacking': 434, 'il': 1617, 'giver': 1190, 'vids': 3392, 'httpwwwamazoncoukgpofferlistingbecvfgsrqidrefolptabrefurbishedieutfampconditionrefurbishedampqidampsr': 1536, 'watched': 3457, 'httpflipagramcomflukaqmrhf': 1435, 'christmas': 489, 'httpwwwgofundmecomgvrxg': 1555, 'plus': 2445, 'nice': 2222, 'httpswwwchangeorgpfacebooktwitteryoutubedonotcensorjulienblanc': 1480, 'httpssoundcloudcomjackalandjameswrapupthenight': 1469, 'httpswwwsurveymonkeycomscvhmklt': 1515, 'wont': 3544, 'disappointed': 752, 'viral': 3405, 'true': 3280, 'vidios': 3391, 'spam': 2965, 'bot': 342, 'cmon': 518, 'bs': 374, 'awesomeness': 202, 'aaaaaaa': 0, 'lada': 1827, 'dear': 696, 'loving': 1965, 'httpwwwermailpldolaczvveygin': 1548, 'tried': 3272, 'social': 2923, 'network': 2215, 'tsu': 3292, 'special': 2975, 'thingyou': 3199, 'post': 2469, 'fb': 1011, 'toll': 3235, 'paid': 2335, 'registr': 2636, 'httpswwwtsucoworldwidelife': 1521, 'yellow': 3606, 'suit': 3086, 'kinda': 1802, 'jaesuk': 1724, 'fbyou': 1013, 'register': 2635, 'difference': 743, 'sharing': 2828, 'commenting': 546, 'liking': 1892, 'onedont': 2307, 'waste': 3452, 'everyday': 929, 'httpswwwtsucoslema': 1519, 'wellcome': 3493, 'there': 3188, 'multiple': 2168, 'accounts': 21, 'wat': 3455, 'da': 665, 'httpwwwtwitchtvtareko': 1575, 'twitch': 3306, 'enter': 897, 'keyword': 1789, 'winning': 3528, 'expensive': 949, 'csgo': 648, 'sell': 2792, 'steam': 3016, 'market': 2021, 'httpswwwtsucoaseris': 1516, 'fantastic': 993, 'population': 2460, 'min': 2093, 'super': 3092, 'book': 333, 'repass': 2662, 'httpwwwsharedcomwebpreviewpdfcjfoftxeba': 1568, 'liked': 1887, 'later': 1842, 'kind': 1801, 'going': 1202, 'making': 2009, 'launchpad': 1848, 'spot': 2992, 'easily': 842, 'care': 411, 'bother': 343, 'loli': 1929, 'dunno': 827, 'joke': 1752, 'piece': 2405, 'gangman': 1155, 'dddddddrop': 691, 'bass': 238, 'rappersongwriter': 2598, 'pleasealso': 2435, 'having': 1313, 'dick': 737, 'stuck': 3043, 'elevator': 865, 'excuse': 942, 'prehistoric': 2486, 'songhas': 2941, 'been': 253, 'smart': 2913, 'headbutt': 1318, 'ex': 934, 'enimen': 890, 'loool': 1939, 'understands': 3323, 'pray': 2484, 'little': 1912, 'month': 2139, 'left': 1863, 'tumor': 3294, 'head': 1317, 'instagram': 1674, 'chriscz': 485, 'relevant': 2646, 'saythis': 2760, 'change': 443, 'completely': 561, 'good': 1208, 'job': 1745, 'girl': 1185, 'camera': 397, 'man': 2013, 'glasses': 1194, 'wrong': 3572, 'fucking': 1130, 'koean': 1816, 'chainise': 436, 'ana': 117, 'hahahahah': 1280, 'december': 699, 'dumb': 825, 'equal': 908, 'smartie': 2914, 'pants': 2341, 'point': 2452, 'listening': 1909, 'stfu': 3024, 'mom': 2128, 'america': 110, 'mine': 2098, 'jap': 1729, 'worthless': 3560, 'fish': 1059, 'untanlted': 3335, 'gook': 1214, 'fucken': 1128, 'sad': 2736, 'fucked': 1127, 'up': 3337, 'remember': 2650, 'obsessed': 2272, 'remove': 2658, 'wank': 3439, 'hard': 1298, 'ithat': 1711, 'child': 471, 'actor': 32, 'hwang': 1596, 'minoo': 2101, 'dancing': 678, 'suffering': 3084, 'brain': 353, 'believe': 262, 'praying': 2485, 'future': 1140, 'superstar': 3095, 'stronglittlepsy': 3041, 'fighting': 1040, 'httpygunitedcomlittlepsyfromthehasbraintumormonthslefttolive': 1580, 'keep': 1785, 'updated': 3340, 'minute': 2102, 'memories': 2059, 'user': 3356, 'fake': 982, 'account': 20, 'hacked': 1273, 'saw': 2756, 'yeat': 3605, 'word': 3549, 'hole': 1368, 'cool': 596, 'again': 72, 'voyage': 3425, 'loved': 1959, 'problem': 2501, 'phenomenon': 2396, 'random': 2586, 'slut': 2908, 'bitch': 305, 'hyuna': 1599, 'kollektivet': 1817, 'slappin': 2900, 'penis': 2377, 'credit': 633, 'receive': 2618, 'fun': 1135, 'review': 2681, 'flute': 1070, 'dealing': 695, 'theory': 3187, 'couldve': 607, 'gotten': 1227, 'mabey': 1991, 'realy': 2614, 'access': 16, 'internet': 1690, 'including': 1645, 'rising': 2701, 'populatoin': 2461, 'connected': 580, 'hacker': 1274, 'rised': 2700, 'featured': 1017, 'mp': 2158, 'seen': 2786, 'concert': 569, 'eve': 922, 'event': 923, 'seeing': 2785, 'adding': 42, 'complaining': 558, 'heck': 1327, 'hits': 1361, 'chanel': 441, 'queen': 2542, 'michael': 2076, 'jackson': 1723, 'pause': 2364, 'millisecond': 2091, 'chick': 470, 'laugh': 1845, 'tries': 3273, 'annoying': 133, 'httpswwwfacebookcompagesmathsterwprefhl': 1498, 'millioon': 2090, 'dislikesssssssssssssssssssssssssssssssss': 762, 'live': 1913, 'lucks': 1973, 'kidz': 1794, 'billon': 298, 'millonget': 2092, 'fact': 976, 'posting': 2472, 'comments': 547, 'humanity': 1588, 'called': 395, 'odowd': 2278, 'crowd': 646, 'movie': 2157, 'translate': 3262, 'smh': 2915, 'to': 3230, 'join': 1749, 'publishing': 2529, 'platform': 2420, 'content': 590, 'httptsucomarkusmairhofer': 1527, 'youtubedaaaaaaaaaaannng': 3633, 'dominate': 783, 'entirechina': 905, 'officialpsy': 2284, 'dislikesepic': 761, 'failready': 978, 'fanboys': 990, 'knew': 1809, 'funnier': 1137, 'end': 885, 'spoken': 2986, 'rapidly': 2593, 'planet': 2418, 'joking': 1753, 'summon': 3088, 'freddy': 1104, 'mercury': 2065, 'ghost': 1178, 'whipe': 3506, 'direction': 748, 'miley': 2083, 'cirus': 493, 'round': 2729, 'public': 2528, 'pouring': 2477, 'bucket': 378, 'ice': 1601, 'water': 3473, 'running': 2732, 'away': 198, 'acting': 29, 'wasnt': 3451, 'see': 2784, 'shares': 2827, 'dylan': 831, 'irl': 1702, 'football': 1083, 'tomorrow': 3236, 'hunger': 1591, 'follower': 1075, 'httpswwwfacebookcomlists': 1487, 'beibs': 259, 'capitalized': 406, 'tazz': 3149, 'self': 2790, 'college': 528, 'heart': 1324, 'httpswwwindiegogocomprojectsiwanttogotocollegex': 1511, 'httpswwwfacebookcomschoolgeniusnitsphotosmscejwkvkoxdamqmhzsnjqpthqbeumaqupihfphgkzllsvdqvzufmblnujufthyokfrxytszvrrpqgtwylhfvlczzrgvgctlpsdongewhjgibuslzmvyiqtwsfzzwhnjusvhufpglqrzczlfnphagevbxydmcxjtcjnmhovfxwcjzyvwobihrngxocjngpgevhxzyjdohryfsprndxvbzszzbpsatypeamptheater': 1504, 'sucscribe': 3082, 'vaahidmustafic': 3362, 'offcal': 2281, 'httpswwwfacebookcomnicushorbboy': 1490, 'mee': 2046, 'sorry': 2959, 'jenny': 1739, 'high': 1348, 'school': 2764, 'dress': 806, 'fashionable': 998, 'cute': 659, 'clothes': 514, 'low': 1966, 'esteem': 913, 'dad': 666, 'passed': 2354, 'mother': 2147, 'figure': 1041, 'older': 2297, 'boy': 347, 'attention': 179, 'wear': 3482, 'pretty': 2491, 'boyfriend': 349, 'shy': 2860, 'confidence': 573, 'talk': 3136, 'caroline': 413, 'moved': 2154, 'donate': 785, 'brand': 355, 'shop': 2844, 'walmart': 3437, 'wanna': 3440, 'nail': 2187, 'salon': 2740, 'alot': 99, 'french': 1111, 'tip': 3225, 'hair': 1281, 'curled': 652, 'httpwwwgofundmecomdressprettyonce': 1553, 'throw': 3212, 'goal': 1198, 'fly': 1071, 'burned': 385, 'chhanel': 469, 'daily': 668, 'hav': 1311, 'idea': 1604, 'he': 1316, 'language': 1836, 'wonder': 3542, 'illuminati': 1622, 'confirmed': 574, 'craft': 622, 'shoot': 2842, 'subs': 3055, 'fuego': 1131, 'la': 1824, 'hyperurlcokaxt': 1597, 'wwwmarketglorycomstrategygamelordviperas': 3579, 'shitty': 2838, 'government': 1228, 'didnt': 740, 'block': 318, 'thered': 3191, 'close': 512, 'record': 2625, 'drunk': 819, 'limit': 1897, 'sun': 3089, 'exposure': 956, 'driving': 814, 'eliminate': 866, 'hassle': 1305, 'swing': 3121, 'car': 407, 'visor': 3411, 'windshield': 3526, 'window': 3525, 'httpswwwkickstartercomprojectsvisortwin': 1512, 'hahah': 1278, 'juyk': 1771, 'allways': 97, 'httpswwwfacebookcomfudairyqueenpnrefstory': 1485, 'haha': 1276, 'salt': 2741, 'westerner': 3500, 'httpstwittercomthewaxedhatco': 1477, 'imagine': 1629, 'adsense': 53, 'ur': 3350, 'morgage': 2143, 'forget': 1086, 'train': 3258, 'outfit': 2328, 'huge': 1584, 'turnoff': 3299, 'lacked': 1825, 'eyebrow': 964, 'difficult': 745, 'httpimageyouru': 1439, 'entertaining': 900, 'shotgun': 2848, 'montagesninja': 2138, 'defuse': 711, 'montage': 2137, 'trolling': 3277, 'certain': 431, 'httpswwwfacebookcomtofikmiedzynbphotosatypeamptheater': 1506, 'httpswwwfacebookcomeecconpostscommentidampoffsetamptotalcomments': 1483, 'frigea': 1117, 'marius': 2020, 'gabriel': 1143, 'httpwwwbingcomexplorerewardspublreferafriendampcrearawamprridffaaaacfcedeeaca': 1540, 'bing': 300, 'reward': 2682, 'virus': 3408, 'blue': 323, 'shirt': 2834, 'th': 3169, 'sold': 2927, 'worldwide': 3555, 'httpteespringcomtreechristmas': 1523, 'crdits': 629, 'link': 1900, 'download': 794, 'app': 145, 'httpsmfreemyappscomshareurlafe': 1460, 'everyones': 930, 'lool': 1937, 'hear': 1321, 'duty': 829, 'aways': 199, 'photo': 2398, 'editor': 853, 'httpsplaygooglecomstoreappsdetailsidcombutalabsphotoeditor': 1462, 'thought': 3209, 'were': 3497, 'generate': 1169, 'lead': 1853, 'auto': 190, 'pilot': 2408, 'httpwwwmyleadergatecommoretraffic': 1564, 'httpwwwbillboardcomarticlescolumnspopshopfanarmyfaceoffround': 1539, 'vote': 3420, 'sone': 2934, 'pleasewere': 2437, 'vipsplease': 3404, 'gtlt': 1254, 'fight': 1039, 'abusedmistreated': 11, 'animal': 127, 'fund': 1136, 'helping': 1333, 'vet': 3377, 'billsand': 299, 'home': 1370, 'extra': 960, 'emphasis': 879, 'disabled': 750, 'one': 2305, 'sleep': 2901, 'organization': 2322, 'httpwwwgofundmecomangelsnwingz': 1551, 'httppsnbosscomreftggppvl': 1444, 'trailer': 3257, 'httpbelievemefilmcomhlrhhqbuvb': 1432, 'rapping': 2599, 'httpssoundcloudcomnereboycallofthelostproducebyatlastatlasrapperjkork': 1471, 'message': 2068, 'pleaaaase': 2431, 'httpinstagramcomcyrineghorbel': 1440, 'pleaase': 2432, 'searching': 2777, 'dream': 801, 'httpwwwbarnesandnoblecomsbdpcsrftokenitixecnkcosoqkemgjluuwvnsxsoampsortddampsizeampcsrftokeniyecnrwpnytnouamhvmflutgglampdrefampkeywordbdpampstoreebook': 1538, 'httpwwwtwitchtvdaconnormc': 1572, 'glamour': 1193, 'beauty': 252, 'fell': 1026, 'kitten': 1805, 'httpswwwfacebookcomphotophpfbidampldac': 1500, 'httpswwwfacebookcomphotophpvampsetvbamptypeamptheater': 1502, 'httpssoundcloudcomartady': 1468, 'break': 359, 'katie': 1776, 'downloads': 795, 'small': 2911, 'upload': 3344, 'nearly': 2201, 'shikas': 2833, 'life': 1877, 'anime': 131, 'regret': 2637, 'httpwwwrtbfbetvemissiondetailthevoicebelgiquetouteslesauditionsauditiondetailemissionidampid': 1567, 'voice': 3418, 'shared': 2826, 'audition': 183, 'score': 2769, 'much': 2165, 'katy': 1778, 'perry': 2387, 'sit': 2883, 'dollar': 781, 'ok': 2292, 'thats': 3182, 'erection': 910, 'cyrus': 663, 'httpwwwgooglerourlsatamprctjampqampesrcsampsourcewebampcdampvedcbqfjaaampurlhttpaffenwikipediaorgfwikiflistofmostviewedyoutubevideosampeioqyudwclyqoyogoawampusgafqjcngkmidplalkuvkoekvgdttjvlqampsigonqzzadqcmnbenmlgaampbvmbvdbgqampcadrja': 1560, 'httpwwwamazoncomknightdawncurseddanielnebookdpbmppqhrirefsrsdigitaltextampbieutfampbqidampbsrampbkeywordsknightamptagwattpad': 1535, 'talented': 3135, 'sponsor': 2988, 'httpwwwbubblewscomaccountsheilcen': 1541, 'house': 1396, 'httpssoundcloudcomsoundhaseedmhousemix': 1473, 'hiya': 1362, 'videoxx': 3390, 'maroon': 2024, 'latest': 1843, 'nd': 2199, 'wwwyoutube': 3585, 'comwatchvtqfuau': 567, 'httpwwwgofundmecomrjanimalcare': 1558, 'httpwwwmediafirecomdownloadyvovhafsvqzzqovideorar': 1563, 'ltscriptgtdocumentwritelta': 1970, 'targetself': 3143, 'href': 1398, 'httproverebaycomrovericepffamppubamptoolidampcampidampcustomidbogdangrigoreampipnpsmainampicepvectoridampkwidampmtidampkwlggtcheck': 1445, 'arive': 160, 'ebayltagtltimg': 847, 'styletextdecorationnoneborderpaddingmargin': 3051, 'src': 3003, 'httproverebaycomroverimpffamppubamptoolidampcampidampcustomidbogdangrigoreampmptmathfloormathrandomgtltscriptgtltnoscriptgtlta': 1447, 'httproverebaycomroverimpffamppubamptoolidampcampidampcustomidbogdangrigoreampmptcachebuster': 1446, 'gtltnoscriptgt': 1255, 'votekatyperry': 3421, 'mtv': 2163, 'vma': 3415, 'who': 3511, 'httponmtvcomutkx': 1443, 'httpswwwfacebookcompagesdaadadddaddadacdddaddadddbdaddmusic': 1494, 'marian': 2018, 'venezuela': 3372, 'boygirl': 350, 'named': 2191, 'cubik': 649, 'cause': 419, 'poprock': 2458, 'xoxo': 3587, 'remind': 2652, 'tigerlike': 3218, 'spirit': 2982, 'south': 2962, 'american': 111, 'jungle': 1762, 'matter': 2030, 'african': 68, 'elephant': 864, 'bengal': 270, 'tiger': 3217, 'httpgagcomgagaavpwj': 1436, 'ima': 1627, 'rapper': 2595, 'notice': 2255, 'mixtape': 2113, 'datpiffcommixtapesdetailphpid': 686, 'bout': 344, 'airplane': 84, 'crashed': 626, 'land': 1834, 'survive': 3107, 'pet': 2392, 'tiget': 3219, 'kitty': 1806, 'purpy': 2533, 'mai': 2003, 'nguyen': 2221, 'hot': 1390, 'httpukeonlinecomeolimagesentiresiteregkatymkupmhjpg': 1531, 'nokia': 2242, 'phone': 2397, 'plane': 2417, 'crash': 625, 'httpwwwbubblewscomnewsvpssolutions': 1543, 'treu': 3270, 'detective': 732, 'alternate': 101, 'ending': 887, 'httpwwwfunnyordiecomvideosdfbtruedefectives': 1549, 'makeup': 2008, 'transformation': 3260, 'integrated': 1683, 'lookalike': 1934, 'feature': 1016, 'available': 193, 'ver': 3373, 'install': 1676, 'update': 3339, 'version': 3376, 'httpsplaygooglecomstoreappsdetailsidcomyourelinkmakeuptransformation': 1464, 'purry': 2534, 'seriously': 2801, 'ft': 1123, 'boa': 325, 'constrictor': 586, 'squeeze': 3002, 'death': 697, 'paused': 2365, 'hid': 1347, 'we': 3480, 'twin': 3305, 'melody': 2056, 'coverswe': 619, 'birthday': 302, 'thanksmercigraciasdankeobrigadograzie': 3177, 'dayd': 689, 'niceesabrosura': 2223, 'viva': 3414, 'httpssoundcloudcomyerkielinmigranteyerkimybmoveyourbody': 1474, 'growtopia': 1245, 'story': 3031, 'httpshhortcomarhupwehab': 1451, 'yay': 3596, 'commenter': 545, 'bitcoins': 307, 'fhenqxtwqmvptayiejnealahzvem': 1034, 'httpshhortcomargixctkd': 1450, 'empowering': 881, 'woman': 3540, 're': 2604, 'roar': 2707, 'make': 2006, 'drink': 810, 'bleach': 315, 'shes': 2832, 'hardcore': 1299, 'httpshhortcomarjtufxhxc': 1452, 'fan': 989, 'written': 3571, 'songs': 2942, 'gorlingoltz': 1224, 'syndrome': 3128, 'community': 552, 'httpswwwfacebookcomgorlingoltzsupport': 1486, 'opinion': 2316, 'better': 278, 'black': 312, 'blond': 320, 'eyes': 965, 'son': 2933, 'grave': 1235, 'httpwwwgofundmecombishopsgravemarker': 1552, 'roarrrr': 2709, 'megt': 2050, 'httpstwittercomfllowshoutouts': 1475, 'finish': 1052, 'dissertation': 765, 'roaaarrr': 2705, 'whore': 3513, 'httpwwwgofundmecomjormis': 1556, 'roaaaaarrrrrr': 2704, 'guarantee': 1257, 'stand': 3006, 'fear': 1015, 'httpshhortcomarlaviqub': 1453, 'inspirational': 1670, 'achieved': 23, 'greatly': 1238, 'thankful': 3173, 'ty': 3308, 'jack': 1721, 'daniel': 681, 'case': 414, 'httpsmfacebookcomstoryphpstoryfbidampidamprefstream': 1459, 'gf': 1177, 'shot': 2847, 'sec': 2779, 'boob': 332, 'magically': 1998, 'bigger': 289, 'suddenly': 3083, 'dude': 821, 'practically': 2482, 'vanishes': 3366, 'doubt': 793, 'songfeel': 2939, 'sweet': 3118, 'natural': 2197, 'httpwwwaaasorgtechivoteview': 1534, 'sheldon': 2830, 'star': 3007, 'advance': 55, 'conqueror': 581, 'haki': 1284, 'oportunity': 2317, 'congrasulation': 576, 'httpenprothomalocomsportnewszimbabweateamdueindhakawednesday': 1434, 'poeple': 2451, 'disliked': 760, 'sucks': 3081, 'contest': 591, 'loosing': 1945, 'httpswwwfacebookcomexagdlphotosatypeamptheater': 1484, 'inaccurate': 1641, 'rip': 2698, 'of': 2279, 'artist': 165, 'admire': 48, 'creativity': 631, 'nonsense': 2245, 'mobile': 2119, 'tech': 3154, 'comparison': 556, 'animals': 128, 'channelbecause': 447, 'filming': 1047, 'xoxoleah': 3588, 'maybe': 2031, 'folks': 1073, 'boooobs': 336, 'hating': 1310, 'confusing': 575, 'katys': 1783, 'october': 2276, 'soo': 2949, 'looooooooooooooooooooovvvvvvvvveeeeeeeeeeee': 1940, 'ittttttttttttt': 1716, 'telephone': 3157, 'randomly': 2587, 'reply': 2665, 'jello': 1735, 'strawberry': 3034, 'ive': 1720, 'smiley': 2917, 'tshirtof': 3290, 'expression': 958, 'important': 1633, 'statistic': 3014, 'can': 400, 'measure': 2039, 'warmth': 3446, 'smile': 2916, 'happiness': 1295, 'wwwteespringcomsmiley': 3582, 'gold': 1203, 'brings': 365, 'splash': 2984, 'nuts': 2269, 'finding': 1051, 'stole': 3027, 'comic': 542, 'catchy': 417, 'garbage': 1159, 'rihanna': 2695, 'httpswwwreverbnationcomslicknicksongs': 1514, 'firework': 1056, 'overplayed': 2331, 'hell': 1328, 'radio': 2582, 'human': 1586, 'folly': 1077, 'greatthis': 1239, 'awesum': 205, 'jus': 1764, 'luv': 1980, 'acoustic': 25, 'jims': 1743, 'ear': 834, 'off': 2280, 'selfie': 2791, 'alert': 89, 'soundsofsunday': 2961, 'vena': 3371, 'trojmiastoplvenabustaxiohtml': 3276, 'competition': 557, 'idol': 1608, 'pic': 2401, 'httpinstagramcompsmzdivopxb': 1441, 'katty': 1777, 'videoes': 3385, 'httpsviralangelscomuserdaaacwk': 1479, 'feminist': 1030, 'champion': 438, 'reinforce': 2640, 'stereotype': 3021, 'girly': 1187, 'painting': 2336, 'probably': 2500, 'httpthepiratebaysetorrenttheexpendablesdvdscrxviddingo': 1525, 'httpthepiratebaysetorrenttheexpendablesdvdscrleakedcleanxvidmprarbg': 1524, 'interested': 1688, 'wwwswagbuckscomrefernonturtle': 3581, 'note': 2253, 'clear': 508, 'complete': 560, 'utter': 3361, 'god': 1199, 'cleanse': 507, 'idiocy': 1605, 'humankind': 1589, 'cup': 651, 'reaction': 2606, 'shout': 2851, 'happen': 1291, 'katycat': 1780, 'httpsmfacebookcomprofilephpid': 1458, 'rid': 2691, 'useless': 3355, 'favorite': 1007, 'volume': 3419, 'her': 1335, 'incredible': 1651, 'extremely': 962, 'tits': 3229, 'gtattention': 1249, 'katycats': 1781, 'noms': 2243, 'ema': 870, 'tv': 3302, 'mtvema': 2164, 'comvote': 566, 'delete': 713, 'space': 2963, 'bigboss': 287, 'broken': 368, 'horn': 1386, 'giftcard': 1181, 'httpshhortcomaroocnjqub': 1454, 'freakin': 1102, 'sheep': 2829, 'period': 2385, 'terrible': 3164, 'invented': 1692, 'formula': 1090, 'inch': 1644, 'research': 2669, 'topic': 3244, 'secret': 2781, 'knowledge': 1812, 'enlargement': 894, 'applied': 150, 'learned': 1858, 'amazed': 103, 'result': 2675, 'course': 614, 'issue': 1707, 'order': 2320, 'asked': 171, 'info': 1656, 'httpspayhipcombotib': 1461, 'selling': 2793, 'symbolic': 3125, 'beginning': 256, 'scared': 2763, 'leopard': 1867, 'bikini': 291, 'skinny': 2890, 'size': 2887, 'bisexual': 303, 'sweat': 3117, 'freaking': 1103, 'nervous': 2210, 'austin': 186, 'mahones': 2002, 'httpswwwfacebookcompagesnaileynicoolrefhl': 1499, 'balls': 225, 'green': 1240, 'spotted': 2994, 'irritating': 1703, 'passionate': 2356, 'sex': 2807, 'mebut': 2042, 'giant': 1179, 'push': 2535, 'giving': 1191, 'ambition': 107, 'aiiima': 81, 'plzzz': 2448, 'httpswwwfacebookcompagescccblcebalmacebbcebt': 1493, 'httpsvimeocom': 1478, 'arent': 158, 'beaties': 248, 'httpswwwfacebookcompageshiphopexpress': 1496, 'yo': 3612, 'bella': 265, 'diagnosed': 736, 'wobbler': 3538, 'afford': 64, 'mri': 2159, 'surgery': 3102, 'dog': 779, 'lose': 1948, 'httpwwwgofundmecomfekgw': 1554, 'httpswwwfacebookcompageskomediburdagel': 1497, 'httpswwwfacebookcomprofilephpid': 1503, 'httpwwwgoogleadservicescompageadaclksalampaicsyoebwxvpcfldabgpydgbjdpmihmhuwbgjxbvsbeaegknljvcfbyhfbyiofgicahkabskgwpiaqkpahkmchbpmqambyapbbkoekwfpkullxqimgohvzeefmqrgtullbufszgnhbkjhbxmwtsdxhwpdxkazsjosiecvjjmbnswyijecqvhxlbdzstubofaloyinwmroocppsauatzguickmliduwmabzqvenetrfazorltbbvzyvxihbnqnvhmrbgesibgggbgkabjeycgampnumampcidggsmmatifsmvpicsampsigaodofcsehpopjyrbsxheenqampclientcapubampadurlhttpblogparalerochallengepentruafiliatiaplicalanoileprogramedeafilieresifiibusinessboomerulluniiampnmampmbampbgaqoucqvqiaaabpugaaacsqarvgoqwqxjmpuyvkosfkqbvkfzejhncovckkxcbafzzpajibxwbvvqjrdgzqrinlwgabybxlfwmadkrjgzkryizwqdihxggetnddabfltfkbmbffcjixnthwbwkjnonlhdeveagphoewxogbnuibgtrkgnacqoibgmzgafnsclsariqjhqrtdwvbiykiyyublotdexvklnveadzzflxryqkewsuredljwgkflqqaldiwaznuysgqjnrdyvucklplzonyisdkcebxdbhjzdwlbsjbigxmdpkrhvxinqliwqbahszxmjhwvwrkpxfoeks': 1559, 'body': 328, 'rapid': 2592, 'httpsplaygooglecomstoreappsdetailsidcomrapidfacebookmagicdroid': 1463, 'sensejust': 2799, 'videoi': 3386, 'telling': 3159, 'island': 1705, 'fit': 1060, 'situationbut': 2886, 'nvmthe': 2270, 'mighty': 2080, 'parry': 2347, 'rock': 2715, 'total': 3246, 'httpswwwpaidvertscomreftomuciux': 1513, 'esyest': 916, 'team': 3152, 'official': 2283, 'httpyoutubecevxzvsjlk': 1582, 'httpshhortcomarxjgbrne': 1455, 'playing': 2426, 'belly': 267, 'itsooooo': 1713, 'copy': 603, 'songstill': 2945, 'sooo': 2951, 'danced': 674, 'lmfao': 1918, 'httpsplusgooglecompostsgjvinpuemo': 1466, 'addicting': 41, 'hook': 1377, 'dope': 789, 'fast': 999, 'piss': 2411, 'toilet': 3233, 'quiet': 2547, 'track': 3254, 'sooooooooooooong': 2953, 'tattoo': 3145, 'tricep': 3271, 'say': 2757, 'glad': 1192, 'worry': 3557, 'eating': 845, 'rekt': 2641, 'mum': 2169, 'nite': 2238, 'cuz': 661, 'haterz': 1309, 'meh': 2051, 'lik': 1881, 'dis': 749, 'cri': 636, 'evertim': 927, 'sponswer': 2989, 'mi': 2074, 'robox': 2714, 'vidz': 3393, 'httpswwwindiegogocomprojectsgimmedemmoneyzrobloxxhome': 1509, 'eye': 963, 'title': 3227, 'lyrics': 1989, 'httpswwwindiegogocomprojectshelpstopmypovertycyberpanhandleingxhome': 1510, 'horrible': 1387, 'cringeworhty': 640, 'fashion': 997, 'blog': 319, 'sinar': 2873, 'jahitan': 1725, 'collection': 526, 'tqvm': 3253, 'appreciated': 153, 'trusted': 3285, 'uranus': 3351, 'bless': 316, 'belarus': 260, 'freyacumqueen': 1114, 'subscriberscome': 3064, 'emas': 872, 'httptvmtvemacomartistskatyperryixh': 1529, 'honest': 1373, 'mediocre': 2044, 'memorable': 2058, 'billie': 294, 'jean': 1734, 'beat': 246, 'democracy': 718, 'express': 957, 'lie': 1874, 'buzz': 392, 'cece': 424, 'deadme': 692, 'working': 3552, 'night': 2230, 'streamer': 3036, 'spotify': 2993, 'allows': 96, 'file': 1043, 'offline': 2286, 'opening': 2312, 'beta': 276, 'httpsmegaconzehvjzkyabgkgiwphzohwaeuesrwnegqglabcorwwfxhao': 1456, 'male': 2010, 'companion': 553, 'profile': 2507, 'coolest': 598, 'sextoy': 2808, 'made': 1996, 'httpsmfacebookcomdreaddisrefmnotififtfbpagefaninviteampactorid': 1457, 'racist': 2581, 'borderland': 338, 'presequel': 2489, 'poster': 2471, 'httpswwwfacebookcomnyghdramafestphotosatypeamptheater': 1491, 'tonighttoday': 3239, 'yesterday': 3608, 'succumbs': 3078, 'hahaha': 1279, 'katyperryvevo': 1782, 'axeljonssons': 209, 'honestly': 1374, 'brave': 356, 'oh': 2287, 'wait': 3431, 'thisand': 3203, 'brought': 371, 'sprayon': 2997, 'tan': 3138, 'hairstylist': 1283, 'cameraman': 398, 'guitar': 1262, 'illegal': 1619, 'goodlooking': 1210, 'babe': 217, 'choice': 479, 'surviving': 3108, 'happening': 1293, 'fool': 1079, 'foolish': 1080, 'arrogant': 162, 'obviously': 2274, 'idiot': 1606, 'garnered': 1162, 'numbering': 2265, 'guess': 1260, 'trash': 3265, 'father': 1000, 'turn': 3297, 'birtgday': 301, 'possible': 2466, 'gtgtjust': 1253, 'open': 2311, 'different': 744, 'tab': 3131, 'browser': 372, 'gtgtdont': 1251, 'hand': 1289, 'wasting': 3454, 'color': 529, 'characterized': 454, 'releasing': 2645, 'midnight': 2079, 'celebrate': 426, 'realized': 2611, 'verse': 3375, 'exact': 935, 'ho': 1366, 'lumineers': 1977, 'httpgiphycomgifsbirthdayflowershappygwjyuqiaxkaqxsfullscreen': 1437, 'that': 3180, 'advertising': 60, 'spark': 2972, 'taylor': 3148, 'swift': 3119, 'encouraging': 884, 'wisdom': 3532, 'wwwyouniqueproductscomjoannagordon': 3584, 'younique': 3619, 'joanna': 1744, 'gordon': 1221, 'wwwyouniqueproductscom': 3583, 'katheryns': 1775, 'katyand': 1779, 'sister': 2882, 'sing': 2874, 'autotune': 191, 'write': 3566, 'tha': 3170, 'fack': 975, 'nude': 2262, 'mayby': 2032, 'hooker': 1378, 'luckymusiqlive': 1975, 'drum': 818, 'et': 917, 'watchvnopovzoiqamplistuultucdihsdeibyowwuq': 3465, 'famous': 988, 'happens': 1294, 'start': 3009, 'medium': 2045, 'addfollow': 40, 'httptsucoroberts': 1528, 'relate': 2642, 'daughter': 687, 'depth': 723, 'dhg': 735, 'playlist': 2427, 'bunch': 383, 'nerdy': 2209, 'peach': 2374, 'absolute': 7, 'em': 869, 'hug': 1583, 'httpvimeocom': 1532, 'give': 1188, 'strength': 3038, 'known': 1813, 'meaning': 2037, 'httpminhatecacombrmaurospfilmesseriesdesenhosanimesmpetc': 1442, 'httpswwwfacebookcomantrobofficial': 1481, 'shakira': 2817, 'hack': 1272, 'skyburst': 2895, 'light': 1879, 'cancer': 402, 'umichael': 3313, 'age': 73, 'everybody': 928, 'female': 1028, 'vevo': 3378, 'justins': 1770, 'congrats': 577, 'applause': 148, 'httpssoundcloudcomjsuptfilsdusonfuckinghostile': 1470, 'httpswwwfacebookcommyfunnyriddles': 1489, 'httpswwwfacebookcomphotophpfbidampsetaamptypeamptheater': 1501, 'id': 1602, 'propa': 2516, 'explicit': 953, 'gangsta': 1158, 'insted': 1679, 'damnnnnnnnn': 672, 'oo': 2309, 'an': 116, 'growing': 1244, 'moment': 2129, 'cheer': 465, 'boring': 340, 'asinine': 169, 'heard': 1322, 'teenage': 3156, 'divorce': 769, 'wave': 3475, 'successful': 3077, 'stick': 3025, 'silly': 2867, 'putty': 2537, 'wahoo': 3430, 'middle': 2078, 'woods': 3546, 'comprehend': 563, 'explains': 952, 'awful': 206, 'clue': 517, 'living': 1915, 'fairy': 981, 'segue': 2787, 'ha': 1271, 'httpswwwfacebookcommarcossousafrefts': 1488, 'nature': 2198, 'tit': 3226, 'impress': 1636, 'roared': 2708, 'lion': 1903, 'youd': 3615, 'dede': 704, 'awesomeshe': 203, 'setting': 2806, 'figured': 1042, 'supposed': 3099, 'power': 2478, 'ballad': 224, 'uplifting': 3343, 'motivating': 2150, 'final': 1048, 'chorus': 482, 'umph': 3315, 'instead': 1678, 'crescendoing': 634, 'powerful': 2479, 'wavelength': 3477, 'fall': 983, 'flat': 1062, 'championand': 439, 'creator': 632, 'positive': 2465, 'blessing': 317, 'healing': 1319, 'creating': 630, 'success': 3075, 'nowplaying': 2259, 'weekendmix': 3487, 'dj': 772, 'denis': 720, 'shmelev': 2840, 'alex': 90, 'serov': 2802, 'wwwsmartfmnllivestreamhtml': 3580, 'artists': 166, 'httpwwwwattpadcomstoryshecanloveyougood': 1578, 'muchd': 2166, 'memorized': 2060, 'tend': 3160, 'skip': 2891, 'room': 2724, 'progressive': 2509, 'deep': 707, 'chillstep': 474, 'town': 3250, 'missouri': 2109, 'ask': 170, 'critiquing': 642, 'satisfying': 2751, 'advertise': 56, 'pester': 2391, 'gimme': 1182, 'httpwwwnetworkedblogscompcpwbrefpanorama': 1565, 'subscribed': 3059, 'httpswwwtsucotomeks': 1520, 'mah': 2000, 'duh': 824, 'youtubefacebook': 3634, 'lhudygirlamaya': 1873, 'yall': 3595, 'kevin': 1787, 'hart': 1302, 'realkevinheart': 2612, 'don': 784, 'greatest': 1237, 'quality': 2541, 'possibly': 2468, 'httpsappsfacebookcommypollsutsitcompetitionfromuserlinkamprefidouxge': 1448, 'anand': 120, 'niketan': 2232, 'international': 1689, 'fredom': 1105, 'poor': 2456, 'hii': 1351, 'dieroar': 742, 'floooooooooooooooooooop': 1067, 'grade': 1232, 'teacher': 3151, 'looked': 1935, 'exactly': 936, 'curti': 657, 'httpswwwfacebookcomdemiilovatofasrefhl': 1482, 'httpswwwfacebookcompagesfrasessecretasrefhl': 1495, 'httpwwwermailpldolaczunnfyi': 1547, 'parody': 2346, 'wet': 3501, 'seal': 2774, 'username': 3357, 'destinyforever': 730, 'httpwwwwetsealcommodelsearchmodelsearchhtml': 1579, 'simply': 2871, 'customer': 658, 'youhttpswwwfacebookcomgreenleader': 3616, 'httpsbinboxiodnckmqtqjb': 1449, 'bil': 292, 'soooooooooooooooooooooooooooooooooooooooo': 2955, 'xxx': 3591, 'decio': 702, 'cabelo': 393, 'homeless': 1371, 'alcoholic': 88, 'invisible': 1696, 'composer': 562, 'trust': 3284, 'deciocabelo': 703, 'canal': 401, 'born': 341, 'adele': 44, 'lile': 1895, 'modern': 2122, 'goosebump': 1219, 'inspiring': 1673, 'hrefhttpwwwyoutubecomwatchvkqzrkcpjamptmsa': 1428, 'part': 2348, 'wierd': 3516, 'humanbr': 1587, 'br': 351, 'giraffebr': 1184, 'elongate': 867, 'spinal': 2981, 'core': 604, 'skin': 2889, 'pigment': 2406, 'root': 2725, 'dreambr': 802, 'relnofollow': 2648, 'classothashtag': 500, 'hrefhttpsplusgooglecomsgiraffebruuhgiraffebruuha': 1409, 'rocklolwho': 2718, 'shuffle': 2855, 'awsomebr': 208, 'increible': 1652, 'likeee': 1889, 'dressed': 807, 'musique': 2181, 'wowwwwwwwwwwwwwwwwwwwwwwwwwwwwww': 3563, 'increidebl': 1653, 'superr': 3094, 'llikee': 1916, 'needed': 2203, 'mil': 2081, 'tango': 3139, 'switch': 3122, 'fairrrrrrr': 980, 'shuffling': 2858, 'videobr': 3384, 'songbr': 2936, 'hrefhttpwwwyoutubecomwatchvkqzrkcpjamptmsaa': 1429, 'rockbr': 2716, 'anthem': 136, 'lauren': 1850, 'bennett': 271, 'goo': 1207, 'hrefhttpsyoutubekqzrkcpjhttpsyoutubekqzrkcpja': 1422, 'box': 345, 'move': 2153, 'hirebr': 1356, 'mahogany': 2001, 'lmao': 1917, 'uncle': 3317, 'loveparty': 1962, 'stopis': 3029, 'fuckin': 1129, 'earthquake': 841, 'nepal': 2208, 'faded': 977, 'ah': 77, 'youtubebr': 3626, 'remeber': 2649, 'ol': 2294, 'werent': 3498, 'butt': 389, 'hero': 1340, 'generation': 1171, 'theyre': 3195, 'rockin': 2717, 'likeeee': 1890, 'robot': 2713, 'bi': 284, 'career': 412, 'sooooo': 2952, 'downs': 796, 'tension': 3162, 'likkee': 1893, 'amendment': 109, 'privacy': 2497, 'business': 387, 'nsa': 2261, 'spying': 3001, 'patriot': 2362, 'act': 28, 'renewal': 2660, 'rand': 2585, 'paul': 2363, 'spent': 2980, 'senate': 2795, 'floor': 1068, 'protest': 2521, 'filibuster': 1044, 'constitution': 585, 'nation': 2196, 'founded': 1094, 'dot': 792, 'email': 871, 'senator': 2796, 'congress': 578, 'morning': 2144, 'mindblowing': 2096, 'dancesuperbbb': 677, 'theme': 3185, 'insult': 1681, 'timebr': 3222, 'strong': 3040, 'past': 2359, 'summer': 3087, 'blow': 322, 'shufflin': 2857, 'soooooooooooooooooooooooooooooooooooooooooooooooooo': 2956, 'swear': 3116, 'doe': 777, 'else': 868, 'vanoss': 3367, 'everbr': 925, 'copied': 602, 'everywhere': 931, 'fu': 1125, 'cking': 495, 'awesom': 200, 'image': 1628, 'thingie': 3197, 'okay': 2293, 'exists': 944, 'insanebr': 1662, 'shrek': 2854, 'robo': 2712, 'insanely': 1663, 'literally': 1911, 'housee': 1397, 'tonight': 3238, 'lovee': 1960, 'nikki': 2233, 'minaj': 2094, 'anaconda': 118, 'jesses': 1740, 'spelled': 2978, 'peace': 2372, 'dang': 680, 'dat': 684, 'gat': 1163, 'moves': 2156, 'blast': 314, 'itbr': 1709, 'bone': 330, 'dosing': 791, 'foot': 1082, 'shake': 2813, 'golden': 1204, 'partying': 2351, 'cooooooooooooolllllllllll': 600, 'uploaded': 3345, 'finally': 1049, 'curse': 656, 'maylaysia': 2033, 'airline': 83, 'missing': 2106, 'fefefefefegelein': 1025, 'here': 1337, 'metal': 2069, 'wish': 3533, 'dudes': 822, 'show': 2852, 'watchin': 3458, 'laughing': 1847, 'yea': 3599, 'kidding': 1792, 'duel': 823, 'spongebob': 2987, 'goonrock': 1215, 'laura': 1849, 'in': 1640, 'jacket': 1722, 'sleeve': 2903, 'sleeveless': 2904, 'arm': 161, 'youtubbr': 3623, 'steps': 3020, 'flies': 1063, 'commentsoh': 548, 'lanta': 1838, 'df': 734, 'socool': 2925, 'coolwhy': 599, 'havent': 1312, 'before': 254, 'brah': 352, 'shuffled': 2856, 'illness': 1621, 'spreading': 3000, 'warring': 3448, 'hatersbr': 1308, 'en': 882, 'gooooood': 1217, 'likeeeeeeeee': 1891, 'thoughts': 3210, 'plzzzzzzz': 2449, 'plzzzzzzzzzzzzzzzzzzzzzzzzzzzzzzz': 2450, 'collaborator': 525, 'hrefhttpsplusgooglecomslmfaolmfaoa': 1412, 'lmfaois': 1919, 'reunion': 2679, 'june': 1761, 'expo': 954, 'idaho': 1603, 'garden': 1160, 'performe': 2384, 'press': 2490, 'conference': 571, 'answer': 135, 'question': 2543, 'yes': 3607, 'iiiiiiiiiii': 1615, 'unlike': 3331, 'brooooo': 369, 'youtubem': 3641, 'pro': 2498, 'plays': 2428, 'kill': 1796, 'youtubefb': 3635, 'drop': 816, 'decided': 701, 'certification': 432, 'prove': 2523, 'educated': 855, 'clean': 506, 'criminal': 639, 'work': 3550, 'entertainment': 901, 'field': 1037, 'rich': 2688, 'entertainer': 899, 'consolidating': 584, 'actress': 33, 'profits': 2508, 'pleasebr': 2436, 'ltbr': 1969, 'melhor': 2055, 'se': 2773, 'inscreva': 1665, 'meu': 2071, 'por': 2462, 'favorbr': 1006, 'obrigado': 2271, 'mejor': 2053, 'si': 2861, 'suscriba': 3109, 'gracias': 1230, 'meilleur': 2052, 'vous': 3424, 'abonner': 6, 'ma': 1990, 'chaine': 435, 'plaitbr': 2415, 'merci': 2064, 'chanell': 442, 'channelthanks': 450, 'remixer': 2656, 'melbourne': 2054, 'bored': 339, 'youtubea': 3625, 'agree': 75, 'bang': 227, 'happenedbr': 1292, 'spooked': 2990, 'spookinatibr': 2991, 'unspooked': 3333, 'tomorrowbr': 3237, 'hurt': 1592, 'lmfaovevo': 1920, 'hrefhttpsplusgooglecomseverydayimvapingeverydayimvapinga': 1408, 'span': 2969, 'classproflinkwrapperspan': 503, 'classproflinkprefixspana': 502, 'classproflink': 501, 'hrefhttpsplusgooglecom': 1404, 'oidsupermariologanaspan': 2290, 'thot': 3206, 'awsome': 207, 'jam': 1727, 'viewsbr': 3399, 'los': 1947, 'invito': 1698, 'subscribirse': 3068, 'youtubeopponents': 3642, 'mm': 2116, 'sky': 2894, 'diving': 768, 'doctor': 776, 'hrefhttpsmfreemyappscomshareurlbhttpsmfreemyappscomshareurlba': 1402, 'subscribesoon': 3066, 'nut': 2268, 'shellbr': 2831, 'firstbr': 1058, 'clubbr': 516, 'eyesbr': 966, 'advertisementsbr': 58, 'reasonbr': 2616, 'christianity': 488, 'arguementsbr': 159, 'religious': 2647, 'console': 583, 'warsbr': 3449, 'pcmasteracebr': 2370, 'trollsbr': 3278, 'quothow': 2561, 'online': 2308, 'earthbr': 840, 'complaintsbr': 559, 'pewdiepie': 2394, 'fangirlsbr': 992, 'scrubsbr': 2772, 'rmontageparodiesbr': 2703, 'russia': 2733, 'hrefhttpsplusgooglecomskinglothedancerkinglothedancera': 1411, 'naive': 2188, 'believing': 264, 'respect': 2671, 'fulfilling': 1133, 'drama': 800, 'fee': 1019, 'mgtow': 2073, 'chose': 483, 'information': 1657, 'caution': 420, 'disposable': 764, 'provider': 2524, 'utility': 3360, 'plea': 2430, 'iibr': 1614, 'som': 2930, 'contact': 589, 'kik': 1795, 'skypebr': 2898, 'panderbr': 2340, 'skype': 2897, 'sandernicolaysenbr': 2747, 'kashoo': 1774, 'channelbr': 448, 'graciasbr': 1231, 'youtubehbbhhhgh': 3636, 'subscrib': 3056, 'youtubehjalp': 3637, 'youtubeqq': 3644, 'hrefhttpwwwgofundmecomhelpmypitbullhttpwwwgofundmecomhelpmypitbulla': 1424, 'pitbull': 2412, 'virucide': 3407, 'tweet': 3304, 'therealterrell': 3190, 'couple': 613, 'exceptions': 939, 'youtubepl': 3643, 'youtubelo': 3640, 'feelz': 1024, 'extinct': 959, 'quotwhite': 2578, 'genocidequot': 1172, 'fricking': 1115, 'beast': 245, 'anywon': 141, 'herd': 1336, 'rollin': 2722, 'woke': 3539, 'buggti': 379, 'nuketown': 2263, 'shooting': 2843, 'quick': 2544, 'scoping': 2768, 'training': 3259, 'faze': 1010, 'adoult': 52, 'freind': 1109, 'sang': 2748, 'freinds': 1110, 'solve': 2929, 'partydrunk': 2350, 'hrefhttpsplaygooglecomstoreappsdetailsidvnibitapplockeramphlenhttpsplaygooglecomstoreappsdetailsidvnibitapplockeramphlena': 1403, 'youtubeit': 3638, 'beatboxing': 247, 'ummm': 3314, 'sup': 3090, 'gu': 1256, 'jaylan': 1731, 'yetbut': 3610, 'youtubejjiwajwkajajqjaubkm': 3639, 'wtf': 3574, 'youtu': 3622, 'nigger': 2229, 'fools': 1081, 'wood': 3545, 'pilebr': 2407, 'hmmbr': 1363, 'pie': 2404, 'ladies': 1828, 'hahaa': 1277, 'tighttttbr': 3220, 'quotaint': 2549, 'demo': 717, 'manquot': 2017, 'stuffbr': 3046, 'slapper': 2899, 'banger': 228, 'peep': 2375, 'hrefhttpssoundcloudcomroccsteadywaveemojiprodbynippylongbottomcyberpunkhttpssoundcloudcomroccsteadywaveemojiprodbynippylongbottomcyberpunka': 1417, 'niggas': 2228, 'quotcereal': 2550, 'knock': 1810, 'babyquot': 219, 'quotswagquot': 2572, 'tuto': 3300, 'usually': 3359, 'abomination': 5, 'lights': 1880, 'paypal': 2367, 'entered': 898, 'hood': 1376, 'doh': 780, 'flixter': 1066, 'nossnevs': 2250, 'nezo': 2220, 'edbr': 850, 'likeampshare': 1883, 'british': 367, 'youtuberbr': 3646, 'weekly': 3488, 'subscribebr': 3058, 'thanksjoycebr': 3176, 'promos': 2513, 'bady': 222, 'yust': 3652, 'pbr': 2368, 'computerbased': 564, 'musicbr': 2174, 'industry': 1655, 'rage': 2583, 'quoton': 2568, 'incquot': 1649, 'filling': 1046, 'surveysbr': 3105, 'hrefhttpwwwprizerebelcomindexphprhttpwwwprizerebelcomindexphpra': 1425, 'ooooo': 2310, 'shuffllllllllllllllllllllllinnnnn': 2859, 'them': 3184, 'looooooooove': 1941, 'loon': 1938, 'hilarious': 1352, 'noise': 2241, 'louis': 1955, 'saving': 2754, 'lovely': 1961, 'received': 2619, 'hrefhttpsplusgooglecomsactiveactivea': 1405, 'pimpmyviews': 2409, 'iam': 1600, 'palastine': 2339, 'wheel': 3505, 'aslamu': 173, 'lykum': 1984, 'pakistan': 2337, 'eminem': 873, 'espana': 911, 'mexico': 2072, 'latinoamerica': 1844, 'alright': 100, 'lady': 1829, 'john': 1747, 'smoking': 2919, 'lyrically': 1987, 'hotter': 1392, 'example': 937, 'abuse': 10, 'husband': 1593, 'definitely': 708, 'wellif': 3495, 'someone': 2932, 'sayin': 2758, 'charlie': 457, 'lost': 1951, 'hrefhttpswwwfacebookcomgroupshttpswwwfacebookcomgroupsa': 1418, 'beats': 250, 'unstoppable': 3334, 'rape': 2591, 'cheating': 461, 'basically': 236, 'though': 3208, 'mirror': 2104, 'harry': 1301, 'potter': 2475, 'deathly': 698, 'hallowsbr': 1287, 'sirius': 2881, 'quoti': 2562, 'youquot': 3620, 'hrefhttpsyoutubeyfuygkrchttpsyoutubeyfuygkrca': 1423, 'musicim': 2177, 'spamming': 2968, 'load': 1926, 'hyuck': 1598, 'australia': 187, 'bewatching': 282, 'favourite': 1009, 'gorgeous': 1223, 'passion': 2355, 'dysfunctional': 832, 'insanity': 1664, 'insane': 1661, 'noi': 2240, 'youtubechcfcvzfzfbvzdr': 3629, 'ryhme': 2734, 'canibus': 403, 'quadrillion': 2540, 'especially': 912, 'category': 418, 'intelligent': 1686, 'rapped': 2594, 'forgot': 1088, 'spit': 2983, 'rymeluv': 2735, 'ya': 3592, 'linz': 1902, 'personally': 2389, 'abusive': 12, 'relationship': 2643, 'writing': 3569, 'counts': 612, 'jail': 1726, 'ended': 886, 'od': 2277, 'plese': 2439, 'aye': 212, 'homies': 1372, 'cent': 430, 'line': 1898, 'feed': 1020, 'gone': 1205, 'mampm': 2012, 'well': 3492, 'youtubebut': 3627, 'rhinnah': 2685, 'youtubers': 3647, 'musician': 2176, 'gave': 1164, 'quot': 2548, 'sleeping': 2902, 'retard': 2677, 'goot': 1220, 'afraid': 65, 'skit': 2892, 'vine': 3401, 'tear': 3153, 'rihana': 2694, 'lostbr': 1952, 'cheat': 460, 'megan': 2048, 'fox': 1096, 'hothot': 1391, 'medication': 2043, 'wited': 3534, 'alfred': 91, 'sadly': 2737, 'hog': 1367, 'swamp': 3115, 'disorder': 763, 'filled': 1045, 'sassy': 2750, 'mouse': 2152, 'flaming': 1061, 'cheetos': 466, 'eat': 844, 'samurman': 2746, 'oreo': 2321, 'near': 2200, 'eminems': 875, 'actual': 34, 'talking': 3137, 'untitled': 3336, 'cold': 523, 'wind': 3524, 'wtp': 3575, 'apology': 143, 'toy': 3252, 'soldier': 2928, 'mosh': 2146, 'sense': 2798, 'dante': 682, 'riled': 2696, 'listeningstill': 1910, 'pleasure': 2438, 'password': 2358, 'facebookpasshackblogspotcom': 972, 'software': 2926, 'hacking': 1275, 'detail': 731, 'dakoda': 669, 'bigelow': 288, 'gained': 1145, 'deaf': 693, 'ginius': 1183, 'sttuupid': 3042, 'emotion': 878, 'songgod': 2940, 'rant': 2589, 'vi': 3379, 'hrefhttpsplusgooglecomseminememinema': 1407, 'hrefhttpsplusgooglecomslovethewayyoulielovethewayyouliea': 1413, 'hrefhttpsplusgooglecomsrapgodrapgoda': 1414, 'hrefhttpsplusgooglecomskingkinga': 1410, 'following': 1076, 'quotthumbs': 2574, 'upquot': 3348, 'button': 390, 'bearkglzjqup': 244, 'fbtwitterg': 1012, 'award': 196, 'method': 2070, 'roulette': 2728, 'shady': 2811, 'monster': 2135, 'watchvwgkmxnym': 3470, 'mmlp': 2117, 'ftw': 1124, 'igblastcom': 1610, 'imma': 1630, 'youtubecomwatchvasfnshghkampfeatureyoutube': 3632, 'supporter': 3098, 'hay': 1314, 'dakota': 670, 'earned': 836, 'subscribee': 3060, 'listencheck': 1907, 'andrew': 123, 'guasch': 1258, 'sick': 2862, 'flowim': 1069, 'dopethats': 790, 'aftermath': 71, 'tde': 3150, 'driveshaft': 813, 'extraordinary': 961, 'firepacom': 1055, 'lake': 1830, 'chillpal': 473, 'sturdy': 3048, 'astauand': 176, 'johackle': 1746, 'chorenn': 481, 'ethosien': 918, 'changeable': 444, 'noxu': 2260, 'ploosnar': 2442, 'looplab': 1944, 'hoppler': 1385, 'delicious': 715, 'false': 984, 'scitenoa': 2767, 'locobot': 1927, 'heartbreaking': 1325, 'thirsty': 3201, 'reminiscent': 2654, 'busyglide': 388, 'sasaroo': 2749, 'sore': 2958, 'axiomatic': 210, 'naperone': 2194, 'mere': 2066, 'undesirable': 3324, 'agreeable': 76, 'imperfect': 1632, 'roasted': 2710, 'insidious': 1667, 'modgone': 2124, 'quickest': 2545, 'trelod': 3268, 'keen': 1784, 'fresh': 1113, 'economic': 849, 'bocilile': 327, 'females': 1029, 'moneygqcom': 2132, 'victorious': 3381, 'luxuriant': 1981, 'responsible': 2674, 'unbiased': 3316, 'yoffa': 3613, 'ociramma': 2275, 'handsome': 1290, 'arrowgance': 163, 'mizuxe': 2115, 'boaconic': 326, 'sophisticated': 2957, 'illfated': 1620, 'spourmo': 2995, 'chubby': 490, 'hioffpo': 1353, 'probable': 2499, 'singlewave': 2878, 'trop': 3279, 'fort': 1091, 'votre': 3422, 'waratel': 3444, 'misty': 2110, 'exciting': 940, 'swoquix': 3124, 'acaer': 14, 'tupacase': 3296, 'lively': 1914, 'idiotic': 1607, 'ablaze': 2, 'crabby': 621, 'aloidia': 98, 'cheilith': 467, 'feandra': 1014, 'ignorant': 1611, 'wavefire': 3476, 'reiltas': 2639, 'skizzle': 2893, 'jovaphile': 1756, 'swooflia': 3123, 'grynn': 1246, 'excellent': 938, 'slimy': 2905, 'gabby': 1142, 'nalpure': 2189, 'lucky': 1974, 'glozzom': 1195, 'depressed': 722, 'sinpad': 2880, 'stereotyped': 3022, 'toximble': 3251, 'belle': 266, 'chanson': 452, 'boybr': 348, 'krean': 1822, 'magnificent': 1999, 'noodile': 2246, 'unequaled': 3326, 'moderock': 2123, 'gogopo': 1201, 'lulerain': 1976, 'olielle': 2300, 'zesty': 3655, 'laughable': 1846, 'accidental': 18, 'pepelexa': 2380, 'delightful': 716, 'wiry': 3531, 'toogit': 3241, 'uncovered': 3318, 'chesture': 468, 'woozy': 3548, 'adhoc': 46, 'weak': 3481, 'shallow': 2823, 'performance': 2383, 'acceptance': 15, 'speech': 2976, 'watchvarkglzjqup': 3461, 'ytma': 3650, 'paragraph': 2343, 'quotfirequot': 2557, 'hrefhttpwwwyoutubecomuserjlimvuthhttpwwwyoutubecomuserjlimvutha': 1427, 'ferirama': 1031, 'besloor': 273, 'shame': 2824, 'eggmode': 859, 'wazzasoft': 3479, 'plifal': 2440, 'shorogyt': 2845, 'value': 3365, 'scale': 2761, 'qerrassa': 2538, 'qiameth': 2539, 'mogotrevo': 2125, 'parede': 2345, 'yboiveth': 3597, 'drirathiel': 811, 'sertave': 2803, 'tendency': 3161, 'humor': 1590, 'unelind': 3325, 'operation': 2315, 'oleald': 2299, 'claster': 505, 'roll': 2721, 'fuffapster': 1132, 'worst': 3558, 'towered': 3249, 'quoteminem': 2555, 'yearquot': 3602, 'conveying': 593, 'domestic': 782, 'violence': 3402, 'fictional': 1035, 'exist': 943, 'chooses': 480, 'sexual': 2809, 'feeling': 1023, 'ad': 36, 'fgw': 1033, 'drew': 808, 'reflective': 2633, 'expansion': 945, 'intervene': 1691, 'sneeze': 2921, 'witness': 3536, 'smoke': 2918, 'innocent': 1660, 'prioritize': 2496, 'desire': 729, 'flight': 1064, 'polish': 2455, 'tax': 3146, 'zip': 3656, 'omniscient': 2303, 'eminmem': 877, 'wife': 3518, 'beating': 249, 'bastard': 239, 'micheal': 2077, 'class': 499, 'fame': 985, 'authenticviewscom': 188, 'spousal': 2996, 'abusue': 13, 'foxbecause': 1097, 'similar': 2869, 'nicei': 2224, 'flimsy': 1065, 'slip': 2906, 'facilitate': 974, 'manager': 2015, 'set': 2805, 'anxious': 137, 'loss': 1950, 'retrieve': 2678, 'photograph': 2399, 'husky': 1594, 'breath': 361, 'retain': 2676, 'rhythm': 2687, 'fabricates': 968, 'scintillating': 2766, 'harbor': 1297, 'cook': 595, 'officiates': 2285, 'walk': 3435, 'judge': 1758, 'ink': 1659, 'valuable': 3364, 'increase': 1650, 'cudi': 650, 'watchvxytcqnzmua': 3471, 'annoys': 134, 'cope': 601, 'picked': 2402, 'pen': 2376, 'paper': 2342, 'bring': 363, 'wrote': 3573, 'released': 2644, 'commit': 550, 'suicide': 3085, 'professionally': 2505, 'produced': 2503, 'my': 2186, 'george': 1173, 'inspiration': 1669, 'thou': 3207, 'covered': 617, 'mockingbird': 2120, 'worked': 3551, 'featuring': 1018, 'rhianna': 2684, 'insperasen': 1668, 'fav': 1002, 'eeeveryone': 856, 'dundundunnn': 826, 'collaboration': 524, 'zonepacom': 3658, 'rehabilitate': 2638, 'blushing': 324, 'depreciateds': 721, 'steel': 3017, 'selection': 2789, 'edit': 852, 'range': 2588, 'disclose': 753, 'macho': 1994, 'lift': 1878, 'letter': 1869, 'frame': 1100, 'thundering': 3215, 'prevent': 2492, 'conscious': 582, 'activates': 30, 'distribution': 766, 'normal': 2247, 'synthesizes': 3129, 'plant': 2419, 'entertains': 902, 'mail': 2004, 'hermann': 1339, 'buchmair': 376, 'realtionship': 2613, 'deserves': 727, 'bbb': 240, 'more': 2142, 'protective': 2520, 'geeze': 1167, 'quotdeazyquot': 2553, 'truethank': 3281, 'forever': 1085, 'riri': 2699, 'ignore': 1612, 'yuliya': 3651, 'september': 2800, 'inside': 1666, 'sneakiestg': 2920, 'muzik': 2184, 'cried': 637, 'subcribe': 3053, 'fantasy': 994, 'thefantasy': 3183, 'war': 3443, 'illustrate': 1623, 'exclusive': 941, 'mountain': 2151, 'refers': 2632, 'helpless': 1334, 'loud': 1954, 'authority': 189, 'improves': 1639, 'canvas': 404, 'repair': 2661, 'uppity': 3347, 'learning': 1859, 'substantial': 3071, 'derives': 724, 'burst': 386, 'render': 2659, 'symptomatic': 3126, 'bite': 308, 'brief': 362, 'narrow': 2195, 'eager': 833, 'transmit': 3263, 'crush': 647, 'mammoth': 2011, 'achieve': 22, 'shock': 2841, 'reduce': 2630, 'delicate': 714, 'meaty': 2041, 'adapt': 38, 'oil': 2291, 'thanx': 3179, 'admitting': 50, 'killed': 1797, 'girlfriend': 1186, 'tube': 3293, 'keithlinscotts': 1786, 'mummy': 2170, 'smack': 2910, 'heroin': 1341, 'fruit': 1121, 'vegetable': 3370, 'longer': 1932, 'lasting': 1841, 'energy': 888, 'weight': 3489, 'youtubecomuserloseweight': 3631, 'gorg': 1222, 'truly': 3282, 'pour': 2476, 'vincent': 3400, 'survival': 3106, 'texas': 3168, 'quotpmwquot': 2569, 'disappoint': 751, 'therealchrisking': 3189, 'quotmemory': 2566, 'lanequot': 1835, 'rd': 2603, 'quotcrown': 2551, 'mequot': 2063, 'asking': 172, 'catch': 416, 'letting': 1870, 'penny': 2378, 'leandrus': 1856, 'playtime': 2429, 'awesoooome': 204, 'kpopcitynet': 1821, 'largest': 1840, 'discount': 754, 'store': 3030, 'quothollywood': 2560, 'collectionquot': 527, 'phenomenallyricshere': 2395, 'thisthe': 3205, 'skylarworks': 2896, 'together': 3232, 'tygas': 3309, 'molly': 2126, 'whiz': 3510, 'khalifa': 1790, 'writingrecordingmixingperforming': 3570, 'bar': 231, 'build': 380, 'base': 234, 'improvehelp': 1638, 'closer': 513, 'lyrical': 1986, 'commment': 551, 'adult': 54, 'screwing': 2771, 'basketball': 237, 'player': 2423, 'crazycelebnewseupn': 628, 'plzz': 2447, 'srilanka': 3004, 'rate': 2600, 'helped': 1331, 'heshe': 1342, 'lv': 1983, 'onece': 2306, 'aswell': 177, 'pun': 2530, 'beware': 281, 'moon': 2141, 'rocks': 2719, 'azerbaijanbr': 214, 'warning': 3447, 'lneadwbfstvhkjlpxaeyvmnlvmriudtsfkvyali': 1921, 'pasatcroatia': 2353, 'lneadwbfvkahxpkenmfywkyxthsuprijuqsznug': 1925, 'belrustnice': 268, 'lneadwbftvzqtjuehasiefrjgexidvqdnqvphoexode': 1923, 'comebacktm': 536, 'lneadwbfunoaragawgutjoazdkfiuntzhymuhammad': 1924, 'shaeel': 2812, 'abbastfuck': 1, 'lneadwbftotoufjzvfflfnaxykwzsivqhimxenotorious': 1922, 'nikothey': 2236, 'belgium': 261, 'speaks': 2974, 'resort': 2670, 'audio': 181, 'invest': 1693, 'equipment': 909, 'response': 2673, 'notorious': 2257, 'niko': 2234, 'eminemlt': 874, 'everlt': 926, 'short': 2846, 'weekend': 3486, 'songvideo': 2946, 'trigger': 3274, 'meghan': 2049, 'ayyy': 213, 'juss': 1765, 'tryna': 3289, 'chrck': 484, 'songcongratulations': 2937, 'quotlove': 2565, 'jemini': 1738, 'signed': 2864, 'adam': 37, 'watchvtugnl': 3468, 'charlieee': 458, 'dddd': 690, 'gtgt': 1250, 'underground': 3320, 'pussy': 2536, 'ohand': 2288, 'overlol': 2330, 'coffee': 522, 'lover': 1963, 'lovatype': 1957, 'lova': 1956, 'spell': 2977, 'enterthen': 903, 'titled': 3228, 'writeperformrecordmixeditpost': 3567, 'barsto': 233, 'journeywatch': 1755, 'dreamhelp': 804, 'basethanks': 235, 'moly': 2127, 'liers': 1875, 'treating': 3267, 'bulgaria': 381, 'killtheclockhd': 1799, 'original': 2323, 'quotyour': 2580, 'disguisequot': 758, 'hiphop': 1355, 'sooooooooooooooo': 2954, 'gameplay': 1148, 'watchvhmsayho': 3464, 'cypher': 662, 'recently': 2621, 'album': 87, 'ep': 906, 'subscription': 3070, 'mindcould': 2097, 'musicwe': 2180, 'songsearch': 2944, 'dna': 774, 'guaschi': 1259, 'barspart': 232, 'songeveryday': 2938, 'journey': 1754, 'favour': 1008, 'told': 3234, 'potential': 2474, 'student': 3044, 'foward': 1095, 'dragon': 797, 'lana': 1833, 'del': 712, 'rey': 2683, 'drake': 799, 'macklemore': 1995, 'pink': 2410, 'countless': 610, 'inspire': 1671, 'fyi': 1141, 'freedom': 1107, 'hrefhttpsplusgooglecomsawesomeawesomea': 1406, 'hrefhttpsplusgooglecomssharesharea': 1416, 'hrefhttpsplusgooglecomsrtrta': 1415, 'hrefhttpowlyzmefhttpowlyzmefa': 1401, 'aspiring': 174, 'looooved': 1942, 'hoping': 1382, 'advertisement': 57, 'helpful': 1332, 'quotwe': 2577, 'master': 2028, 'itquot': 1712, 'favor': 1005, 'columbus': 532, 'nelson': 2206, 'spammer': 2967, 'watchvyuttxoyqq': 3472, 'losing': 1949, 'lies': 1876, 'lil': 1894, 'subscribing': 3067, 'mmph': 2118, 'terrance': 3163, 'serving': 2804, 'quotlike': 2564, 'quotsubscribequot': 2571, 'tvcmcadavidweebly': 3303, 'opportunity': 2319, 'duo': 828, 'starting': 3011, 'freestyle': 1108, 'likecomment': 1886, 'recording': 2626, 'rhyme': 2686, 'pointer': 2453, 'hottest': 1393, 'hairstyle': 1282, 'trend': 3269, 'upgrade': 3341, 'sen': 2794, 'higher': 1349, 'level': 1871, 'googlbxrosr': 1212, 'bangladesh': 230, 'fire': 1053, 'quotfeelin': 2556, 'goodquot': 1211, 'jdp': 1733, 'quotghostpoetquot': 2558, 'upcoming': 3338, 'ii': 1613, 'nicer': 2226, 'quotcruz': 2552, 'supatquotbr': 3091, 'be': 243, 'djj': 773, 'road': 2706, 'recovery': 2627, 'dated': 685, 'bbut': 241, 'claire': 497, 'swag': 3113, 'professor': 2506, 'lemme': 1866, 'berzerk': 272, 'earns': 838, 'wwhore': 3578, 'wage': 3428, 'pc': 2369, 'survey': 3104, 'shitjust': 2837, 'yahoo': 3594, 'legit': 1864, 'msg': 2161, 'vulnerable': 3426, 'recentley': 2620, 'surpassing': 3103, 'justing': 1769, 'watchvbwywphic': 3462, 'watchvaimbwbfqbzg': 3460, 'subscrible': 3069, 'honesty': 1375, 'wright': 3565, 'makeing': 2007, 'breaken': 360, 'cazzy': 421, 'comeing': 538, 'rule': 2731, 'luck': 1972, 'lovet': 1964, 'btw': 375, 'skill': 2888, 'current': 654, 'smaller': 2912, 'mile': 2082, 'nothingplease': 2254, 'spammed': 2966, 'critisism': 643, 'songsbr': 2943, 'supper': 3096, 'coolbr': 597, 'musicbut': 2175, 'quotso': 2570, 'lunden': 1978, 'lyricism': 1988, 'dong': 787, 'nirvanatrust': 2237, 'eminen': 876, 'evil': 933, 'farrell': 996, 'report': 2666, 'net': 2211, 'police': 2454, 'intelligence': 1685, 'analyst': 119, 'whistleblower': 3507, 'tony': 3240, 'expose': 955, 'horrific': 1388, 'monstrous': 2136, 'coverup': 620, 'perpetrated': 2386, 'operating': 2314, 'crime': 638, 'mainstream': 2005, 'law': 1851, 'firm': 1057, 'protect': 2519, 'devil': 733, 'brutally': 373, 'target': 3142, 'linked': 1901, 'london': 1930, 'attack': 178, 'column': 533, 'st': 3005, 'january': 1728, 'touch': 3248, 'mic': 2075, 'from': 1120, 'thailand': 3171, 'classsic': 504, 'spare': 2971, 'rapperplease': 2596, 'wastin': 3453, 'noticed': 2256, 'charley': 456, 'watchvnxkihkds': 3466, 'mcashim': 2034, 'brazil': 357, 'aware': 197, 'sean': 2775, 'kingston': 1804, 'inbox': 1642, 'channelsounds': 449, 'fair': 979, 'health': 1320, 'scare': 2762, 'thankfully': 3174, 'wasn': 3450, 'fullest': 1134, 'mission': 2107, 've': 3369, 'accomplished': 19, 'motivate': 2149, 'they': 3194, 'red': 2628, 'replay': 2664, 'worldcup': 3554, 'guruofmovie': 1264, 'waka': 3432, 'wery': 3499, 'iniestas': 1658, 'netherlands': 2213, 'thumsb': 3214, 'axy': 211, 'blonde': 321, 'times': 3223, 'itttttttt': 1715, 'wurkkkkkkkkkkkkkkkkkkkkkkkkkkkkkkkkkkkkkkkkkkkkkkkkkkkkkkkkkkkkkkkkkkkkkkkkkkkkkkkkkkkkkkkkkkkkkkkkkkkkk': 3576, 'wooooo': 3547, 'hrefhttpwwwyoutubecomwatchvprpeedmmmqamptmsa': 1430, 'saturday': 2752, 'postponing': 2473, 'week': 3485, 'hrefhttpithtithta': 1400, 'joining': 1750, 'fright': 1118, 'soccer': 2922, 'cd': 422, 'couch': 606, 'fave': 1003, 'felt': 1027, 'madly': 1997, 'totally': 3247, 'goood': 1216, 'fifa': 1038, 'coby': 519, 'usl': 3358, 'hrefhttpadflyhttpadflya': 1399, 'hmvtxbr': 1365, 'thisbr': 3204, 'hmvtx': 1364, 'ilovethissong': 1625, 'lamest': 1832, 'africa': 66, 'aid': 80, 'charity': 455, 'proud': 2522, 'ricky': 2690, 'sam': 2743, 'billiom': 295, 'shakifans': 2815, 'ilove': 1624, 'curly': 653, 'likebr': 1885, 'blank': 313, 'mio': 2103, 'muchshakira': 2167, 'shakirabr': 2818, 'definitley': 710, 'gypsy': 1270, 'rocksbr': 2720, 'oidshakiravevoaspan': 2289, 'torunament': 3245, 'nummber': 2267, 'patrik': 2361, 'kluivert': 1808, 'ampi': 114, 'shakiralt': 2819, 'stil': 3026, 'wk': 3537, 'samebr': 2744, 'likedbr': 1888, 'yearsbr': 3604, 'wil': 3520, 'wanderfol': 3438, 'miusic': 2111, 'pleasant': 2433, 'eh': 861, 'cutie': 660, 'shkira': 2839, 'promotes': 2515, 'terrorism': 3165, 'years': 3603, 'lip': 1904, 'synch': 3127, 'languages': 1837, 'gusttavo': 1265, 'lima': 1896, 'voce': 3417, 'nao': 2193, 'conhece': 579, 'offical': 2282, 'shakiras': 2820, 'dark': 683, 'horse': 1389, 'ahead': 78, 'roughly': 2727, 'hrefhttpswwwyoutubecomwatchvprpeedmmmqhttpswwwyoutubecomwatchvprpeedmmmqa': 1421, 'underrated': 3321, 'betterbr': 279, 'hasbr': 1304, 'meaningful': 2038, 'vibe': 3380, 'expect': 946, 'instantly': 1677, 'faves': 1004, 'brazilian': 358, 'shaki': 2814, 'autotuned': 192, 'lisening': 1905, 'shakiria': 2821, 'aunt': 185, 'africabr': 67, 'empirebr': 880, 'youtubecentral': 3628, 'millionsbr': 2089, 'dedication': 706, 'passionbr': 2357, 'videosbr': 3388, 'believerbr': 263, 'loyal': 1967, 'gamezzmta': 1151, 'gamezz': 1150, 'mta': 2162, 'trafficking': 3256, 'petitionbr': 2393, 'hrefhttpwwwthepetitionsitecomstopanimaltraffickingcidheaderclickhttpwwwthepetitionsitecomstopanimaltraffickingcidheaderclicka': 1426, 'capbr': 405, 'ej': 863, 'ba': 215, 'hopme': 1383, 'hrefhttpswwwpaidvertscomrefsihaamhttpswwwpaidvertscomrefsihaama': 1420, 'all': 93, 'spanish': 2970, 'brake': 354, 'thingsbr': 3198, 'subscribeeeeeeeeee': 3061, 'channnnnnelll': 451, 'hrefhttpswwwpaidvertscomrefmariushttpswwwpaidvertscomrefmariusa': 1419, 'income': 1647, 'financial': 1050, 'risk': 2702, 'acquiring': 27, 'bonus': 331, 'deal': 694, 'technique': 3155, 'wager': 3429, 'bookmaker': 335, 'bet': 275, 'betfair': 277, 'secure': 2783, 'chap': 453, 'jim': 1742, 'vanstone': 3368, 'quid': 2546, 'costfree': 605, 'bookie': 334, 'obtain': 2273, 'consumer': 588, 'compared': 555, 'adore': 51, 'earning': 837, 'claiming': 496, 'acquire': 26, 'lad': 1826, 'selecting': 2788, 'generated': 1170, 'assume': 175, 'succeeds': 3073, 'dribbleproshot': 809, 'significantly': 2865, 'boost': 337, 'aka': 85, 'nick': 2227, 'playerhis': 2424, 'mate': 2029, 'definitily': 709, 'quotdribbleproshotquot': 2554, 'useful': 3354, 'demonstrating': 719, 'enormously': 896, 'transformed': 3261, 'fausto': 1001, 'substantially': 3072, 'footballsoccer': 1084, 'playerto': 2425, 'amazement': 104, 'hopefully': 1381, 'kpop': 1820, 'voucher': 3423, 'cardsxbox': 410, 'duzafizz': 830, 'burder': 384, 'colorful': 530, 'incandescent': 1643, 'ambitious': 108, 'winooze': 3529, 'absorbing': 9, 'macabre': 1992, 'crestboot': 635, 'boxium': 346, 'womanly': 3541, 'ybuwyn': 3598, 'forgetful': 1087, 'zealous': 3653, 'wakad': 3433, 'halloween': 1286, 'dreamer': 803, 'ourself': 2326, 'wilsubscribe': 3522, 'frndzzl': 1119, 'fragile': 1099, 'swim': 3120, 'enlist': 895, 'audit': 182, 'frequent': 1112, 'describes': 725, 'requite': 2668, 'mess': 2067, 'upto': 3349, 'netjobscom': 2214, 'comfort': 540, 'currently': 655, 'hiring': 1357, 'wide': 3515, 'facebooktwitter': 973, 'prior': 2495, 'experience': 950, 'begin': 255, 'immediately': 1631, 'monthly': 2140, 'incomeonly': 1648, 'statement': 3012, 'conciliate': 570, 'acidic': 24, 'stretch': 3039, 'recognizes': 2623, 'numberless': 2266, 'transport': 3264, 'trade': 3255, 'ww': 3577, 'estiloproduction': 914, 'galaxy': 1146, 'mini': 2100, 'ipad': 1699, 'hhnl': 1344, 'respond': 2672, 'enabled': 883, 'buck': 377, 'bitlybsefqe': 309, 'guysi': 1268, 'houronly': 1395, 'meat': 2040, 'discus': 757, 'peaceful': 2373, 'unit': 3329, 'arbitrate': 157, 'guide': 1261, 'addition': 43, 'worried': 3556, 'approve': 155, 'insurance': 1682, 'appoints': 151, 'prepare': 2487, 'historical': 1358, 'plausible': 2421, 'submits': 3054, 'behavior': 257, 'grass': 1233, 'seat': 2778, 'strategizes': 3033, 'edge': 851, 'oldchattk': 2296, 'anderson': 122, 'expecting': 948, 'gain': 1144, 'harder': 1300, 'quotyeahquot': 2579, 'thatd': 3181, 'itd': 1710, 'daneja': 679, 'suscribite': 3112, 'whatuknow': 3504, 'rugby': 2730, 'euw': 920, 'germany': 1174, 'netherland': 2212, 'france': 1101, 'portugal': 2464, 'spain': 2964, 'refused': 2634, 'euro': 919, 'beutiful': 280, 'eva': 921, 'jesus': 1741, 'christ': 486, 'savior': 2755, 'sin': 2872, 'heaven': 1326, 'saved': 2753, 'salvation': 2742, 'righteousness': 2693, 'sinned': 2879, 'present': 2488, 'sucking': 3080, 'cock': 520, 'celebrity': 429, 'beneath': 269, 'mileysecretvideocouk': 2085, 'leeched': 1862, 'porno': 2463, 'celeb': 425, 'mileycelebnewscouk': 2084, 'tape': 3141, 'banging': 229, 'posted': 2470, 'dreaming': 805, 'piano': 2400, 'step': 3018, 'forward': 1092, 'echa': 848, 'vistazo': 3412, 'remezcla': 2651, 'wrecking': 3564, 'ball': 223, 'enlace': 893, 'suscribase': 3110, 'musicvideo': 2179, 'celebration': 428, 'watchvdtqcftrfac': 3463, 'justien': 1767, 'likeampsubscribe': 1884, 'wellcomemdblogfacom': 3494, 'httpwwwebaycomusrshoecollector': 1546, 'ouf': 2324, 'ouffffffffffffffffff': 2325, 'goose': 1218, 'bump': 382, 'recommend': 2624, 'apple': 149, 'gen': 1168, 'gb': 1166, 'unlocked': 3332, 'wifig': 3519, 'price': 2493, 'samsung': 2745, 'iv': 1719, 'sony': 2948, 'led': 1861, 'hdtv': 1315, 'allinone': 94, 'macbook': 1993, 'air': 82, 'nikon': 2235, 'slr': 2907, 'ultrabooks': 3312, 'vaio': 3363, 'intel': 1684, 'purchase': 2531, 'taaeecom': 3130, 'quothelp': 2559, 'wholehearted': 3512, 'quotnoquot': 2567, 'discrimination': 756, 'united': 3330, 'impossible': 1635, 'possiblequot': 2467, 'winner': 3527, 'successcheers': 3076, 'tinyurldotcomslashmxhy': 3224, 'comforter': 541, 'afflicted': 63, 'christian': 487, 'patriarch': 2360, 'prophet': 2517, 'apostle': 144, 'martyr': 2026, 'confessor': 572, 'virgin': 3406, 'saint': 2739, 'conceived': 568, 'rosary': 2726, 'mary': 2027, 'divine': 767, 'grace': 1229, 'pure': 2532, 'chaste': 459, 'inviolate': 1695, 'undefiled': 3319, 'amiable': 112, 'admirable': 47, 'counsel': 608, 'redeemer': 2629, 'affiliated': 62, 'enjoyable': 892, 'neeru': 2204, 'gmailcom': 1196, 'drive': 812, 'advertisiments': 59, 'rappersinger': 2597, 'estonia': 915, 'wafence': 3427, 'apprecitate': 154, 'nlmemakemoneywithoutinvestment': 2239, 'richest': 2689, 'marketer': 2022, 'bitlymakemoneywithoutadroid': 311, 'dickwad': 738, 'colour': 531, 'ancestor': 121, 'baba': 216, 'brinkman': 366, 'quotim': 2563, 'africanquot': 69, 'muslim': 2182, 'egoistic': 860, 'donating': 786, 'terrorist': 3166, 'wats': 3474, 'ik': 1616, 'amy': 115, 'northland': 2249, 'paranormal': 2344, 'society': 2924, 'evidence': 932, 'pa': 2332, 'instrumental': 1680, 'songwriter': 2947, 'mississippi': 2108, 'highly': 1350, 'whitney': 3509, 'investmentjust': 1694, 'thergloveblogspotinblogposthtml': 3193, 'bitlygkvdo': 310, 'kodaline': 1815, 'dragonsand': 798, 'adfly': 45, 'kldy': 1807, 'irish': 1701, 'aviciis': 194, 'quotwake': 2576, 'fiddle': 1036, 'sillyquot': 2868, 'animator': 130, 'pagee': 2334, 'versace': 3374, 'cge': 433, 'quotversace': 2575, 'moneyquot': 2133, 'jawan': 1730, 'gardner': 1161, 'comedy': 537, 'recipe': 2622, 'prank': 2483, 'crank': 623, 'call': 394, 'nicely': 2225, 'lame': 1831, 'swagfriends': 3114, 'movement': 2155, 'partyman': 2352, 'fr': 1098, 'tunez': 3295, 'hicheck': 1346, 'famine': 987, 'food': 1078, 'raise': 2584, 'luxury': 1982, 'itt': 1714, 'ppl': 2480, 'intention': 1687, 'annoyed': 132, 'writer': 3568, 'killing': 1798, 'importantly': 1634, 'focus': 1072, 'send': 2797, 'justice': 1766, 'steven': 3023, 'reed': 2631, 'supreme': 3100, 'courtthanks': 615, 'johnny': 1748, 'continue': 592, 'musiclyrics': 2178, 'keyboard': 1788, 'manband': 2016, 'independent': 1654, 'listenersupported': 1908, 'willing': 3521, 'namepicture': 2192, 'alvar': 102, 'quotthis': 2573, 'africaquot': 70, 'trayvon': 3266, 'motherlandbr': 2148, 'thankyou': 3178, 'large': 1839, 'convinced': 594, 'perform': 2382, 'form': 1089, 'leisure': 1865, 'cease': 423, 'reveling': 2680, 'murder': 2171, 'plot': 2443, 'neighbor': 2205, 'clap': 498, 'wickedness': 3514, 'celebrated': 427, 'openly': 2313, 'street': 3037, 'perverse': 2390, 'abominable': 4, 'shall': 2822, 'repay': 2663, 'lord': 1946, 'trumpetcallofgodonline': 3283, 'chill': 472, 'hearing': 1323, 'mixtapecheck': 2114, 'camp': 399, 'wiredo': 3530, 'dancer': 676}\n",
            "(1956, 3659)\n",
            "<class 'scipy.sparse.csr.csr_matrix'>\n",
            "[[0 0 0 ... 0 0 0]\n",
            " [0 0 0 ... 0 0 0]\n",
            " [0 0 0 ... 0 0 0]\n",
            " ...\n",
            " [0 0 0 ... 0 0 0]\n",
            " [0 0 0 ... 0 0 0]\n",
            " [0 0 0 ... 0 0 0]]\n"
          ]
        }
      ]
    },
    {
      "cell_type": "code",
      "source": [
        "from sklearn.feature_extraction.text import TfidfVectorizer\n",
        "\n",
        "# create the transform\n",
        "vectorizer = TfidfVectorizer()\n",
        "\n",
        "# tokenize and build vocab\n",
        "vectorizer.fit(comments)\n",
        "print(vectorizer.vocabulary_)\n",
        "print(vectorizer.idf_)\n",
        "\n",
        "# encode document\n",
        "freq_vector = vectorizer.transform(comments)\n",
        "print(freq_vector.shape)\n",
        "print(freq_vector.toarray())"
      ],
      "metadata": {
        "colab": {
          "base_uri": "https://localhost:8080/"
        },
        "id": "f0AaLagpjdwE",
        "outputId": "c3114c3b-a6fb-4de2-d5c6-79a467021295"
      },
      "execution_count": null,
      "outputs": [
        {
          "output_type": "stream",
          "name": "stdout",
          "text": [
            "{'huh': 1585, 'check': 462, 'youtube': 3624, 'channel': 446, 'kobyoshi': 1814, 'hey': 1343, 'guy': 1266, 'new': 2216, 'vid': 3382, 'monkey': 2134, 'im': 1626, 'white': 3508, 'shirtplease': 2835, 'leave': 1860, 'like': 1882, 'comment': 544, 'subscribe': 3057, 'test': 3167, 'murdevcom': 2172, 'shaking': 2816, 'sexy': 2810, 'enjoy': 891, 'watchvvtarggvgtwq': 3469, 'website': 3484, 'site': 2884, 'kid': 1791, 'stuff': 3045, 'kidsmediausa': 1793, 'com': 534, 'turned': 3298, 'mute': 2183, 'soon': 2950, 'came': 396, 'wanted': 3442, 'views': 3398, 'funny': 1138, 'videos': 3387, 'shouldd': 2850, 'tell': 3158, 'next': 2219, 'me': 2035, 'started': 3010, 'reading': 2608, 'stop': 3028, 'day': 688, 'youre': 3621, 'entire': 904, 'family': 986, 'die': 741, 'want': 3441, 'stay': 3015, 'alive': 92, 'right': 2692, 'now': 2258, 'httpstwittercomgbphotographygb': 1476, 'httpspremiumeasypromosappcomvoteme': 1467, 'hello': 1329, 'gaming': 1152, 'art': 164, 'video': 3383, 'scientific': 2765, 'experiment': 951, 'tutorial': 3301, 'lyric': 1985, 'weve': 3502, 'hope': 1380, 'able': 3, 'cover': 616, 'expectation': 947, 'got': 1225, 'far': 995, 'checking': 464, 'httpwwwebaycomitmsspagenamestrkmeselxitamptrksidpml': 1545, 'httpubuntuonecombeuutvuzkxkutgpzk': 1530, 'edm': 854, 'apparel': 146, 'company': 554, 'dedicated': 705, 'bringing': 364, 'music': 2173, 'inspired': 1672, 'design': 728, 'clothing': 515, 'perfect': 2381, 'rave': 2601, 'festival': 1032, 'neon': 2207, 'crop': 644, 'top': 3243, 'tank': 3140, 'tshirts': 3291, 'vnecks': 3416, 'accessory': 17, 'follow': 1074, 'facebook': 970, 'instagraml': 1675, 'free': 1106, 'giveaway': 1189, 'news': 2218, 'visit': 3409, 'oncueapparel': 2304, 'think': 3200, 'million': 2087, 'view': 3394, 'come': 535, 'people': 2379, 'auburn': 180, 'pride': 2494, 'httpwwwteespringcomtigermeathoodie': 1571, 'marketglory': 2023, 'comstrategygameandrijamatf': 565, 'earn': 835, 'real': 2610, 'money': 2130, 'game': 1147, 'yr': 3648, 'old': 2295, 'producer': 2504, 'chiptunes': 478, 'bit': 304, 'wonderful': 3543, 'checked': 463, 'remixes': 2657, 'gangnamstyle': 1157, 'remix': 2655, 'thanks': 3175, 'kyle': 1823, 'rap': 2590, 'yeah': 3600, 'dont': 788, 'watch': 3456, 'anymore': 139, 'billion': 296, 'not': 2251, 'android': 124, 'apps': 156, 'newest': 2217, 'song': 2935, 'memory': 2061, 'martin': 2025, 'luther': 1979, 'king': 1803, 'jr': 1757, 'goodbye': 1209, 'sub': 3052, 'reason': 2615, 'dubstep': 820, 'fireball': 1054, 'fruity': 1122, 'loop': 1943, 'took': 3242, 'time': 3221, 'watchvteloarioo': 3467, 'billioncoming': 297, 'dafuq': 667, 'korean': 1819, 'big': 286, 'usa': 3352, 'mean': 2036, 'support': 3097, 'bomb': 329, 'listen': 1906, 'best': 274, 'succesfull': 3074, 'pplease': 2481, 'take': 3132, 'second': 2780, 'ill': 1618, 'yt': 3649, 'grateful': 1234, 'clip': 511, 'bf': 283, 'advice': 61, 'improve': 1637, 'sure': 3101, 'hater': 1307, 'hate': 1306, 'win': 3523, 'project': 2510, 'effect': 857, 'foto': 1093, 'web': 3483, 'buy': 391, 'httpaudiojunglenetusereugenekalininportfoliorefeugenekalinin': 1431, 'youtubecodytolleson': 3630, 'awesome': 201, 'roblox': 2711, 'minecraft': 2099, 'world': 3553, 'warcraft': 3445, 'gta': 1248, 'mario': 2019, 'suscribe': 3111, 'czfcxsnjnq': 664, 'httpwwwtwitchtvjaroadc': 1573, 'stream': 3035, 'raw': 2602, 'talent': 3134, 'straight': 3032, 'hip': 1354, 'hop': 1379, 'sound': 2960, 'dizzy': 771, 'juice': 1759, 'prod': 2502, 'drug': 817, 'model': 2121, 'citizen': 494, 'lazy': 1852, 'prophetz': 2518, 'pls': 2444, 'count': 609, 'hour': 1394, 'httpwwwavaazorgpopetitionyoutubecorporationfoxbroadcastingcompanyanularosstrikesnocanalnostalgiacxpzpgb': 1537, 'thumb': 3213, 'hw': 1595, 'plz': 2446, 'xx': 3589, 'help': 1330, 'reach': 2605, 'avoid': 195, 'watching': 3459, 'baby': 218, 'hit': 1360, 'yet': 3609, 'httpswwwfacebookcompagesbrewcrew': 1492, 'facebookpage': 971, 'chance': 440, 'iphone': 1700, 'gwar': 1269, 'play': 2422, 'superbowl': 3093, 'httpwwwchangeorgpetitionsthenationalfootballleagueallowgwartoperformthesuperbowlhalftimeshowshare': 1544, 'httpwwwtwitchtvsevadus': 1574, 'hi': 1345, 'httptankionlinecomfriendcddbf': 1522, 'great': 1236, 'out': 2327, 'has': 1303, 'chuck': 492, 'norrus': 2248, 'ovbiously': 2329, 'behold': 258, 'viewed': 3395, 'history': 1359, 'ever': 924, 'gonna': 1206, 'dislike': 759, 'themselves': 3186, 'psykorean': 2527, 'omg': 2301, 'oldspice': 2298, 'spraytan': 2998, 'party': 2349, 'commercial': 549, 'omgim': 2302, 'sitting': 2885, 'isnt': 1706, 'thing': 3196, 'popular': 2459, 'actually': 35, 'get': 1175, 'fablife': 967, 'welcome': 3491, 'diys': 770, 'challenge': 437, 'thx': 3216, 'httpwwwguardaloorgbestoffunnycatsgattipazziedivertenti': 1561, 'drone': 815, 'kamal': 1773, 'tayara': 3147, 'absolutely': 8, 'beautiful': 251, 'httphackfbaccountlivecomref': 1438, 'whats': 3503, 'trying': 3288, 'showcase': 2853, 'subscriber': 3062, 'promise': 2511, 'suck': 3079, 'spread': 2999, 'amp': 113, 'share': 2825, 'lucas': 1971, 'trigo': 3275, 'gtgtgtgt': 1252, 'httpswwwfacebookcomvideophpvampsetvbamptypeamppermpage': 1507, 'lt': 1968, 'thereim': 3192, 'group': 1242, 'leader': 1854, 'angel': 125, 'rookie': 2723, 'pop': 2457, 'member': 2057, 'chanicka': 445, 'julie': 1760, 'stephanie': 3019, 'leah': 1855, 'feel': 1022, 'feedback': 1021, 'criticism': 641, 'know': 1811, 'notch': 2252, 'singer': 2875, 'constructive': 587, 'appreciate': 152, 'auditioning': 184, 'management': 2014, 'plan': 2416, 'jyp': 1772, 'bighit': 290, 'jellyfish': 1737, 'yg': 3611, 'sm': 2909, 'thank': 3172, 'taking': 3133, 'read': 2607, 'httpwooboxcomgxrfbrtu': 1533, 'go': 1197, 'admit': 49, 'number': 2264, 'viewer': 3396, 'coming': 543, 'viewing': 3397, 'apparently': 147, 'do': 775, 'psy': 2526, 'gangnam': 1156, 'style': 3050, 'mv': 2185, 'httpyoutubebzkpqf': 1581, 'xd': 3586, 'lol': 1928, 'wow': 3562, 'section': 2782, 'active': 31, 'bad': 221, 'httpbinboxiofiro': 1433, 'ching': 477, 'ling': 1899, 'long': 1931, 'ding': 747, 'ring': 2697, 'yaaaaaa': 3593, 'ganga': 1153, 'sty': 3049, 'fuck': 1126, 'you': 3614, 'httpswwwindiegogocomprojectscleaningthepan': 1508, 'halp': 1288, 'brother': 370, 'please': 2434, 'use': 3353, 'gift': 1180, 'card': 408, 'amazon': 106, 'itunes': 1717, 'psn': 2525, 'google': 1213, 'youll': 3617, 'happy': 1296, 'code': 521, 'amazing': 105, 'xxbbtczhmhvzd': 3590, 'asian': 168, 'nonasian': 2244, 'country': 611, 'jelly': 1736, 'try': 3287, 'learn': 1857, 'asia': 167, 'looking': 1936, 'plizz': 2441, 'withing': 3535, 'unique': 3328, 'angry': 126, 'httpwwwgofundmecomlittlebrother': 1557, 'anybody': 138, 'subscribes': 3065, 'subscribers': 3063, 'httpthepiratebaysetorrenttimothysykescollection': 1526, 'half': 1285, 'way': 3478, 'decent': 700, 'said': 2738, 'deserve': 726, 'visiting': 3410, 'itz': 1718, 'recap': 2617, 'diddle': 739, 'screw': 2770, 'chinese': 476, 'crap': 624, 'understand': 3322, 'saying': 2759, 'speaking': 2973, 'english': 889, 'should': 2849, 'need': 2202, 'moneyenjoy': 2131, 'httpswwwtsucoemersonzanol': 1517, 'visuelgamingznl': 3413, 'back': 220, 'youtuber': 3645, 'hoppa': 1384, 'gangam': 1154, 'weird': 3490, 'ehi': 862, 'lexis': 1872, 'band': 226, 'uploading': 3346, 'miss': 2105, 'lot': 1953, 'click': 509, 'gt': 1247, 'love': 1958, 'it': 1708, 'gofundmecomgrwmps': 1200, 'page': 2333, 'picture': 2403, 'funnytortspics': 1139, 'httpsplusgooglecompost': 1465, 'bitches': 306, 'china': 475, 'milions': 2086, 'comentars': 539, 'bilion': 293, 'zero': 3654, 'mix': 2112, 'holy': 1369, 'shit': 2836, 'person': 2388, 'zombie': 3657, 'apocalypse': 142, 'greeting': 1241, 'spoderman': 2985, 'wiews': 3517, 'grow': 1243, 'guys': 1267, 'anyway': 140, 'crazy': 627, 'uk': 3311, 'korea': 1818, 'republic': 2667, 'discover': 755, 'young': 3618, 'moroccan': 2145, 'httpwwwlinkbuckscomacng': 1562, 'getting': 1176, 'cardsbut': 409, 'spending': 2979, 'cash': 415, 'juno': 1763, 'wallet': 3436, 'nike': 2231, 'gamestop': 1149, 'ebay': 846, 'easy': 843, 'simple': 2870, 'task': 3144, 'videosdownloading': 3389, 'inviting': 1697, 'friend': 1116, 'joinits': 1751, 'signup': 2866, 'sign': 2863, 'today': 3231, 'promo': 2512, 'bd': 242, 'somebody': 2931, 'wake': 3434, 'justin': 1768, 'bieber': 285, 'gay': 1165, 'gotta': 1226, 'worth': 3559, 'clicked': 510, 'went': 3496, 'uphill': 3342, 'jbs': 1732, 'ahhh': 79, 'year': 3601, 'ago': 74, 'dance': 673, 'dancepsy': 675, 'httpwwwreverbnationcommsmarilynmiles': 1566, 'starlitnightsky': 3008, 'epic': 907, 'httpswwwtsucokodysman': 1518, 'stupid': 3047, 'doesnt': 778, 'thousand': 3211, 'millions': 2088, 'httpwwwgcmforexcompartnersawaspxtaskjointampaffiliateid': 1550, 'men': 2062, 'allot': 95, 'effort': 858, 'unfortunatly': 3327, 'httpwwwvakinhacombrvaquinhaeaspxe': 1577, 'vip': 3403, 'gun': 1263, 'cross': 645, 'al': 86, 'add': 39, 'herehttpswwwfacebookcomtlouxmusic': 1338, 'singing': 2876, 'covers': 618, 'place': 2414, 'promote': 2514, 'pay': 2366, 'pal': 2338, 'pivot': 2413, 'animation': 129, 'twitter': 3307, 'ig': 1609, 'killuminati': 1800, 'oppa': 2318, 'httpwwwsunfrogshirtscomsunglassworldhtml': 1569, 'httpswwwfacebookcomteelalala': 1505, 'httpwwwtwitchtvzxlightsoutxz': 1576, 'reminds': 2653, 'httpssoundcloudcompopaegiswrennalmondeyes': 1472, 'httpwwwswagbuckscompregisterrb': 1570, 'search': 2776, 'chubbz': 491, 'dinero': 746, 'ready': 2609, 'mscalifornia': 2160, 'single': 2877, 'type': 3310, 'face': 969, 'earth': 839, 'damn': 671, 'this': 3202, 'is': 1704, 'fancy': 991, 'static': 3013, 'incmediaorg': 1646, 'truth': 3286, 'meet': 2047, 'look': 1933, 'pe': 2371, 'let': 1868, 'name': 2190, 'httpwwwbubblewscomnewspeaceandbrotherhood': 1542, 'wouldnt': 3561, 'mind': 2095, 'chacking': 434, 'il': 1617, 'giver': 1190, 'vids': 3392, 'httpwwwamazoncoukgpofferlistingbecvfgsrqidrefolptabrefurbishedieutfampconditionrefurbishedampqidampsr': 1536, 'watched': 3457, 'httpflipagramcomflukaqmrhf': 1435, 'christmas': 489, 'httpwwwgofundmecomgvrxg': 1555, 'plus': 2445, 'nice': 2222, 'httpswwwchangeorgpfacebooktwitteryoutubedonotcensorjulienblanc': 1480, 'httpssoundcloudcomjackalandjameswrapupthenight': 1469, 'httpswwwsurveymonkeycomscvhmklt': 1515, 'wont': 3544, 'disappointed': 752, 'viral': 3405, 'true': 3280, 'vidios': 3391, 'spam': 2965, 'bot': 342, 'cmon': 518, 'bs': 374, 'awesomeness': 202, 'aaaaaaa': 0, 'lada': 1827, 'dear': 696, 'loving': 1965, 'httpwwwermailpldolaczvveygin': 1548, 'tried': 3272, 'social': 2923, 'network': 2215, 'tsu': 3292, 'special': 2975, 'thingyou': 3199, 'post': 2469, 'fb': 1011, 'toll': 3235, 'paid': 2335, 'registr': 2636, 'httpswwwtsucoworldwidelife': 1521, 'yellow': 3606, 'suit': 3086, 'kinda': 1802, 'jaesuk': 1724, 'fbyou': 1013, 'register': 2635, 'difference': 743, 'sharing': 2828, 'commenting': 546, 'liking': 1892, 'onedont': 2307, 'waste': 3452, 'everyday': 929, 'httpswwwtsucoslema': 1519, 'wellcome': 3493, 'there': 3188, 'multiple': 2168, 'accounts': 21, 'wat': 3455, 'da': 665, 'httpwwwtwitchtvtareko': 1575, 'twitch': 3306, 'enter': 897, 'keyword': 1789, 'winning': 3528, 'expensive': 949, 'csgo': 648, 'sell': 2792, 'steam': 3016, 'market': 2021, 'httpswwwtsucoaseris': 1516, 'fantastic': 993, 'population': 2460, 'min': 2093, 'super': 3092, 'book': 333, 'repass': 2662, 'httpwwwsharedcomwebpreviewpdfcjfoftxeba': 1568, 'liked': 1887, 'later': 1842, 'kind': 1801, 'going': 1202, 'making': 2009, 'launchpad': 1848, 'spot': 2992, 'easily': 842, 'care': 411, 'bother': 343, 'loli': 1929, 'dunno': 827, 'joke': 1752, 'piece': 2405, 'gangman': 1155, 'dddddddrop': 691, 'bass': 238, 'rappersongwriter': 2598, 'pleasealso': 2435, 'having': 1313, 'dick': 737, 'stuck': 3043, 'elevator': 865, 'excuse': 942, 'prehistoric': 2486, 'songhas': 2941, 'been': 253, 'smart': 2913, 'headbutt': 1318, 'ex': 934, 'enimen': 890, 'loool': 1939, 'understands': 3323, 'pray': 2484, 'little': 1912, 'month': 2139, 'left': 1863, 'tumor': 3294, 'head': 1317, 'instagram': 1674, 'chriscz': 485, 'relevant': 2646, 'saythis': 2760, 'change': 443, 'completely': 561, 'good': 1208, 'job': 1745, 'girl': 1185, 'camera': 397, 'man': 2013, 'glasses': 1194, 'wrong': 3572, 'fucking': 1130, 'koean': 1816, 'chainise': 436, 'ana': 117, 'hahahahah': 1280, 'december': 699, 'dumb': 825, 'equal': 908, 'smartie': 2914, 'pants': 2341, 'point': 2452, 'listening': 1909, 'stfu': 3024, 'mom': 2128, 'america': 110, 'mine': 2098, 'jap': 1729, 'worthless': 3560, 'fish': 1059, 'untanlted': 3335, 'gook': 1214, 'fucken': 1128, 'sad': 2736, 'fucked': 1127, 'up': 3337, 'remember': 2650, 'obsessed': 2272, 'remove': 2658, 'wank': 3439, 'hard': 1298, 'ithat': 1711, 'child': 471, 'actor': 32, 'hwang': 1596, 'minoo': 2101, 'dancing': 678, 'suffering': 3084, 'brain': 353, 'believe': 262, 'praying': 2485, 'future': 1140, 'superstar': 3095, 'stronglittlepsy': 3041, 'fighting': 1040, 'httpygunitedcomlittlepsyfromthehasbraintumormonthslefttolive': 1580, 'keep': 1785, 'updated': 3340, 'minute': 2102, 'memories': 2059, 'user': 3356, 'fake': 982, 'account': 20, 'hacked': 1273, 'saw': 2756, 'yeat': 3605, 'word': 3549, 'hole': 1368, 'cool': 596, 'again': 72, 'voyage': 3425, 'loved': 1959, 'problem': 2501, 'phenomenon': 2396, 'random': 2586, 'slut': 2908, 'bitch': 305, 'hyuna': 1599, 'kollektivet': 1817, 'slappin': 2900, 'penis': 2377, 'credit': 633, 'receive': 2618, 'fun': 1135, 'review': 2681, 'flute': 1070, 'dealing': 695, 'theory': 3187, 'couldve': 607, 'gotten': 1227, 'mabey': 1991, 'realy': 2614, 'access': 16, 'internet': 1690, 'including': 1645, 'rising': 2701, 'populatoin': 2461, 'connected': 580, 'hacker': 1274, 'rised': 2700, 'featured': 1017, 'mp': 2158, 'seen': 2786, 'concert': 569, 'eve': 922, 'event': 923, 'seeing': 2785, 'adding': 42, 'complaining': 558, 'heck': 1327, 'hits': 1361, 'chanel': 441, 'queen': 2542, 'michael': 2076, 'jackson': 1723, 'pause': 2364, 'millisecond': 2091, 'chick': 470, 'laugh': 1845, 'tries': 3273, 'annoying': 133, 'httpswwwfacebookcompagesmathsterwprefhl': 1498, 'millioon': 2090, 'dislikesssssssssssssssssssssssssssssssss': 762, 'live': 1913, 'lucks': 1973, 'kidz': 1794, 'billon': 298, 'millonget': 2092, 'fact': 976, 'posting': 2472, 'comments': 547, 'humanity': 1588, 'called': 395, 'odowd': 2278, 'crowd': 646, 'movie': 2157, 'translate': 3262, 'smh': 2915, 'to': 3230, 'join': 1749, 'publishing': 2529, 'platform': 2420, 'content': 590, 'httptsucomarkusmairhofer': 1527, 'youtubedaaaaaaaaaaannng': 3633, 'dominate': 783, 'entirechina': 905, 'officialpsy': 2284, 'dislikesepic': 761, 'failready': 978, 'fanboys': 990, 'knew': 1809, 'funnier': 1137, 'end': 885, 'spoken': 2986, 'rapidly': 2593, 'planet': 2418, 'joking': 1753, 'summon': 3088, 'freddy': 1104, 'mercury': 2065, 'ghost': 1178, 'whipe': 3506, 'direction': 748, 'miley': 2083, 'cirus': 493, 'round': 2729, 'public': 2528, 'pouring': 2477, 'bucket': 378, 'ice': 1601, 'water': 3473, 'running': 2732, 'away': 198, 'acting': 29, 'wasnt': 3451, 'see': 2784, 'shares': 2827, 'dylan': 831, 'irl': 1702, 'football': 1083, 'tomorrow': 3236, 'hunger': 1591, 'follower': 1075, 'httpswwwfacebookcomlists': 1487, 'beibs': 259, 'capitalized': 406, 'tazz': 3149, 'self': 2790, 'college': 528, 'heart': 1324, 'httpswwwindiegogocomprojectsiwanttogotocollegex': 1511, 'httpswwwfacebookcomschoolgeniusnitsphotosmscejwkvkoxdamqmhzsnjqpthqbeumaqupihfphgkzllsvdqvzufmblnujufthyokfrxytszvrrpqgtwylhfvlczzrgvgctlpsdongewhjgibuslzmvyiqtwsfzzwhnjusvhufpglqrzczlfnphagevbxydmcxjtcjnmhovfxwcjzyvwobihrngxocjngpgevhxzyjdohryfsprndxvbzszzbpsatypeamptheater': 1504, 'sucscribe': 3082, 'vaahidmustafic': 3362, 'offcal': 2281, 'httpswwwfacebookcomnicushorbboy': 1490, 'mee': 2046, 'sorry': 2959, 'jenny': 1739, 'high': 1348, 'school': 2764, 'dress': 806, 'fashionable': 998, 'cute': 659, 'clothes': 514, 'low': 1966, 'esteem': 913, 'dad': 666, 'passed': 2354, 'mother': 2147, 'figure': 1041, 'older': 2297, 'boy': 347, 'attention': 179, 'wear': 3482, 'pretty': 2491, 'boyfriend': 349, 'shy': 2860, 'confidence': 573, 'talk': 3136, 'caroline': 413, 'moved': 2154, 'donate': 785, 'brand': 355, 'shop': 2844, 'walmart': 3437, 'wanna': 3440, 'nail': 2187, 'salon': 2740, 'alot': 99, 'french': 1111, 'tip': 3225, 'hair': 1281, 'curled': 652, 'httpwwwgofundmecomdressprettyonce': 1553, 'throw': 3212, 'goal': 1198, 'fly': 1071, 'burned': 385, 'chhanel': 469, 'daily': 668, 'hav': 1311, 'idea': 1604, 'he': 1316, 'language': 1836, 'wonder': 3542, 'illuminati': 1622, 'confirmed': 574, 'craft': 622, 'shoot': 2842, 'subs': 3055, 'fuego': 1131, 'la': 1824, 'hyperurlcokaxt': 1597, 'wwwmarketglorycomstrategygamelordviperas': 3579, 'shitty': 2838, 'government': 1228, 'didnt': 740, 'block': 318, 'thered': 3191, 'close': 512, 'record': 2625, 'drunk': 819, 'limit': 1897, 'sun': 3089, 'exposure': 956, 'driving': 814, 'eliminate': 866, 'hassle': 1305, 'swing': 3121, 'car': 407, 'visor': 3411, 'windshield': 3526, 'window': 3525, 'httpswwwkickstartercomprojectsvisortwin': 1512, 'hahah': 1278, 'juyk': 1771, 'allways': 97, 'httpswwwfacebookcomfudairyqueenpnrefstory': 1485, 'haha': 1276, 'salt': 2741, 'westerner': 3500, 'httpstwittercomthewaxedhatco': 1477, 'imagine': 1629, 'adsense': 53, 'ur': 3350, 'morgage': 2143, 'forget': 1086, 'train': 3258, 'outfit': 2328, 'huge': 1584, 'turnoff': 3299, 'lacked': 1825, 'eyebrow': 964, 'difficult': 745, 'httpimageyouru': 1439, 'entertaining': 900, 'shotgun': 2848, 'montagesninja': 2138, 'defuse': 711, 'montage': 2137, 'trolling': 3277, 'certain': 431, 'httpswwwfacebookcomtofikmiedzynbphotosatypeamptheater': 1506, 'httpswwwfacebookcomeecconpostscommentidampoffsetamptotalcomments': 1483, 'frigea': 1117, 'marius': 2020, 'gabriel': 1143, 'httpwwwbingcomexplorerewardspublreferafriendampcrearawamprridffaaaacfcedeeaca': 1540, 'bing': 300, 'reward': 2682, 'virus': 3408, 'blue': 323, 'shirt': 2834, 'th': 3169, 'sold': 2927, 'worldwide': 3555, 'httpteespringcomtreechristmas': 1523, 'crdits': 629, 'link': 1900, 'download': 794, 'app': 145, 'httpsmfreemyappscomshareurlafe': 1460, 'everyones': 930, 'lool': 1937, 'hear': 1321, 'duty': 829, 'aways': 199, 'photo': 2398, 'editor': 853, 'httpsplaygooglecomstoreappsdetailsidcombutalabsphotoeditor': 1462, 'thought': 3209, 'were': 3497, 'generate': 1169, 'lead': 1853, 'auto': 190, 'pilot': 2408, 'httpwwwmyleadergatecommoretraffic': 1564, 'httpwwwbillboardcomarticlescolumnspopshopfanarmyfaceoffround': 1539, 'vote': 3420, 'sone': 2934, 'pleasewere': 2437, 'vipsplease': 3404, 'gtlt': 1254, 'fight': 1039, 'abusedmistreated': 11, 'animal': 127, 'fund': 1136, 'helping': 1333, 'vet': 3377, 'billsand': 299, 'home': 1370, 'extra': 960, 'emphasis': 879, 'disabled': 750, 'one': 2305, 'sleep': 2901, 'organization': 2322, 'httpwwwgofundmecomangelsnwingz': 1551, 'httppsnbosscomreftggppvl': 1444, 'trailer': 3257, 'httpbelievemefilmcomhlrhhqbuvb': 1432, 'rapping': 2599, 'httpssoundcloudcomnereboycallofthelostproducebyatlastatlasrapperjkork': 1471, 'message': 2068, 'pleaaaase': 2431, 'httpinstagramcomcyrineghorbel': 1440, 'pleaase': 2432, 'searching': 2777, 'dream': 801, 'httpwwwbarnesandnoblecomsbdpcsrftokenitixecnkcosoqkemgjluuwvnsxsoampsortddampsizeampcsrftokeniyecnrwpnytnouamhvmflutgglampdrefampkeywordbdpampstoreebook': 1538, 'httpwwwtwitchtvdaconnormc': 1572, 'glamour': 1193, 'beauty': 252, 'fell': 1026, 'kitten': 1805, 'httpswwwfacebookcomphotophpfbidampldac': 1500, 'httpswwwfacebookcomphotophpvampsetvbamptypeamptheater': 1502, 'httpssoundcloudcomartady': 1468, 'break': 359, 'katie': 1776, 'downloads': 795, 'small': 2911, 'upload': 3344, 'nearly': 2201, 'shikas': 2833, 'life': 1877, 'anime': 131, 'regret': 2637, 'httpwwwrtbfbetvemissiondetailthevoicebelgiquetouteslesauditionsauditiondetailemissionidampid': 1567, 'voice': 3418, 'shared': 2826, 'audition': 183, 'score': 2769, 'much': 2165, 'katy': 1778, 'perry': 2387, 'sit': 2883, 'dollar': 781, 'ok': 2292, 'thats': 3182, 'erection': 910, 'cyrus': 663, 'httpwwwgooglerourlsatamprctjampqampesrcsampsourcewebampcdampvedcbqfjaaampurlhttpaffenwikipediaorgfwikiflistofmostviewedyoutubevideosampeioqyudwclyqoyogoawampusgafqjcngkmidplalkuvkoekvgdttjvlqampsigonqzzadqcmnbenmlgaampbvmbvdbgqampcadrja': 1560, 'httpwwwamazoncomknightdawncurseddanielnebookdpbmppqhrirefsrsdigitaltextampbieutfampbqidampbsrampbkeywordsknightamptagwattpad': 1535, 'talented': 3135, 'sponsor': 2988, 'httpwwwbubblewscomaccountsheilcen': 1541, 'house': 1396, 'httpssoundcloudcomsoundhaseedmhousemix': 1473, 'hiya': 1362, 'videoxx': 3390, 'maroon': 2024, 'latest': 1843, 'nd': 2199, 'wwwyoutube': 3585, 'comwatchvtqfuau': 567, 'httpwwwgofundmecomrjanimalcare': 1558, 'httpwwwmediafirecomdownloadyvovhafsvqzzqovideorar': 1563, 'ltscriptgtdocumentwritelta': 1970, 'targetself': 3143, 'href': 1398, 'httproverebaycomrovericepffamppubamptoolidampcampidampcustomidbogdangrigoreampipnpsmainampicepvectoridampkwidampmtidampkwlggtcheck': 1445, 'arive': 160, 'ebayltagtltimg': 847, 'styletextdecorationnoneborderpaddingmargin': 3051, 'src': 3003, 'httproverebaycomroverimpffamppubamptoolidampcampidampcustomidbogdangrigoreampmptmathfloormathrandomgtltscriptgtltnoscriptgtlta': 1447, 'httproverebaycomroverimpffamppubamptoolidampcampidampcustomidbogdangrigoreampmptcachebuster': 1446, 'gtltnoscriptgt': 1255, 'votekatyperry': 3421, 'mtv': 2163, 'vma': 3415, 'who': 3511, 'httponmtvcomutkx': 1443, 'httpswwwfacebookcompagesdaadadddaddadacdddaddadddbdaddmusic': 1494, 'marian': 2018, 'venezuela': 3372, 'boygirl': 350, 'named': 2191, 'cubik': 649, 'cause': 419, 'poprock': 2458, 'xoxo': 3587, 'remind': 2652, 'tigerlike': 3218, 'spirit': 2982, 'south': 2962, 'american': 111, 'jungle': 1762, 'matter': 2030, 'african': 68, 'elephant': 864, 'bengal': 270, 'tiger': 3217, 'httpgagcomgagaavpwj': 1436, 'ima': 1627, 'rapper': 2595, 'notice': 2255, 'mixtape': 2113, 'datpiffcommixtapesdetailphpid': 686, 'bout': 344, 'airplane': 84, 'crashed': 626, 'land': 1834, 'survive': 3107, 'pet': 2392, 'tiget': 3219, 'kitty': 1806, 'purpy': 2533, 'mai': 2003, 'nguyen': 2221, 'hot': 1390, 'httpukeonlinecomeolimagesentiresiteregkatymkupmhjpg': 1531, 'nokia': 2242, 'phone': 2397, 'plane': 2417, 'crash': 625, 'httpwwwbubblewscomnewsvpssolutions': 1543, 'treu': 3270, 'detective': 732, 'alternate': 101, 'ending': 887, 'httpwwwfunnyordiecomvideosdfbtruedefectives': 1549, 'makeup': 2008, 'transformation': 3260, 'integrated': 1683, 'lookalike': 1934, 'feature': 1016, 'available': 193, 'ver': 3373, 'install': 1676, 'update': 3339, 'version': 3376, 'httpsplaygooglecomstoreappsdetailsidcomyourelinkmakeuptransformation': 1464, 'purry': 2534, 'seriously': 2801, 'ft': 1123, 'boa': 325, 'constrictor': 586, 'squeeze': 3002, 'death': 697, 'paused': 2365, 'hid': 1347, 'we': 3480, 'twin': 3305, 'melody': 2056, 'coverswe': 619, 'birthday': 302, 'thanksmercigraciasdankeobrigadograzie': 3177, 'dayd': 689, 'niceesabrosura': 2223, 'viva': 3414, 'httpssoundcloudcomyerkielinmigranteyerkimybmoveyourbody': 1474, 'growtopia': 1245, 'story': 3031, 'httpshhortcomarhupwehab': 1451, 'yay': 3596, 'commenter': 545, 'bitcoins': 307, 'fhenqxtwqmvptayiejnealahzvem': 1034, 'httpshhortcomargixctkd': 1450, 'empowering': 881, 'woman': 3540, 're': 2604, 'roar': 2707, 'make': 2006, 'drink': 810, 'bleach': 315, 'shes': 2832, 'hardcore': 1299, 'httpshhortcomarjtufxhxc': 1452, 'fan': 989, 'written': 3571, 'songs': 2942, 'gorlingoltz': 1224, 'syndrome': 3128, 'community': 552, 'httpswwwfacebookcomgorlingoltzsupport': 1486, 'opinion': 2316, 'better': 278, 'black': 312, 'blond': 320, 'eyes': 965, 'son': 2933, 'grave': 1235, 'httpwwwgofundmecombishopsgravemarker': 1552, 'roarrrr': 2709, 'megt': 2050, 'httpstwittercomfllowshoutouts': 1475, 'finish': 1052, 'dissertation': 765, 'roaaarrr': 2705, 'whore': 3513, 'httpwwwgofundmecomjormis': 1556, 'roaaaaarrrrrr': 2704, 'guarantee': 1257, 'stand': 3006, 'fear': 1015, 'httpshhortcomarlaviqub': 1453, 'inspirational': 1670, 'achieved': 23, 'greatly': 1238, 'thankful': 3173, 'ty': 3308, 'jack': 1721, 'daniel': 681, 'case': 414, 'httpsmfacebookcomstoryphpstoryfbidampidamprefstream': 1459, 'gf': 1177, 'shot': 2847, 'sec': 2779, 'boob': 332, 'magically': 1998, 'bigger': 289, 'suddenly': 3083, 'dude': 821, 'practically': 2482, 'vanishes': 3366, 'doubt': 793, 'songfeel': 2939, 'sweet': 3118, 'natural': 2197, 'httpwwwaaasorgtechivoteview': 1534, 'sheldon': 2830, 'star': 3007, 'advance': 55, 'conqueror': 581, 'haki': 1284, 'oportunity': 2317, 'congrasulation': 576, 'httpenprothomalocomsportnewszimbabweateamdueindhakawednesday': 1434, 'poeple': 2451, 'disliked': 760, 'sucks': 3081, 'contest': 591, 'loosing': 1945, 'httpswwwfacebookcomexagdlphotosatypeamptheater': 1484, 'inaccurate': 1641, 'rip': 2698, 'of': 2279, 'artist': 165, 'admire': 48, 'creativity': 631, 'nonsense': 2245, 'mobile': 2119, 'tech': 3154, 'comparison': 556, 'animals': 128, 'channelbecause': 447, 'filming': 1047, 'xoxoleah': 3588, 'maybe': 2031, 'folks': 1073, 'boooobs': 336, 'hating': 1310, 'confusing': 575, 'katys': 1783, 'october': 2276, 'soo': 2949, 'looooooooooooooooooooovvvvvvvvveeeeeeeeeeee': 1940, 'ittttttttttttt': 1716, 'telephone': 3157, 'randomly': 2587, 'reply': 2665, 'jello': 1735, 'strawberry': 3034, 'ive': 1720, 'smiley': 2917, 'tshirtof': 3290, 'expression': 958, 'important': 1633, 'statistic': 3014, 'can': 400, 'measure': 2039, 'warmth': 3446, 'smile': 2916, 'happiness': 1295, 'wwwteespringcomsmiley': 3582, 'gold': 1203, 'brings': 365, 'splash': 2984, 'nuts': 2269, 'finding': 1051, 'stole': 3027, 'comic': 542, 'catchy': 417, 'garbage': 1159, 'rihanna': 2695, 'httpswwwreverbnationcomslicknicksongs': 1514, 'firework': 1056, 'overplayed': 2331, 'hell': 1328, 'radio': 2582, 'human': 1586, 'folly': 1077, 'greatthis': 1239, 'awesum': 205, 'jus': 1764, 'luv': 1980, 'acoustic': 25, 'jims': 1743, 'ear': 834, 'off': 2280, 'selfie': 2791, 'alert': 89, 'soundsofsunday': 2961, 'vena': 3371, 'trojmiastoplvenabustaxiohtml': 3276, 'competition': 557, 'idol': 1608, 'pic': 2401, 'httpinstagramcompsmzdivopxb': 1441, 'katty': 1777, 'videoes': 3385, 'httpsviralangelscomuserdaaacwk': 1479, 'feminist': 1030, 'champion': 438, 'reinforce': 2640, 'stereotype': 3021, 'girly': 1187, 'painting': 2336, 'probably': 2500, 'httpthepiratebaysetorrenttheexpendablesdvdscrxviddingo': 1525, 'httpthepiratebaysetorrenttheexpendablesdvdscrleakedcleanxvidmprarbg': 1524, 'interested': 1688, 'wwwswagbuckscomrefernonturtle': 3581, 'note': 2253, 'clear': 508, 'complete': 560, 'utter': 3361, 'god': 1199, 'cleanse': 507, 'idiocy': 1605, 'humankind': 1589, 'cup': 651, 'reaction': 2606, 'shout': 2851, 'happen': 1291, 'katycat': 1780, 'httpsmfacebookcomprofilephpid': 1458, 'rid': 2691, 'useless': 3355, 'favorite': 1007, 'volume': 3419, 'her': 1335, 'incredible': 1651, 'extremely': 962, 'tits': 3229, 'gtattention': 1249, 'katycats': 1781, 'noms': 2243, 'ema': 870, 'tv': 3302, 'mtvema': 2164, 'comvote': 566, 'delete': 713, 'space': 2963, 'bigboss': 287, 'broken': 368, 'horn': 1386, 'giftcard': 1181, 'httpshhortcomaroocnjqub': 1454, 'freakin': 1102, 'sheep': 2829, 'period': 2385, 'terrible': 3164, 'invented': 1692, 'formula': 1090, 'inch': 1644, 'research': 2669, 'topic': 3244, 'secret': 2781, 'knowledge': 1812, 'enlargement': 894, 'applied': 150, 'learned': 1858, 'amazed': 103, 'result': 2675, 'course': 614, 'issue': 1707, 'order': 2320, 'asked': 171, 'info': 1656, 'httpspayhipcombotib': 1461, 'selling': 2793, 'symbolic': 3125, 'beginning': 256, 'scared': 2763, 'leopard': 1867, 'bikini': 291, 'skinny': 2890, 'size': 2887, 'bisexual': 303, 'sweat': 3117, 'freaking': 1103, 'nervous': 2210, 'austin': 186, 'mahones': 2002, 'httpswwwfacebookcompagesnaileynicoolrefhl': 1499, 'balls': 225, 'green': 1240, 'spotted': 2994, 'irritating': 1703, 'passionate': 2356, 'sex': 2807, 'mebut': 2042, 'giant': 1179, 'push': 2535, 'giving': 1191, 'ambition': 107, 'aiiima': 81, 'plzzz': 2448, 'httpswwwfacebookcompagescccblcebalmacebbcebt': 1493, 'httpsvimeocom': 1478, 'arent': 158, 'beaties': 248, 'httpswwwfacebookcompageshiphopexpress': 1496, 'yo': 3612, 'bella': 265, 'diagnosed': 736, 'wobbler': 3538, 'afford': 64, 'mri': 2159, 'surgery': 3102, 'dog': 779, 'lose': 1948, 'httpwwwgofundmecomfekgw': 1554, 'httpswwwfacebookcompageskomediburdagel': 1497, 'httpswwwfacebookcomprofilephpid': 1503, 'httpwwwgoogleadservicescompageadaclksalampaicsyoebwxvpcfldabgpydgbjdpmihmhuwbgjxbvsbeaegknljvcfbyhfbyiofgicahkabskgwpiaqkpahkmchbpmqambyapbbkoekwfpkullxqimgohvzeefmqrgtullbufszgnhbkjhbxmwtsdxhwpdxkazsjosiecvjjmbnswyijecqvhxlbdzstubofaloyinwmroocppsauatzguickmliduwmabzqvenetrfazorltbbvzyvxihbnqnvhmrbgesibgggbgkabjeycgampnumampcidggsmmatifsmvpicsampsigaodofcsehpopjyrbsxheenqampclientcapubampadurlhttpblogparalerochallengepentruafiliatiaplicalanoileprogramedeafilieresifiibusinessboomerulluniiampnmampmbampbgaqoucqvqiaaabpugaaacsqarvgoqwqxjmpuyvkosfkqbvkfzejhncovckkxcbafzzpajibxwbvvqjrdgzqrinlwgabybxlfwmadkrjgzkryizwqdihxggetnddabfltfkbmbffcjixnthwbwkjnonlhdeveagphoewxogbnuibgtrkgnacqoibgmzgafnsclsariqjhqrtdwvbiykiyyublotdexvklnveadzzflxryqkewsuredljwgkflqqaldiwaznuysgqjnrdyvucklplzonyisdkcebxdbhjzdwlbsjbigxmdpkrhvxinqliwqbahszxmjhwvwrkpxfoeks': 1559, 'body': 328, 'rapid': 2592, 'httpsplaygooglecomstoreappsdetailsidcomrapidfacebookmagicdroid': 1463, 'sensejust': 2799, 'videoi': 3386, 'telling': 3159, 'island': 1705, 'fit': 1060, 'situationbut': 2886, 'nvmthe': 2270, 'mighty': 2080, 'parry': 2347, 'rock': 2715, 'total': 3246, 'httpswwwpaidvertscomreftomuciux': 1513, 'esyest': 916, 'team': 3152, 'official': 2283, 'httpyoutubecevxzvsjlk': 1582, 'httpshhortcomarxjgbrne': 1455, 'playing': 2426, 'belly': 267, 'itsooooo': 1713, 'copy': 603, 'songstill': 2945, 'sooo': 2951, 'danced': 674, 'lmfao': 1918, 'httpsplusgooglecompostsgjvinpuemo': 1466, 'addicting': 41, 'hook': 1377, 'dope': 789, 'fast': 999, 'piss': 2411, 'toilet': 3233, 'quiet': 2547, 'track': 3254, 'sooooooooooooong': 2953, 'tattoo': 3145, 'tricep': 3271, 'say': 2757, 'glad': 1192, 'worry': 3557, 'eating': 845, 'rekt': 2641, 'mum': 2169, 'nite': 2238, 'cuz': 661, 'haterz': 1309, 'meh': 2051, 'lik': 1881, 'dis': 749, 'cri': 636, 'evertim': 927, 'sponswer': 2989, 'mi': 2074, 'robox': 2714, 'vidz': 3393, 'httpswwwindiegogocomprojectsgimmedemmoneyzrobloxxhome': 1509, 'eye': 963, 'title': 3227, 'lyrics': 1989, 'httpswwwindiegogocomprojectshelpstopmypovertycyberpanhandleingxhome': 1510, 'horrible': 1387, 'cringeworhty': 640, 'fashion': 997, 'blog': 319, 'sinar': 2873, 'jahitan': 1725, 'collection': 526, 'tqvm': 3253, 'appreciated': 153, 'trusted': 3285, 'uranus': 3351, 'bless': 316, 'belarus': 260, 'freyacumqueen': 1114, 'subscriberscome': 3064, 'emas': 872, 'httptvmtvemacomartistskatyperryixh': 1529, 'honest': 1373, 'mediocre': 2044, 'memorable': 2058, 'billie': 294, 'jean': 1734, 'beat': 246, 'democracy': 718, 'express': 957, 'lie': 1874, 'buzz': 392, 'cece': 424, 'deadme': 692, 'working': 3552, 'night': 2230, 'streamer': 3036, 'spotify': 2993, 'allows': 96, 'file': 1043, 'offline': 2286, 'opening': 2312, 'beta': 276, 'httpsmegaconzehvjzkyabgkgiwphzohwaeuesrwnegqglabcorwwfxhao': 1456, 'male': 2010, 'companion': 553, 'profile': 2507, 'coolest': 598, 'sextoy': 2808, 'made': 1996, 'httpsmfacebookcomdreaddisrefmnotififtfbpagefaninviteampactorid': 1457, 'racist': 2581, 'borderland': 338, 'presequel': 2489, 'poster': 2471, 'httpswwwfacebookcomnyghdramafestphotosatypeamptheater': 1491, 'tonighttoday': 3239, 'yesterday': 3608, 'succumbs': 3078, 'hahaha': 1279, 'katyperryvevo': 1782, 'axeljonssons': 209, 'honestly': 1374, 'brave': 356, 'oh': 2287, 'wait': 3431, 'thisand': 3203, 'brought': 371, 'sprayon': 2997, 'tan': 3138, 'hairstylist': 1283, 'cameraman': 398, 'guitar': 1262, 'illegal': 1619, 'goodlooking': 1210, 'babe': 217, 'choice': 479, 'surviving': 3108, 'happening': 1293, 'fool': 1079, 'foolish': 1080, 'arrogant': 162, 'obviously': 2274, 'idiot': 1606, 'garnered': 1162, 'numbering': 2265, 'guess': 1260, 'trash': 3265, 'father': 1000, 'turn': 3297, 'birtgday': 301, 'possible': 2466, 'gtgtjust': 1253, 'open': 2311, 'different': 744, 'tab': 3131, 'browser': 372, 'gtgtdont': 1251, 'hand': 1289, 'wasting': 3454, 'color': 529, 'characterized': 454, 'releasing': 2645, 'midnight': 2079, 'celebrate': 426, 'realized': 2611, 'verse': 3375, 'exact': 935, 'ho': 1366, 'lumineers': 1977, 'httpgiphycomgifsbirthdayflowershappygwjyuqiaxkaqxsfullscreen': 1437, 'that': 3180, 'advertising': 60, 'spark': 2972, 'taylor': 3148, 'swift': 3119, 'encouraging': 884, 'wisdom': 3532, 'wwwyouniqueproductscomjoannagordon': 3584, 'younique': 3619, 'joanna': 1744, 'gordon': 1221, 'wwwyouniqueproductscom': 3583, 'katheryns': 1775, 'katyand': 1779, 'sister': 2882, 'sing': 2874, 'autotune': 191, 'write': 3566, 'tha': 3170, 'fack': 975, 'nude': 2262, 'mayby': 2032, 'hooker': 1378, 'luckymusiqlive': 1975, 'drum': 818, 'et': 917, 'watchvnopovzoiqamplistuultucdihsdeibyowwuq': 3465, 'famous': 988, 'happens': 1294, 'start': 3009, 'medium': 2045, 'addfollow': 40, 'httptsucoroberts': 1528, 'relate': 2642, 'daughter': 687, 'depth': 723, 'dhg': 735, 'playlist': 2427, 'bunch': 383, 'nerdy': 2209, 'peach': 2374, 'absolute': 7, 'em': 869, 'hug': 1583, 'httpvimeocom': 1532, 'give': 1188, 'strength': 3038, 'known': 1813, 'meaning': 2037, 'httpminhatecacombrmaurospfilmesseriesdesenhosanimesmpetc': 1442, 'httpswwwfacebookcomantrobofficial': 1481, 'shakira': 2817, 'hack': 1272, 'skyburst': 2895, 'light': 1879, 'cancer': 402, 'umichael': 3313, 'age': 73, 'everybody': 928, 'female': 1028, 'vevo': 3378, 'justins': 1770, 'congrats': 577, 'applause': 148, 'httpssoundcloudcomjsuptfilsdusonfuckinghostile': 1470, 'httpswwwfacebookcommyfunnyriddles': 1489, 'httpswwwfacebookcomphotophpfbidampsetaamptypeamptheater': 1501, 'id': 1602, 'propa': 2516, 'explicit': 953, 'gangsta': 1158, 'insted': 1679, 'damnnnnnnnn': 672, 'oo': 2309, 'an': 116, 'growing': 1244, 'moment': 2129, 'cheer': 465, 'boring': 340, 'asinine': 169, 'heard': 1322, 'teenage': 3156, 'divorce': 769, 'wave': 3475, 'successful': 3077, 'stick': 3025, 'silly': 2867, 'putty': 2537, 'wahoo': 3430, 'middle': 2078, 'woods': 3546, 'comprehend': 563, 'explains': 952, 'awful': 206, 'clue': 517, 'living': 1915, 'fairy': 981, 'segue': 2787, 'ha': 1271, 'httpswwwfacebookcommarcossousafrefts': 1488, 'nature': 2198, 'tit': 3226, 'impress': 1636, 'roared': 2708, 'lion': 1903, 'youd': 3615, 'dede': 704, 'awesomeshe': 203, 'setting': 2806, 'figured': 1042, 'supposed': 3099, 'power': 2478, 'ballad': 224, 'uplifting': 3343, 'motivating': 2150, 'final': 1048, 'chorus': 482, 'umph': 3315, 'instead': 1678, 'crescendoing': 634, 'powerful': 2479, 'wavelength': 3477, 'fall': 983, 'flat': 1062, 'championand': 439, 'creator': 632, 'positive': 2465, 'blessing': 317, 'healing': 1319, 'creating': 630, 'success': 3075, 'nowplaying': 2259, 'weekendmix': 3487, 'dj': 772, 'denis': 720, 'shmelev': 2840, 'alex': 90, 'serov': 2802, 'wwwsmartfmnllivestreamhtml': 3580, 'artists': 166, 'httpwwwwattpadcomstoryshecanloveyougood': 1578, 'muchd': 2166, 'memorized': 2060, 'tend': 3160, 'skip': 2891, 'room': 2724, 'progressive': 2509, 'deep': 707, 'chillstep': 474, 'town': 3250, 'missouri': 2109, 'ask': 170, 'critiquing': 642, 'satisfying': 2751, 'advertise': 56, 'pester': 2391, 'gimme': 1182, 'httpwwwnetworkedblogscompcpwbrefpanorama': 1565, 'subscribed': 3059, 'httpswwwtsucotomeks': 1520, 'mah': 2000, 'duh': 824, 'youtubefacebook': 3634, 'lhudygirlamaya': 1873, 'yall': 3595, 'kevin': 1787, 'hart': 1302, 'realkevinheart': 2612, 'don': 784, 'greatest': 1237, 'quality': 2541, 'possibly': 2468, 'httpsappsfacebookcommypollsutsitcompetitionfromuserlinkamprefidouxge': 1448, 'anand': 120, 'niketan': 2232, 'international': 1689, 'fredom': 1105, 'poor': 2456, 'hii': 1351, 'dieroar': 742, 'floooooooooooooooooooop': 1067, 'grade': 1232, 'teacher': 3151, 'looked': 1935, 'exactly': 936, 'curti': 657, 'httpswwwfacebookcomdemiilovatofasrefhl': 1482, 'httpswwwfacebookcompagesfrasessecretasrefhl': 1495, 'httpwwwermailpldolaczunnfyi': 1547, 'parody': 2346, 'wet': 3501, 'seal': 2774, 'username': 3357, 'destinyforever': 730, 'httpwwwwetsealcommodelsearchmodelsearchhtml': 1579, 'simply': 2871, 'customer': 658, 'youhttpswwwfacebookcomgreenleader': 3616, 'httpsbinboxiodnckmqtqjb': 1449, 'bil': 292, 'soooooooooooooooooooooooooooooooooooooooo': 2955, 'xxx': 3591, 'decio': 702, 'cabelo': 393, 'homeless': 1371, 'alcoholic': 88, 'invisible': 1696, 'composer': 562, 'trust': 3284, 'deciocabelo': 703, 'canal': 401, 'born': 341, 'adele': 44, 'lile': 1895, 'modern': 2122, 'goosebump': 1219, 'inspiring': 1673, 'hrefhttpwwwyoutubecomwatchvkqzrkcpjamptmsa': 1428, 'part': 2348, 'wierd': 3516, 'humanbr': 1587, 'br': 351, 'giraffebr': 1184, 'elongate': 867, 'spinal': 2981, 'core': 604, 'skin': 2889, 'pigment': 2406, 'root': 2725, 'dreambr': 802, 'relnofollow': 2648, 'classothashtag': 500, 'hrefhttpsplusgooglecomsgiraffebruuhgiraffebruuha': 1409, 'rocklolwho': 2718, 'shuffle': 2855, 'awsomebr': 208, 'increible': 1652, 'likeee': 1889, 'dressed': 807, 'musique': 2181, 'wowwwwwwwwwwwwwwwwwwwwwwwwwwwwww': 3563, 'increidebl': 1653, 'superr': 3094, 'llikee': 1916, 'needed': 2203, 'mil': 2081, 'tango': 3139, 'switch': 3122, 'fairrrrrrr': 980, 'shuffling': 2858, 'videobr': 3384, 'songbr': 2936, 'hrefhttpwwwyoutubecomwatchvkqzrkcpjamptmsaa': 1429, 'rockbr': 2716, 'anthem': 136, 'lauren': 1850, 'bennett': 271, 'goo': 1207, 'hrefhttpsyoutubekqzrkcpjhttpsyoutubekqzrkcpja': 1422, 'box': 345, 'move': 2153, 'hirebr': 1356, 'mahogany': 2001, 'lmao': 1917, 'uncle': 3317, 'loveparty': 1962, 'stopis': 3029, 'fuckin': 1129, 'earthquake': 841, 'nepal': 2208, 'faded': 977, 'ah': 77, 'youtubebr': 3626, 'remeber': 2649, 'ol': 2294, 'werent': 3498, 'butt': 389, 'hero': 1340, 'generation': 1171, 'theyre': 3195, 'rockin': 2717, 'likeeee': 1890, 'robot': 2713, 'bi': 284, 'career': 412, 'sooooo': 2952, 'downs': 796, 'tension': 3162, 'likkee': 1893, 'amendment': 109, 'privacy': 2497, 'business': 387, 'nsa': 2261, 'spying': 3001, 'patriot': 2362, 'act': 28, 'renewal': 2660, 'rand': 2585, 'paul': 2363, 'spent': 2980, 'senate': 2795, 'floor': 1068, 'protest': 2521, 'filibuster': 1044, 'constitution': 585, 'nation': 2196, 'founded': 1094, 'dot': 792, 'email': 871, 'senator': 2796, 'congress': 578, 'morning': 2144, 'mindblowing': 2096, 'dancesuperbbb': 677, 'theme': 3185, 'insult': 1681, 'timebr': 3222, 'strong': 3040, 'past': 2359, 'summer': 3087, 'blow': 322, 'shufflin': 2857, 'soooooooooooooooooooooooooooooooooooooooooooooooooo': 2956, 'swear': 3116, 'doe': 777, 'else': 868, 'vanoss': 3367, 'everbr': 925, 'copied': 602, 'everywhere': 931, 'fu': 1125, 'cking': 495, 'awesom': 200, 'image': 1628, 'thingie': 3197, 'okay': 2293, 'exists': 944, 'insanebr': 1662, 'shrek': 2854, 'robo': 2712, 'insanely': 1663, 'literally': 1911, 'housee': 1397, 'tonight': 3238, 'lovee': 1960, 'nikki': 2233, 'minaj': 2094, 'anaconda': 118, 'jesses': 1740, 'spelled': 2978, 'peace': 2372, 'dang': 680, 'dat': 684, 'gat': 1163, 'moves': 2156, 'blast': 314, 'itbr': 1709, 'bone': 330, 'dosing': 791, 'foot': 1082, 'shake': 2813, 'golden': 1204, 'partying': 2351, 'cooooooooooooolllllllllll': 600, 'uploaded': 3345, 'finally': 1049, 'curse': 656, 'maylaysia': 2033, 'airline': 83, 'missing': 2106, 'fefefefefegelein': 1025, 'here': 1337, 'metal': 2069, 'wish': 3533, 'dudes': 822, 'show': 2852, 'watchin': 3458, 'laughing': 1847, 'yea': 3599, 'kidding': 1792, 'duel': 823, 'spongebob': 2987, 'goonrock': 1215, 'laura': 1849, 'in': 1640, 'jacket': 1722, 'sleeve': 2903, 'sleeveless': 2904, 'arm': 161, 'youtubbr': 3623, 'steps': 3020, 'flies': 1063, 'commentsoh': 548, 'lanta': 1838, 'df': 734, 'socool': 2925, 'coolwhy': 599, 'havent': 1312, 'before': 254, 'brah': 352, 'shuffled': 2856, 'illness': 1621, 'spreading': 3000, 'warring': 3448, 'hatersbr': 1308, 'en': 882, 'gooooood': 1217, 'likeeeeeeeee': 1891, 'thoughts': 3210, 'plzzzzzzz': 2449, 'plzzzzzzzzzzzzzzzzzzzzzzzzzzzzzzz': 2450, 'collaborator': 525, 'hrefhttpsplusgooglecomslmfaolmfaoa': 1412, 'lmfaois': 1919, 'reunion': 2679, 'june': 1761, 'expo': 954, 'idaho': 1603, 'garden': 1160, 'performe': 2384, 'press': 2490, 'conference': 571, 'answer': 135, 'question': 2543, 'yes': 3607, 'iiiiiiiiiii': 1615, 'unlike': 3331, 'brooooo': 369, 'youtubem': 3641, 'pro': 2498, 'plays': 2428, 'kill': 1796, 'youtubefb': 3635, 'drop': 816, 'decided': 701, 'certification': 432, 'prove': 2523, 'educated': 855, 'clean': 506, 'criminal': 639, 'work': 3550, 'entertainment': 901, 'field': 1037, 'rich': 2688, 'entertainer': 899, 'consolidating': 584, 'actress': 33, 'profits': 2508, 'pleasebr': 2436, 'ltbr': 1969, 'melhor': 2055, 'se': 2773, 'inscreva': 1665, 'meu': 2071, 'por': 2462, 'favorbr': 1006, 'obrigado': 2271, 'mejor': 2053, 'si': 2861, 'suscriba': 3109, 'gracias': 1230, 'meilleur': 2052, 'vous': 3424, 'abonner': 6, 'ma': 1990, 'chaine': 435, 'plaitbr': 2415, 'merci': 2064, 'chanell': 442, 'channelthanks': 450, 'remixer': 2656, 'melbourne': 2054, 'bored': 339, 'youtubea': 3625, 'agree': 75, 'bang': 227, 'happenedbr': 1292, 'spooked': 2990, 'spookinatibr': 2991, 'unspooked': 3333, 'tomorrowbr': 3237, 'hurt': 1592, 'lmfaovevo': 1920, 'hrefhttpsplusgooglecomseverydayimvapingeverydayimvapinga': 1408, 'span': 2969, 'classproflinkwrapperspan': 503, 'classproflinkprefixspana': 502, 'classproflink': 501, 'hrefhttpsplusgooglecom': 1404, 'oidsupermariologanaspan': 2290, 'thot': 3206, 'awsome': 207, 'jam': 1727, 'viewsbr': 3399, 'los': 1947, 'invito': 1698, 'subscribirse': 3068, 'youtubeopponents': 3642, 'mm': 2116, 'sky': 2894, 'diving': 768, 'doctor': 776, 'hrefhttpsmfreemyappscomshareurlbhttpsmfreemyappscomshareurlba': 1402, 'subscribesoon': 3066, 'nut': 2268, 'shellbr': 2831, 'firstbr': 1058, 'clubbr': 516, 'eyesbr': 966, 'advertisementsbr': 58, 'reasonbr': 2616, 'christianity': 488, 'arguementsbr': 159, 'religious': 2647, 'console': 583, 'warsbr': 3449, 'pcmasteracebr': 2370, 'trollsbr': 3278, 'quothow': 2561, 'online': 2308, 'earthbr': 840, 'complaintsbr': 559, 'pewdiepie': 2394, 'fangirlsbr': 992, 'scrubsbr': 2772, 'rmontageparodiesbr': 2703, 'russia': 2733, 'hrefhttpsplusgooglecomskinglothedancerkinglothedancera': 1411, 'naive': 2188, 'believing': 264, 'respect': 2671, 'fulfilling': 1133, 'drama': 800, 'fee': 1019, 'mgtow': 2073, 'chose': 483, 'information': 1657, 'caution': 420, 'disposable': 764, 'provider': 2524, 'utility': 3360, 'plea': 2430, 'iibr': 1614, 'som': 2930, 'contact': 589, 'kik': 1795, 'skypebr': 2898, 'panderbr': 2340, 'skype': 2897, 'sandernicolaysenbr': 2747, 'kashoo': 1774, 'channelbr': 448, 'graciasbr': 1231, 'youtubehbbhhhgh': 3636, 'subscrib': 3056, 'youtubehjalp': 3637, 'youtubeqq': 3644, 'hrefhttpwwwgofundmecomhelpmypitbullhttpwwwgofundmecomhelpmypitbulla': 1424, 'pitbull': 2412, 'virucide': 3407, 'tweet': 3304, 'therealterrell': 3190, 'couple': 613, 'exceptions': 939, 'youtubepl': 3643, 'youtubelo': 3640, 'feelz': 1024, 'extinct': 959, 'quotwhite': 2578, 'genocidequot': 1172, 'fricking': 1115, 'beast': 245, 'anywon': 141, 'herd': 1336, 'rollin': 2722, 'woke': 3539, 'buggti': 379, 'nuketown': 2263, 'shooting': 2843, 'quick': 2544, 'scoping': 2768, 'training': 3259, 'faze': 1010, 'adoult': 52, 'freind': 1109, 'sang': 2748, 'freinds': 1110, 'solve': 2929, 'partydrunk': 2350, 'hrefhttpsplaygooglecomstoreappsdetailsidvnibitapplockeramphlenhttpsplaygooglecomstoreappsdetailsidvnibitapplockeramphlena': 1403, 'youtubeit': 3638, 'beatboxing': 247, 'ummm': 3314, 'sup': 3090, 'gu': 1256, 'jaylan': 1731, 'yetbut': 3610, 'youtubejjiwajwkajajqjaubkm': 3639, 'wtf': 3574, 'youtu': 3622, 'nigger': 2229, 'fools': 1081, 'wood': 3545, 'pilebr': 2407, 'hmmbr': 1363, 'pie': 2404, 'ladies': 1828, 'hahaa': 1277, 'tighttttbr': 3220, 'quotaint': 2549, 'demo': 717, 'manquot': 2017, 'stuffbr': 3046, 'slapper': 2899, 'banger': 228, 'peep': 2375, 'hrefhttpssoundcloudcomroccsteadywaveemojiprodbynippylongbottomcyberpunkhttpssoundcloudcomroccsteadywaveemojiprodbynippylongbottomcyberpunka': 1417, 'niggas': 2228, 'quotcereal': 2550, 'knock': 1810, 'babyquot': 219, 'quotswagquot': 2572, 'tuto': 3300, 'usually': 3359, 'abomination': 5, 'lights': 1880, 'paypal': 2367, 'entered': 898, 'hood': 1376, 'doh': 780, 'flixter': 1066, 'nossnevs': 2250, 'nezo': 2220, 'edbr': 850, 'likeampshare': 1883, 'british': 367, 'youtuberbr': 3646, 'weekly': 3488, 'subscribebr': 3058, 'thanksjoycebr': 3176, 'promos': 2513, 'bady': 222, 'yust': 3652, 'pbr': 2368, 'computerbased': 564, 'musicbr': 2174, 'industry': 1655, 'rage': 2583, 'quoton': 2568, 'incquot': 1649, 'filling': 1046, 'surveysbr': 3105, 'hrefhttpwwwprizerebelcomindexphprhttpwwwprizerebelcomindexphpra': 1425, 'ooooo': 2310, 'shuffllllllllllllllllllllllinnnnn': 2859, 'them': 3184, 'looooooooove': 1941, 'loon': 1938, 'hilarious': 1352, 'noise': 2241, 'louis': 1955, 'saving': 2754, 'lovely': 1961, 'received': 2619, 'hrefhttpsplusgooglecomsactiveactivea': 1405, 'pimpmyviews': 2409, 'iam': 1600, 'palastine': 2339, 'wheel': 3505, 'aslamu': 173, 'lykum': 1984, 'pakistan': 2337, 'eminem': 873, 'espana': 911, 'mexico': 2072, 'latinoamerica': 1844, 'alright': 100, 'lady': 1829, 'john': 1747, 'smoking': 2919, 'lyrically': 1987, 'hotter': 1392, 'example': 937, 'abuse': 10, 'husband': 1593, 'definitely': 708, 'wellif': 3495, 'someone': 2932, 'sayin': 2758, 'charlie': 457, 'lost': 1951, 'hrefhttpswwwfacebookcomgroupshttpswwwfacebookcomgroupsa': 1418, 'beats': 250, 'unstoppable': 3334, 'rape': 2591, 'cheating': 461, 'basically': 236, 'though': 3208, 'mirror': 2104, 'harry': 1301, 'potter': 2475, 'deathly': 698, 'hallowsbr': 1287, 'sirius': 2881, 'quoti': 2562, 'youquot': 3620, 'hrefhttpsyoutubeyfuygkrchttpsyoutubeyfuygkrca': 1423, 'musicim': 2177, 'spamming': 2968, 'load': 1926, 'hyuck': 1598, 'australia': 187, 'bewatching': 282, 'favourite': 1009, 'gorgeous': 1223, 'passion': 2355, 'dysfunctional': 832, 'insanity': 1664, 'insane': 1661, 'noi': 2240, 'youtubechcfcvzfzfbvzdr': 3629, 'ryhme': 2734, 'canibus': 403, 'quadrillion': 2540, 'especially': 912, 'category': 418, 'intelligent': 1686, 'rapped': 2594, 'forgot': 1088, 'spit': 2983, 'rymeluv': 2735, 'ya': 3592, 'linz': 1902, 'personally': 2389, 'abusive': 12, 'relationship': 2643, 'writing': 3569, 'counts': 612, 'jail': 1726, 'ended': 886, 'od': 2277, 'plese': 2439, 'aye': 212, 'homies': 1372, 'cent': 430, 'line': 1898, 'feed': 1020, 'gone': 1205, 'mampm': 2012, 'well': 3492, 'youtubebut': 3627, 'rhinnah': 2685, 'youtubers': 3647, 'musician': 2176, 'gave': 1164, 'quot': 2548, 'sleeping': 2902, 'retard': 2677, 'goot': 1220, 'afraid': 65, 'skit': 2892, 'vine': 3401, 'tear': 3153, 'rihana': 2694, 'lostbr': 1952, 'cheat': 460, 'megan': 2048, 'fox': 1096, 'hothot': 1391, 'medication': 2043, 'wited': 3534, 'alfred': 91, 'sadly': 2737, 'hog': 1367, 'swamp': 3115, 'disorder': 763, 'filled': 1045, 'sassy': 2750, 'mouse': 2152, 'flaming': 1061, 'cheetos': 466, 'eat': 844, 'samurman': 2746, 'oreo': 2321, 'near': 2200, 'eminems': 875, 'actual': 34, 'talking': 3137, 'untitled': 3336, 'cold': 523, 'wind': 3524, 'wtp': 3575, 'apology': 143, 'toy': 3252, 'soldier': 2928, 'mosh': 2146, 'sense': 2798, 'dante': 682, 'riled': 2696, 'listeningstill': 1910, 'pleasure': 2438, 'password': 2358, 'facebookpasshackblogspotcom': 972, 'software': 2926, 'hacking': 1275, 'detail': 731, 'dakoda': 669, 'bigelow': 288, 'gained': 1145, 'deaf': 693, 'ginius': 1183, 'sttuupid': 3042, 'emotion': 878, 'songgod': 2940, 'rant': 2589, 'vi': 3379, 'hrefhttpsplusgooglecomseminememinema': 1407, 'hrefhttpsplusgooglecomslovethewayyoulielovethewayyouliea': 1413, 'hrefhttpsplusgooglecomsrapgodrapgoda': 1414, 'hrefhttpsplusgooglecomskingkinga': 1410, 'following': 1076, 'quotthumbs': 2574, 'upquot': 3348, 'button': 390, 'bearkglzjqup': 244, 'fbtwitterg': 1012, 'award': 196, 'method': 2070, 'roulette': 2728, 'shady': 2811, 'monster': 2135, 'watchvwgkmxnym': 3470, 'mmlp': 2117, 'ftw': 1124, 'igblastcom': 1610, 'imma': 1630, 'youtubecomwatchvasfnshghkampfeatureyoutube': 3632, 'supporter': 3098, 'hay': 1314, 'dakota': 670, 'earned': 836, 'subscribee': 3060, 'listencheck': 1907, 'andrew': 123, 'guasch': 1258, 'sick': 2862, 'flowim': 1069, 'dopethats': 790, 'aftermath': 71, 'tde': 3150, 'driveshaft': 813, 'extraordinary': 961, 'firepacom': 1055, 'lake': 1830, 'chillpal': 473, 'sturdy': 3048, 'astauand': 176, 'johackle': 1746, 'chorenn': 481, 'ethosien': 918, 'changeable': 444, 'noxu': 2260, 'ploosnar': 2442, 'looplab': 1944, 'hoppler': 1385, 'delicious': 715, 'false': 984, 'scitenoa': 2767, 'locobot': 1927, 'heartbreaking': 1325, 'thirsty': 3201, 'reminiscent': 2654, 'busyglide': 388, 'sasaroo': 2749, 'sore': 2958, 'axiomatic': 210, 'naperone': 2194, 'mere': 2066, 'undesirable': 3324, 'agreeable': 76, 'imperfect': 1632, 'roasted': 2710, 'insidious': 1667, 'modgone': 2124, 'quickest': 2545, 'trelod': 3268, 'keen': 1784, 'fresh': 1113, 'economic': 849, 'bocilile': 327, 'females': 1029, 'moneygqcom': 2132, 'victorious': 3381, 'luxuriant': 1981, 'responsible': 2674, 'unbiased': 3316, 'yoffa': 3613, 'ociramma': 2275, 'handsome': 1290, 'arrowgance': 163, 'mizuxe': 2115, 'boaconic': 326, 'sophisticated': 2957, 'illfated': 1620, 'spourmo': 2995, 'chubby': 490, 'hioffpo': 1353, 'probable': 2499, 'singlewave': 2878, 'trop': 3279, 'fort': 1091, 'votre': 3422, 'waratel': 3444, 'misty': 2110, 'exciting': 940, 'swoquix': 3124, 'acaer': 14, 'tupacase': 3296, 'lively': 1914, 'idiotic': 1607, 'ablaze': 2, 'crabby': 621, 'aloidia': 98, 'cheilith': 467, 'feandra': 1014, 'ignorant': 1611, 'wavefire': 3476, 'reiltas': 2639, 'skizzle': 2893, 'jovaphile': 1756, 'swooflia': 3123, 'grynn': 1246, 'excellent': 938, 'slimy': 2905, 'gabby': 1142, 'nalpure': 2189, 'lucky': 1974, 'glozzom': 1195, 'depressed': 722, 'sinpad': 2880, 'stereotyped': 3022, 'toximble': 3251, 'belle': 266, 'chanson': 452, 'boybr': 348, 'krean': 1822, 'magnificent': 1999, 'noodile': 2246, 'unequaled': 3326, 'moderock': 2123, 'gogopo': 1201, 'lulerain': 1976, 'olielle': 2300, 'zesty': 3655, 'laughable': 1846, 'accidental': 18, 'pepelexa': 2380, 'delightful': 716, 'wiry': 3531, 'toogit': 3241, 'uncovered': 3318, 'chesture': 468, 'woozy': 3548, 'adhoc': 46, 'weak': 3481, 'shallow': 2823, 'performance': 2383, 'acceptance': 15, 'speech': 2976, 'watchvarkglzjqup': 3461, 'ytma': 3650, 'paragraph': 2343, 'quotfirequot': 2557, 'hrefhttpwwwyoutubecomuserjlimvuthhttpwwwyoutubecomuserjlimvutha': 1427, 'ferirama': 1031, 'besloor': 273, 'shame': 2824, 'eggmode': 859, 'wazzasoft': 3479, 'plifal': 2440, 'shorogyt': 2845, 'value': 3365, 'scale': 2761, 'qerrassa': 2538, 'qiameth': 2539, 'mogotrevo': 2125, 'parede': 2345, 'yboiveth': 3597, 'drirathiel': 811, 'sertave': 2803, 'tendency': 3161, 'humor': 1590, 'unelind': 3325, 'operation': 2315, 'oleald': 2299, 'claster': 505, 'roll': 2721, 'fuffapster': 1132, 'worst': 3558, 'towered': 3249, 'quoteminem': 2555, 'yearquot': 3602, 'conveying': 593, 'domestic': 782, 'violence': 3402, 'fictional': 1035, 'exist': 943, 'chooses': 480, 'sexual': 2809, 'feeling': 1023, 'ad': 36, 'fgw': 1033, 'drew': 808, 'reflective': 2633, 'expansion': 945, 'intervene': 1691, 'sneeze': 2921, 'witness': 3536, 'smoke': 2918, 'innocent': 1660, 'prioritize': 2496, 'desire': 729, 'flight': 1064, 'polish': 2455, 'tax': 3146, 'zip': 3656, 'omniscient': 2303, 'eminmem': 877, 'wife': 3518, 'beating': 249, 'bastard': 239, 'micheal': 2077, 'class': 499, 'fame': 985, 'authenticviewscom': 188, 'spousal': 2996, 'abusue': 13, 'foxbecause': 1097, 'similar': 2869, 'nicei': 2224, 'flimsy': 1065, 'slip': 2906, 'facilitate': 974, 'manager': 2015, 'set': 2805, 'anxious': 137, 'loss': 1950, 'retrieve': 2678, 'photograph': 2399, 'husky': 1594, 'breath': 361, 'retain': 2676, 'rhythm': 2687, 'fabricates': 968, 'scintillating': 2766, 'harbor': 1297, 'cook': 595, 'officiates': 2285, 'walk': 3435, 'judge': 1758, 'ink': 1659, 'valuable': 3364, 'increase': 1650, 'cudi': 650, 'watchvxytcqnzmua': 3471, 'annoys': 134, 'cope': 601, 'picked': 2402, 'pen': 2376, 'paper': 2342, 'bring': 363, 'wrote': 3573, 'released': 2644, 'commit': 550, 'suicide': 3085, 'professionally': 2505, 'produced': 2503, 'my': 2186, 'george': 1173, 'inspiration': 1669, 'thou': 3207, 'covered': 617, 'mockingbird': 2120, 'worked': 3551, 'featuring': 1018, 'rhianna': 2684, 'insperasen': 1668, 'fav': 1002, 'eeeveryone': 856, 'dundundunnn': 826, 'collaboration': 524, 'zonepacom': 3658, 'rehabilitate': 2638, 'blushing': 324, 'depreciateds': 721, 'steel': 3017, 'selection': 2789, 'edit': 852, 'range': 2588, 'disclose': 753, 'macho': 1994, 'lift': 1878, 'letter': 1869, 'frame': 1100, 'thundering': 3215, 'prevent': 2492, 'conscious': 582, 'activates': 30, 'distribution': 766, 'normal': 2247, 'synthesizes': 3129, 'plant': 2419, 'entertains': 902, 'mail': 2004, 'hermann': 1339, 'buchmair': 376, 'realtionship': 2613, 'deserves': 727, 'bbb': 240, 'more': 2142, 'protective': 2520, 'geeze': 1167, 'quotdeazyquot': 2553, 'truethank': 3281, 'forever': 1085, 'riri': 2699, 'ignore': 1612, 'yuliya': 3651, 'september': 2800, 'inside': 1666, 'sneakiestg': 2920, 'muzik': 2184, 'cried': 637, 'subcribe': 3053, 'fantasy': 994, 'thefantasy': 3183, 'war': 3443, 'illustrate': 1623, 'exclusive': 941, 'mountain': 2151, 'refers': 2632, 'helpless': 1334, 'loud': 1954, 'authority': 189, 'improves': 1639, 'canvas': 404, 'repair': 2661, 'uppity': 3347, 'learning': 1859, 'substantial': 3071, 'derives': 724, 'burst': 386, 'render': 2659, 'symptomatic': 3126, 'bite': 308, 'brief': 362, 'narrow': 2195, 'eager': 833, 'transmit': 3263, 'crush': 647, 'mammoth': 2011, 'achieve': 22, 'shock': 2841, 'reduce': 2630, 'delicate': 714, 'meaty': 2041, 'adapt': 38, 'oil': 2291, 'thanx': 3179, 'admitting': 50, 'killed': 1797, 'girlfriend': 1186, 'tube': 3293, 'keithlinscotts': 1786, 'mummy': 2170, 'smack': 2910, 'heroin': 1341, 'fruit': 1121, 'vegetable': 3370, 'longer': 1932, 'lasting': 1841, 'energy': 888, 'weight': 3489, 'youtubecomuserloseweight': 3631, 'gorg': 1222, 'truly': 3282, 'pour': 2476, 'vincent': 3400, 'survival': 3106, 'texas': 3168, 'quotpmwquot': 2569, 'disappoint': 751, 'therealchrisking': 3189, 'quotmemory': 2566, 'lanequot': 1835, 'rd': 2603, 'quotcrown': 2551, 'mequot': 2063, 'asking': 172, 'catch': 416, 'letting': 1870, 'penny': 2378, 'leandrus': 1856, 'playtime': 2429, 'awesoooome': 204, 'kpopcitynet': 1821, 'largest': 1840, 'discount': 754, 'store': 3030, 'quothollywood': 2560, 'collectionquot': 527, 'phenomenallyricshere': 2395, 'thisthe': 3205, 'skylarworks': 2896, 'together': 3232, 'tygas': 3309, 'molly': 2126, 'whiz': 3510, 'khalifa': 1790, 'writingrecordingmixingperforming': 3570, 'bar': 231, 'build': 380, 'base': 234, 'improvehelp': 1638, 'closer': 513, 'lyrical': 1986, 'commment': 551, 'adult': 54, 'screwing': 2771, 'basketball': 237, 'player': 2423, 'crazycelebnewseupn': 628, 'plzz': 2447, 'srilanka': 3004, 'rate': 2600, 'helped': 1331, 'heshe': 1342, 'lv': 1983, 'onece': 2306, 'aswell': 177, 'pun': 2530, 'beware': 281, 'moon': 2141, 'rocks': 2719, 'azerbaijanbr': 214, 'warning': 3447, 'lneadwbfstvhkjlpxaeyvmnlvmriudtsfkvyali': 1921, 'pasatcroatia': 2353, 'lneadwbfvkahxpkenmfywkyxthsuprijuqsznug': 1925, 'belrustnice': 268, 'lneadwbftvzqtjuehasiefrjgexidvqdnqvphoexode': 1923, 'comebacktm': 536, 'lneadwbfunoaragawgutjoazdkfiuntzhymuhammad': 1924, 'shaeel': 2812, 'abbastfuck': 1, 'lneadwbftotoufjzvfflfnaxykwzsivqhimxenotorious': 1922, 'nikothey': 2236, 'belgium': 261, 'speaks': 2974, 'resort': 2670, 'audio': 181, 'invest': 1693, 'equipment': 909, 'response': 2673, 'notorious': 2257, 'niko': 2234, 'eminemlt': 874, 'everlt': 926, 'short': 2846, 'weekend': 3486, 'songvideo': 2946, 'trigger': 3274, 'meghan': 2049, 'ayyy': 213, 'juss': 1765, 'tryna': 3289, 'chrck': 484, 'songcongratulations': 2937, 'quotlove': 2565, 'jemini': 1738, 'signed': 2864, 'adam': 37, 'watchvtugnl': 3468, 'charlieee': 458, 'dddd': 690, 'gtgt': 1250, 'underground': 3320, 'pussy': 2536, 'ohand': 2288, 'overlol': 2330, 'coffee': 522, 'lover': 1963, 'lovatype': 1957, 'lova': 1956, 'spell': 2977, 'enterthen': 903, 'titled': 3228, 'writeperformrecordmixeditpost': 3567, 'barsto': 233, 'journeywatch': 1755, 'dreamhelp': 804, 'basethanks': 235, 'moly': 2127, 'liers': 1875, 'treating': 3267, 'bulgaria': 381, 'killtheclockhd': 1799, 'original': 2323, 'quotyour': 2580, 'disguisequot': 758, 'hiphop': 1355, 'sooooooooooooooo': 2954, 'gameplay': 1148, 'watchvhmsayho': 3464, 'cypher': 662, 'recently': 2621, 'album': 87, 'ep': 906, 'subscription': 3070, 'mindcould': 2097, 'musicwe': 2180, 'songsearch': 2944, 'dna': 774, 'guaschi': 1259, 'barspart': 232, 'songeveryday': 2938, 'journey': 1754, 'favour': 1008, 'told': 3234, 'potential': 2474, 'student': 3044, 'foward': 1095, 'dragon': 797, 'lana': 1833, 'del': 712, 'rey': 2683, 'drake': 799, 'macklemore': 1995, 'pink': 2410, 'countless': 610, 'inspire': 1671, 'fyi': 1141, 'freedom': 1107, 'hrefhttpsplusgooglecomsawesomeawesomea': 1406, 'hrefhttpsplusgooglecomssharesharea': 1416, 'hrefhttpsplusgooglecomsrtrta': 1415, 'hrefhttpowlyzmefhttpowlyzmefa': 1401, 'aspiring': 174, 'looooved': 1942, 'hoping': 1382, 'advertisement': 57, 'helpful': 1332, 'quotwe': 2577, 'master': 2028, 'itquot': 1712, 'favor': 1005, 'columbus': 532, 'nelson': 2206, 'spammer': 2967, 'watchvyuttxoyqq': 3472, 'losing': 1949, 'lies': 1876, 'lil': 1894, 'subscribing': 3067, 'mmph': 2118, 'terrance': 3163, 'serving': 2804, 'quotlike': 2564, 'quotsubscribequot': 2571, 'tvcmcadavidweebly': 3303, 'opportunity': 2319, 'duo': 828, 'starting': 3011, 'freestyle': 1108, 'likecomment': 1886, 'recording': 2626, 'rhyme': 2686, 'pointer': 2453, 'hottest': 1393, 'hairstyle': 1282, 'trend': 3269, 'upgrade': 3341, 'sen': 2794, 'higher': 1349, 'level': 1871, 'googlbxrosr': 1212, 'bangladesh': 230, 'fire': 1053, 'quotfeelin': 2556, 'goodquot': 1211, 'jdp': 1733, 'quotghostpoetquot': 2558, 'upcoming': 3338, 'ii': 1613, 'nicer': 2226, 'quotcruz': 2552, 'supatquotbr': 3091, 'be': 243, 'djj': 773, 'road': 2706, 'recovery': 2627, 'dated': 685, 'bbut': 241, 'claire': 497, 'swag': 3113, 'professor': 2506, 'lemme': 1866, 'berzerk': 272, 'earns': 838, 'wwhore': 3578, 'wage': 3428, 'pc': 2369, 'survey': 3104, 'shitjust': 2837, 'yahoo': 3594, 'legit': 1864, 'msg': 2161, 'vulnerable': 3426, 'recentley': 2620, 'surpassing': 3103, 'justing': 1769, 'watchvbwywphic': 3462, 'watchvaimbwbfqbzg': 3460, 'subscrible': 3069, 'honesty': 1375, 'wright': 3565, 'makeing': 2007, 'breaken': 360, 'cazzy': 421, 'comeing': 538, 'rule': 2731, 'luck': 1972, 'lovet': 1964, 'btw': 375, 'skill': 2888, 'current': 654, 'smaller': 2912, 'mile': 2082, 'nothingplease': 2254, 'spammed': 2966, 'critisism': 643, 'songsbr': 2943, 'supper': 3096, 'coolbr': 597, 'musicbut': 2175, 'quotso': 2570, 'lunden': 1978, 'lyricism': 1988, 'dong': 787, 'nirvanatrust': 2237, 'eminen': 876, 'evil': 933, 'farrell': 996, 'report': 2666, 'net': 2211, 'police': 2454, 'intelligence': 1685, 'analyst': 119, 'whistleblower': 3507, 'tony': 3240, 'expose': 955, 'horrific': 1388, 'monstrous': 2136, 'coverup': 620, 'perpetrated': 2386, 'operating': 2314, 'crime': 638, 'mainstream': 2005, 'law': 1851, 'firm': 1057, 'protect': 2519, 'devil': 733, 'brutally': 373, 'target': 3142, 'linked': 1901, 'london': 1930, 'attack': 178, 'column': 533, 'st': 3005, 'january': 1728, 'touch': 3248, 'mic': 2075, 'from': 1120, 'thailand': 3171, 'classsic': 504, 'spare': 2971, 'rapperplease': 2596, 'wastin': 3453, 'noticed': 2256, 'charley': 456, 'watchvnxkihkds': 3466, 'mcashim': 2034, 'brazil': 357, 'aware': 197, 'sean': 2775, 'kingston': 1804, 'inbox': 1642, 'channelsounds': 449, 'fair': 979, 'health': 1320, 'scare': 2762, 'thankfully': 3174, 'wasn': 3450, 'fullest': 1134, 'mission': 2107, 've': 3369, 'accomplished': 19, 'motivate': 2149, 'they': 3194, 'red': 2628, 'replay': 2664, 'worldcup': 3554, 'guruofmovie': 1264, 'waka': 3432, 'wery': 3499, 'iniestas': 1658, 'netherlands': 2213, 'thumsb': 3214, 'axy': 211, 'blonde': 321, 'times': 3223, 'itttttttt': 1715, 'wurkkkkkkkkkkkkkkkkkkkkkkkkkkkkkkkkkkkkkkkkkkkkkkkkkkkkkkkkkkkkkkkkkkkkkkkkkkkkkkkkkkkkkkkkkkkkkkkkkkkkk': 3576, 'wooooo': 3547, 'hrefhttpwwwyoutubecomwatchvprpeedmmmqamptmsa': 1430, 'saturday': 2752, 'postponing': 2473, 'week': 3485, 'hrefhttpithtithta': 1400, 'joining': 1750, 'fright': 1118, 'soccer': 2922, 'cd': 422, 'couch': 606, 'fave': 1003, 'felt': 1027, 'madly': 1997, 'totally': 3247, 'goood': 1216, 'fifa': 1038, 'coby': 519, 'usl': 3358, 'hrefhttpadflyhttpadflya': 1399, 'hmvtxbr': 1365, 'thisbr': 3204, 'hmvtx': 1364, 'ilovethissong': 1625, 'lamest': 1832, 'africa': 66, 'aid': 80, 'charity': 455, 'proud': 2522, 'ricky': 2690, 'sam': 2743, 'billiom': 295, 'shakifans': 2815, 'ilove': 1624, 'curly': 653, 'likebr': 1885, 'blank': 313, 'mio': 2103, 'muchshakira': 2167, 'shakirabr': 2818, 'definitley': 710, 'gypsy': 1270, 'rocksbr': 2720, 'oidshakiravevoaspan': 2289, 'torunament': 3245, 'nummber': 2267, 'patrik': 2361, 'kluivert': 1808, 'ampi': 114, 'shakiralt': 2819, 'stil': 3026, 'wk': 3537, 'samebr': 2744, 'likedbr': 1888, 'yearsbr': 3604, 'wil': 3520, 'wanderfol': 3438, 'miusic': 2111, 'pleasant': 2433, 'eh': 861, 'cutie': 660, 'shkira': 2839, 'promotes': 2515, 'terrorism': 3165, 'years': 3603, 'lip': 1904, 'synch': 3127, 'languages': 1837, 'gusttavo': 1265, 'lima': 1896, 'voce': 3417, 'nao': 2193, 'conhece': 579, 'offical': 2282, 'shakiras': 2820, 'dark': 683, 'horse': 1389, 'ahead': 78, 'roughly': 2727, 'hrefhttpswwwyoutubecomwatchvprpeedmmmqhttpswwwyoutubecomwatchvprpeedmmmqa': 1421, 'underrated': 3321, 'betterbr': 279, 'hasbr': 1304, 'meaningful': 2038, 'vibe': 3380, 'expect': 946, 'instantly': 1677, 'faves': 1004, 'brazilian': 358, 'shaki': 2814, 'autotuned': 192, 'lisening': 1905, 'shakiria': 2821, 'aunt': 185, 'africabr': 67, 'empirebr': 880, 'youtubecentral': 3628, 'millionsbr': 2089, 'dedication': 706, 'passionbr': 2357, 'videosbr': 3388, 'believerbr': 263, 'loyal': 1967, 'gamezzmta': 1151, 'gamezz': 1150, 'mta': 2162, 'trafficking': 3256, 'petitionbr': 2393, 'hrefhttpwwwthepetitionsitecomstopanimaltraffickingcidheaderclickhttpwwwthepetitionsitecomstopanimaltraffickingcidheaderclicka': 1426, 'capbr': 405, 'ej': 863, 'ba': 215, 'hopme': 1383, 'hrefhttpswwwpaidvertscomrefsihaamhttpswwwpaidvertscomrefsihaama': 1420, 'all': 93, 'spanish': 2970, 'brake': 354, 'thingsbr': 3198, 'subscribeeeeeeeeee': 3061, 'channnnnnelll': 451, 'hrefhttpswwwpaidvertscomrefmariushttpswwwpaidvertscomrefmariusa': 1419, 'income': 1647, 'financial': 1050, 'risk': 2702, 'acquiring': 27, 'bonus': 331, 'deal': 694, 'technique': 3155, 'wager': 3429, 'bookmaker': 335, 'bet': 275, 'betfair': 277, 'secure': 2783, 'chap': 453, 'jim': 1742, 'vanstone': 3368, 'quid': 2546, 'costfree': 605, 'bookie': 334, 'obtain': 2273, 'consumer': 588, 'compared': 555, 'adore': 51, 'earning': 837, 'claiming': 496, 'acquire': 26, 'lad': 1826, 'selecting': 2788, 'generated': 1170, 'assume': 175, 'succeeds': 3073, 'dribbleproshot': 809, 'significantly': 2865, 'boost': 337, 'aka': 85, 'nick': 2227, 'playerhis': 2424, 'mate': 2029, 'definitily': 709, 'quotdribbleproshotquot': 2554, 'useful': 3354, 'demonstrating': 719, 'enormously': 896, 'transformed': 3261, 'fausto': 1001, 'substantially': 3072, 'footballsoccer': 1084, 'playerto': 2425, 'amazement': 104, 'hopefully': 1381, 'kpop': 1820, 'voucher': 3423, 'cardsxbox': 410, 'duzafizz': 830, 'burder': 384, 'colorful': 530, 'incandescent': 1643, 'ambitious': 108, 'winooze': 3529, 'absorbing': 9, 'macabre': 1992, 'crestboot': 635, 'boxium': 346, 'womanly': 3541, 'ybuwyn': 3598, 'forgetful': 1087, 'zealous': 3653, 'wakad': 3433, 'halloween': 1286, 'dreamer': 803, 'ourself': 2326, 'wilsubscribe': 3522, 'frndzzl': 1119, 'fragile': 1099, 'swim': 3120, 'enlist': 895, 'audit': 182, 'frequent': 1112, 'describes': 725, 'requite': 2668, 'mess': 2067, 'upto': 3349, 'netjobscom': 2214, 'comfort': 540, 'currently': 655, 'hiring': 1357, 'wide': 3515, 'facebooktwitter': 973, 'prior': 2495, 'experience': 950, 'begin': 255, 'immediately': 1631, 'monthly': 2140, 'incomeonly': 1648, 'statement': 3012, 'conciliate': 570, 'acidic': 24, 'stretch': 3039, 'recognizes': 2623, 'numberless': 2266, 'transport': 3264, 'trade': 3255, 'ww': 3577, 'estiloproduction': 914, 'galaxy': 1146, 'mini': 2100, 'ipad': 1699, 'hhnl': 1344, 'respond': 2672, 'enabled': 883, 'buck': 377, 'bitlybsefqe': 309, 'guysi': 1268, 'houronly': 1395, 'meat': 2040, 'discus': 757, 'peaceful': 2373, 'unit': 3329, 'arbitrate': 157, 'guide': 1261, 'addition': 43, 'worried': 3556, 'approve': 155, 'insurance': 1682, 'appoints': 151, 'prepare': 2487, 'historical': 1358, 'plausible': 2421, 'submits': 3054, 'behavior': 257, 'grass': 1233, 'seat': 2778, 'strategizes': 3033, 'edge': 851, 'oldchattk': 2296, 'anderson': 122, 'expecting': 948, 'gain': 1144, 'harder': 1300, 'quotyeahquot': 2579, 'thatd': 3181, 'itd': 1710, 'daneja': 679, 'suscribite': 3112, 'whatuknow': 3504, 'rugby': 2730, 'euw': 920, 'germany': 1174, 'netherland': 2212, 'france': 1101, 'portugal': 2464, 'spain': 2964, 'refused': 2634, 'euro': 919, 'beutiful': 280, 'eva': 921, 'jesus': 1741, 'christ': 486, 'savior': 2755, 'sin': 2872, 'heaven': 1326, 'saved': 2753, 'salvation': 2742, 'righteousness': 2693, 'sinned': 2879, 'present': 2488, 'sucking': 3080, 'cock': 520, 'celebrity': 429, 'beneath': 269, 'mileysecretvideocouk': 2085, 'leeched': 1862, 'porno': 2463, 'celeb': 425, 'mileycelebnewscouk': 2084, 'tape': 3141, 'banging': 229, 'posted': 2470, 'dreaming': 805, 'piano': 2400, 'step': 3018, 'forward': 1092, 'echa': 848, 'vistazo': 3412, 'remezcla': 2651, 'wrecking': 3564, 'ball': 223, 'enlace': 893, 'suscribase': 3110, 'musicvideo': 2179, 'celebration': 428, 'watchvdtqcftrfac': 3463, 'justien': 1767, 'likeampsubscribe': 1884, 'wellcomemdblogfacom': 3494, 'httpwwwebaycomusrshoecollector': 1546, 'ouf': 2324, 'ouffffffffffffffffff': 2325, 'goose': 1218, 'bump': 382, 'recommend': 2624, 'apple': 149, 'gen': 1168, 'gb': 1166, 'unlocked': 3332, 'wifig': 3519, 'price': 2493, 'samsung': 2745, 'iv': 1719, 'sony': 2948, 'led': 1861, 'hdtv': 1315, 'allinone': 94, 'macbook': 1993, 'air': 82, 'nikon': 2235, 'slr': 2907, 'ultrabooks': 3312, 'vaio': 3363, 'intel': 1684, 'purchase': 2531, 'taaeecom': 3130, 'quothelp': 2559, 'wholehearted': 3512, 'quotnoquot': 2567, 'discrimination': 756, 'united': 3330, 'impossible': 1635, 'possiblequot': 2467, 'winner': 3527, 'successcheers': 3076, 'tinyurldotcomslashmxhy': 3224, 'comforter': 541, 'afflicted': 63, 'christian': 487, 'patriarch': 2360, 'prophet': 2517, 'apostle': 144, 'martyr': 2026, 'confessor': 572, 'virgin': 3406, 'saint': 2739, 'conceived': 568, 'rosary': 2726, 'mary': 2027, 'divine': 767, 'grace': 1229, 'pure': 2532, 'chaste': 459, 'inviolate': 1695, 'undefiled': 3319, 'amiable': 112, 'admirable': 47, 'counsel': 608, 'redeemer': 2629, 'affiliated': 62, 'enjoyable': 892, 'neeru': 2204, 'gmailcom': 1196, 'drive': 812, 'advertisiments': 59, 'rappersinger': 2597, 'estonia': 915, 'wafence': 3427, 'apprecitate': 154, 'nlmemakemoneywithoutinvestment': 2239, 'richest': 2689, 'marketer': 2022, 'bitlymakemoneywithoutadroid': 311, 'dickwad': 738, 'colour': 531, 'ancestor': 121, 'baba': 216, 'brinkman': 366, 'quotim': 2563, 'africanquot': 69, 'muslim': 2182, 'egoistic': 860, 'donating': 786, 'terrorist': 3166, 'wats': 3474, 'ik': 1616, 'amy': 115, 'northland': 2249, 'paranormal': 2344, 'society': 2924, 'evidence': 932, 'pa': 2332, 'instrumental': 1680, 'songwriter': 2947, 'mississippi': 2108, 'highly': 1350, 'whitney': 3509, 'investmentjust': 1694, 'thergloveblogspotinblogposthtml': 3193, 'bitlygkvdo': 310, 'kodaline': 1815, 'dragonsand': 798, 'adfly': 45, 'kldy': 1807, 'irish': 1701, 'aviciis': 194, 'quotwake': 2576, 'fiddle': 1036, 'sillyquot': 2868, 'animator': 130, 'pagee': 2334, 'versace': 3374, 'cge': 433, 'quotversace': 2575, 'moneyquot': 2133, 'jawan': 1730, 'gardner': 1161, 'comedy': 537, 'recipe': 2622, 'prank': 2483, 'crank': 623, 'call': 394, 'nicely': 2225, 'lame': 1831, 'swagfriends': 3114, 'movement': 2155, 'partyman': 2352, 'fr': 1098, 'tunez': 3295, 'hicheck': 1346, 'famine': 987, 'food': 1078, 'raise': 2584, 'luxury': 1982, 'itt': 1714, 'ppl': 2480, 'intention': 1687, 'annoyed': 132, 'writer': 3568, 'killing': 1798, 'importantly': 1634, 'focus': 1072, 'send': 2797, 'justice': 1766, 'steven': 3023, 'reed': 2631, 'supreme': 3100, 'courtthanks': 615, 'johnny': 1748, 'continue': 592, 'musiclyrics': 2178, 'keyboard': 1788, 'manband': 2016, 'independent': 1654, 'listenersupported': 1908, 'willing': 3521, 'namepicture': 2192, 'alvar': 102, 'quotthis': 2573, 'africaquot': 70, 'trayvon': 3266, 'motherlandbr': 2148, 'thankyou': 3178, 'large': 1839, 'convinced': 594, 'perform': 2382, 'form': 1089, 'leisure': 1865, 'cease': 423, 'reveling': 2680, 'murder': 2171, 'plot': 2443, 'neighbor': 2205, 'clap': 498, 'wickedness': 3514, 'celebrated': 427, 'openly': 2313, 'street': 3037, 'perverse': 2390, 'abominable': 4, 'shall': 2822, 'repay': 2663, 'lord': 1946, 'trumpetcallofgodonline': 3283, 'chill': 472, 'hearing': 1323, 'mixtapecheck': 2114, 'camp': 399, 'wiredo': 3530, 'dancer': 676}\n",
            "[7.88602079 7.88602079 7.88602079 ... 7.88602079 7.48055568 6.09426132]\n",
            "(1956, 3659)\n",
            "[[0. 0. 0. ... 0. 0. 0.]\n",
            " [0. 0. 0. ... 0. 0. 0.]\n",
            " [0. 0. 0. ... 0. 0. 0.]\n",
            " ...\n",
            " [0. 0. 0. ... 0. 0. 0.]\n",
            " [0. 0. 0. ... 0. 0. 0.]\n",
            " [0. 0. 0. ... 0. 0. 0.]]\n"
          ]
        }
      ]
    },
    {
      "cell_type": "code",
      "source": [
        "from sklearn.feature_extraction.text import HashingVectorizer\n",
        "\n",
        "# create the transform\n",
        "vectorizer = HashingVectorizer(n_features=20)\n",
        "\n",
        "# encode document\n",
        "hash_vector = vectorizer.transform(comments)\n",
        "print(hash_vector.shape)\n",
        "print(hash_vector.toarray())"
      ],
      "metadata": {
        "colab": {
          "base_uri": "https://localhost:8080/"
        },
        "id": "olhaA0nBkahM",
        "outputId": "a902fb53-ebb1-45d7-d999-0c2ba606e7a6"
      },
      "execution_count": null,
      "outputs": [
        {
          "output_type": "stream",
          "name": "stdout",
          "text": [
            "(1956, 20)\n",
            "[[0.         0.         0.         ... 0.         0.         0.75592895]\n",
            " [0.6882472  0.         0.         ... 0.         0.22941573 0.22941573]\n",
            " [0.         0.         0.         ... 0.         0.         0.        ]\n",
            " ...\n",
            " [0.         0.         0.         ... 0.         0.         0.        ]\n",
            " [0.         0.         0.         ... 0.         0.         0.        ]\n",
            " [0.         0.         0.         ... 0.         0.         0.        ]]\n"
          ]
        }
      ]
    },
    {
      "cell_type": "markdown",
      "source": [
        "### Scoring & Metrics"
      ],
      "metadata": {
        "id": "OJ1Z37MYemHW"
      }
    },
    {
      "cell_type": "code",
      "source": [
        "from sklearn.model_selection import train_test_split\n",
        "import numpy as np\n",
        "\n",
        "ham_sample = train_test_split([c for c, spam in all_comments if spam == '0'])\n",
        "ham_train, ham_test = ham_sample\n",
        "spam_sample = train_test_split([c for c, spam in all_comments if spam == '1'])\n",
        "spam_train, spam_test = spam_sample\n",
        "print(\"ham:\", len(ham_train)+ len(ham_test))\n",
        "print(\"spam:\", len(spam_train)+ len(spam_test))"
      ],
      "metadata": {
        "colab": {
          "base_uri": "https://localhost:8080/",
          "height": 415
        },
        "id": "SeCy6GWOmNyp",
        "outputId": "f6b3862f-ffde-439a-b6f7-7d1fdbc5ef75"
      },
      "execution_count": null,
      "outputs": [
        {
          "output_type": "error",
          "ename": "ValueError",
          "evalue": "ignored",
          "traceback": [
            "\u001b[0;31m---------------------------------------------------------------------------\u001b[0m",
            "\u001b[0;31mValueError\u001b[0m                                Traceback (most recent call last)",
            "\u001b[0;32m<ipython-input-23-4a3a01fbe60d>\u001b[0m in \u001b[0;36m<module>\u001b[0;34m()\u001b[0m\n\u001b[1;32m      2\u001b[0m \u001b[0;32mimport\u001b[0m \u001b[0mnumpy\u001b[0m \u001b[0;32mas\u001b[0m \u001b[0mnp\u001b[0m\u001b[0;34m\u001b[0m\u001b[0;34m\u001b[0m\u001b[0m\n\u001b[1;32m      3\u001b[0m \u001b[0;34m\u001b[0m\u001b[0m\n\u001b[0;32m----> 4\u001b[0;31m \u001b[0mham_sample\u001b[0m \u001b[0;34m=\u001b[0m \u001b[0mtrain_test_split\u001b[0m\u001b[0;34m(\u001b[0m\u001b[0;34m[\u001b[0m\u001b[0mc\u001b[0m \u001b[0;32mfor\u001b[0m \u001b[0mc\u001b[0m\u001b[0;34m,\u001b[0m \u001b[0mspam\u001b[0m \u001b[0;32min\u001b[0m \u001b[0mall_comments\u001b[0m \u001b[0;32mif\u001b[0m \u001b[0mspam\u001b[0m \u001b[0;34m==\u001b[0m \u001b[0;34m'0'\u001b[0m\u001b[0;34m]\u001b[0m\u001b[0;34m)\u001b[0m\u001b[0;34m\u001b[0m\u001b[0;34m\u001b[0m\u001b[0m\n\u001b[0m\u001b[1;32m      5\u001b[0m \u001b[0mham_train\u001b[0m\u001b[0;34m,\u001b[0m \u001b[0mham_test\u001b[0m \u001b[0;34m=\u001b[0m \u001b[0mham_sample\u001b[0m\u001b[0;34m\u001b[0m\u001b[0;34m\u001b[0m\u001b[0m\n\u001b[1;32m      6\u001b[0m \u001b[0mspam_sample\u001b[0m \u001b[0;34m=\u001b[0m \u001b[0mtrain_test_split\u001b[0m\u001b[0;34m(\u001b[0m\u001b[0;34m[\u001b[0m\u001b[0mc\u001b[0m \u001b[0;32mfor\u001b[0m \u001b[0mc\u001b[0m\u001b[0;34m,\u001b[0m \u001b[0mspam\u001b[0m \u001b[0;32min\u001b[0m \u001b[0mall_comments\u001b[0m \u001b[0;32mif\u001b[0m \u001b[0mspam\u001b[0m \u001b[0;34m==\u001b[0m \u001b[0;34m'1'\u001b[0m\u001b[0;34m]\u001b[0m\u001b[0;34m)\u001b[0m\u001b[0;34m\u001b[0m\u001b[0;34m\u001b[0m\u001b[0m\n",
            "\u001b[0;32m/usr/local/lib/python3.7/dist-packages/sklearn/model_selection/_split.py\u001b[0m in \u001b[0;36mtrain_test_split\u001b[0;34m(test_size, train_size, random_state, shuffle, stratify, *arrays)\u001b[0m\n\u001b[1;32m   2419\u001b[0m     \u001b[0mn_samples\u001b[0m \u001b[0;34m=\u001b[0m \u001b[0m_num_samples\u001b[0m\u001b[0;34m(\u001b[0m\u001b[0marrays\u001b[0m\u001b[0;34m[\u001b[0m\u001b[0;36m0\u001b[0m\u001b[0;34m]\u001b[0m\u001b[0;34m)\u001b[0m\u001b[0;34m\u001b[0m\u001b[0;34m\u001b[0m\u001b[0m\n\u001b[1;32m   2420\u001b[0m     n_train, n_test = _validate_shuffle_split(\n\u001b[0;32m-> 2421\u001b[0;31m         \u001b[0mn_samples\u001b[0m\u001b[0;34m,\u001b[0m \u001b[0mtest_size\u001b[0m\u001b[0;34m,\u001b[0m \u001b[0mtrain_size\u001b[0m\u001b[0;34m,\u001b[0m \u001b[0mdefault_test_size\u001b[0m\u001b[0;34m=\u001b[0m\u001b[0;36m0.25\u001b[0m\u001b[0;34m\u001b[0m\u001b[0;34m\u001b[0m\u001b[0m\n\u001b[0m\u001b[1;32m   2422\u001b[0m     )\n\u001b[1;32m   2423\u001b[0m \u001b[0;34m\u001b[0m\u001b[0m\n",
            "\u001b[0;32m/usr/local/lib/python3.7/dist-packages/sklearn/model_selection/_split.py\u001b[0m in \u001b[0;36m_validate_shuffle_split\u001b[0;34m(n_samples, test_size, train_size, default_test_size)\u001b[0m\n\u001b[1;32m   2099\u001b[0m             \u001b[0;34m\"With n_samples={}, test_size={} and train_size={}, the \"\u001b[0m\u001b[0;34m\u001b[0m\u001b[0;34m\u001b[0m\u001b[0m\n\u001b[1;32m   2100\u001b[0m             \u001b[0;34m\"resulting train set will be empty. Adjust any of the \"\u001b[0m\u001b[0;34m\u001b[0m\u001b[0;34m\u001b[0m\u001b[0m\n\u001b[0;32m-> 2101\u001b[0;31m             \u001b[0;34m\"aforementioned parameters.\"\u001b[0m\u001b[0;34m.\u001b[0m\u001b[0mformat\u001b[0m\u001b[0;34m(\u001b[0m\u001b[0mn_samples\u001b[0m\u001b[0;34m,\u001b[0m \u001b[0mtest_size\u001b[0m\u001b[0;34m,\u001b[0m \u001b[0mtrain_size\u001b[0m\u001b[0;34m)\u001b[0m\u001b[0;34m\u001b[0m\u001b[0;34m\u001b[0m\u001b[0m\n\u001b[0m\u001b[1;32m   2102\u001b[0m         )\n\u001b[1;32m   2103\u001b[0m \u001b[0;34m\u001b[0m\u001b[0m\n",
            "\u001b[0;31mValueError\u001b[0m: With n_samples=0, test_size=0.25 and train_size=None, the resulting train set will be empty. Adjust any of the aforementioned parameters."
          ]
        }
      ]
    },
    {
      "cell_type": "code",
      "source": [
        "ham_train_label = [0] * len(ham_train)\n",
        "spam_train_label = [1] * len(spam_train)\n",
        "x_train = np.concatenate((ham_train, spam_train))\n",
        "y_train = np.concatenate((ham_train_label, spam_train_label))\n",
        "print(\"size of train set:\", x_train.shape)\n",
        "\n",
        "ham_test_label = [0] * len(ham_test)\n",
        "spam_test_label = [1] * len(spam_test)\n",
        "x_test = np.concatenate((ham_test, spam_test))\n",
        "y_test = np.concatenate((ham_test_label, spam_test_label))\n",
        "print(\"size of test set:\", x_test.shape)\n",
        "\n",
        "train_shuffle_index = np.random.permutation(np.arange(0, x_train.shape[0]))\n",
        "test_shuffle_index = np.random.permutation(np.arange(0, x_test.shape[0]))\n",
        "\n",
        "x_train = x_train[train_shuffle_index]\n",
        "y_train = y_train[train_shuffle_index]\n",
        "x_test = x_test[test_shuffle_index]\n",
        "y_test = y_test[test_shuffle_index]"
      ],
      "metadata": {
        "id": "4IDXdlydotvS"
      },
      "execution_count": null,
      "outputs": []
    },
    {
      "cell_type": "code",
      "source": [
        "from sklearn.naive_bayes import GaussianNB, MultinomialNB\n",
        "\n",
        "vectorizers = [CountVectorizer(lowercase=False), TfidfVectorizer(), HashingVectorizer(n_features=20)]\n",
        "for vectorizer in vectorizers:\n",
        "  vectorizer.fit(x_train)\n",
        "\n",
        "  x_train_features = vectorizer.transform(x_train)\n",
        "  x_test_features = vectorizer.transform(x_test)\n",
        "\n",
        "  clf = GaussianNB()\n",
        "  clf.fit(x_train_features.toarray(),y_train)\n",
        "\n",
        "  # Output of the score is the accuracy of the prediction\n",
        "  train_score = clf.score(x_train_features.toarray(),y_train)\n",
        "  test_score = clf.score(x_test_features.toarray(),y_test)\n",
        "  print(train_score, test_score, vectorizer)"
      ],
      "metadata": {
        "id": "f_ExWqvplVXo"
      },
      "execution_count": null,
      "outputs": []
    },
    {
      "cell_type": "code",
      "source": [
        "from sklearn.metrics import confusion_matrix\n",
        "from sklearn.metrics import confusion_matrix, f1_score, precision_score, recall_score\n",
        "\n",
        "y_predict = clf.predict(x_test_features.toarray())\n",
        "# print(confusion_matrix(y_test,y_predict))\n",
        "\n",
        "tn, fp, fn, tp = confusion_matrix(y_test,y_predict).ravel()\n",
        "print(\"F1: {:.2f}%\".format(100 * f1_score(y_test, y_predict)))\n",
        "print(\"Precision: {:.2f}%\".format(100 * precision_score(y_test, y_predict)))\n",
        "print(\"Recall: {:.2f}%\".format(100 * recall_score(y_test, y_predict)))"
      ],
      "metadata": {
        "id": "QHZrU37G-ou3"
      },
      "execution_count": null,
      "outputs": []
    },
    {
      "cell_type": "markdown",
      "source": [
        "## SVM"
      ],
      "metadata": {
        "id": "Tzpby4mkYa4-"
      }
    },
    {
      "cell_type": "code",
      "source": [
        "import numpy as np\n",
        "import pandas as pd\n",
        "import matplotlib.pyplot as plt\n",
        "from sklearn.feature_extraction.text import CountVectorizer\n",
        "from sklearn.model_selection import GridSearchCV\n",
        "from sklearn import svm\n",
        "from sklearn.svm import SVC\n",
        "from sklearn.metrics import accuracy_score, f1_score, precision_score, recall_score\n",
        "\n",
        "cv = CountVectorizer() \n",
        "X_train = cv.fit_transform(x_train)\n",
        "X_test = cv.transform(x_test)\n",
        "\n",
        "svm = SVC(kernel = 'rbf', random_state = 0)\n",
        "svm.fit(X_train, y_train)\n",
        "\n",
        "# print(svm.score(X_test,y_test))\n",
        "\n",
        "y_predict = svm.predict(X_test)\n",
        "accuracy = accuracy_score(y_test, y_predict)\n",
        "f1 = f1_score(y_test, y_predict)\n",
        "precision = precision_score(y_test, y_predict)\n",
        "recall = recall_score(y_test, y_predict)\n",
        "\n",
        "print(f'accuracy: {accuracy:.2f}\\nf1: {f1:.2f}\\nprecision: {precision:.2f}\\nrecall: {recall:.2f}')"
      ],
      "metadata": {
        "id": "ABWRikklYtLJ"
      },
      "execution_count": null,
      "outputs": []
    },
    {
      "cell_type": "markdown",
      "source": [
        "## Random forest"
      ],
      "metadata": {
        "id": "hZNZkukRLf4F"
      }
    },
    {
      "cell_type": "code",
      "source": [
        "from sklearn.ensemble import RandomForestClassifier\n",
        "\n",
        "rf = RandomForestClassifier(max_depth=2)\n",
        "rf.fit(X_train, y_train)\n",
        "\n",
        "y_predict = rf.predict(X_test)\n",
        "accuracy = accuracy_score(y_test, y_predict)\n",
        "f1 = f1_score(y_test, y_predict)\n",
        "precision = precision_score(y_test, y_predict)\n",
        "recall = recall_score(y_test, y_predict)\n",
        "\n",
        "print(f'accuracy: {accuracy:.2f}\\nf1: {f1:.2f}\\nprecision: {precision:.2f}\\nrecall: {recall:.2f}')"
      ],
      "metadata": {
        "id": "_qeqaBhSH0yf"
      },
      "execution_count": null,
      "outputs": []
    },
    {
      "cell_type": "markdown",
      "source": [
        "## Logistic regression"
      ],
      "metadata": {
        "id": "eMb0flZAM0J6"
      }
    },
    {
      "cell_type": "code",
      "source": [
        "from sklearn.linear_model import LogisticRegression\n",
        "\n",
        "lr = LogisticRegression(max_iter=131, verbose=2, random_state=42)\n",
        "lr.fit(X_train, y_train)\n",
        "\n",
        "y_predict = lr.predict(X_test)\n",
        "accuracy = accuracy_score(y_test, y_predict)\n",
        "f1 = f1_score(y_test, y_predict)\n",
        "precision = precision_score(y_test, y_predict)\n",
        "recall = recall_score(y_test, y_predict)\n",
        "\n",
        "print(f'accuracy: {accuracy:.2f}\\nf1: {f1:.2f}\\nprecision: {precision:.2f}\\nrecall: {recall:.2f}\\n')"
      ],
      "metadata": {
        "id": "fyy4oIWZM-qS"
      },
      "execution_count": null,
      "outputs": []
    },
    {
      "cell_type": "markdown",
      "source": [
        "## K-nearest neighbors"
      ],
      "metadata": {
        "id": "AD3G-4pmQc3B"
      }
    },
    {
      "cell_type": "code",
      "source": [
        "from sklearn.neighbors import KNeighborsClassifier\n",
        "\n",
        "knn = KNeighborsClassifier(n_neighbors=5)\n",
        "knn.fit(X_train, y_train)\n",
        "\n",
        "y_predict = knn.predict(X_test)\n",
        "accuracy = accuracy_score(y_test, y_predict)\n",
        "f1 = f1_score(y_test, y_predict)\n",
        "precision = precision_score(y_test, y_predict)\n",
        "recall = recall_score(y_test, y_predict)\n",
        "\n",
        "print(f'accuracy: {accuracy:.2f}\\nf1: {f1:.2f}\\nprecision: {precision:.2f}\\nrecall: {recall:.2f}\\n')"
      ],
      "metadata": {
        "id": "dvQTz8NrPxBc"
      },
      "execution_count": null,
      "outputs": []
    },
    {
      "cell_type": "markdown",
      "source": [
        "# Comparing different models\n",
        "\n"
      ],
      "metadata": {
        "id": "UE4-yPLlWlGn"
      }
    },
    {
      "cell_type": "code",
      "source": [
        "from google.colab import drive\n",
        "drive.mount('/content/drive')"
      ],
      "metadata": {
        "colab": {
          "base_uri": "https://localhost:8080/"
        },
        "id": "h5WY6D3yeEmO",
        "outputId": "52c2da98-3a82-4b03-b1bd-c17f4fab0afd"
      },
      "execution_count": null,
      "outputs": [
        {
          "output_type": "stream",
          "name": "stdout",
          "text": [
            "Mounted at /content/drive\n"
          ]
        }
      ]
    },
    {
      "cell_type": "code",
      "source": [
        "from google.colab import auth\n",
        "auth.authenticate_user()\n",
        "\n",
        "import gspread\n",
        "from google.auth import default\n",
        "creds, _ = default()\n",
        "\n",
        "gc = gspread.authorize(creds)"
      ],
      "metadata": {
        "id": "PmELpdTAeE2b"
      },
      "execution_count": null,
      "outputs": []
    },
    {
      "cell_type": "code",
      "source": [
        "!pip install clean-text"
      ],
      "metadata": {
        "id": "f5QwRApXCH5G",
        "colab": {
          "base_uri": "https://localhost:8080/"
        },
        "outputId": "6bbb2893-28a8-4838-93e2-9b81e7c5ea8b"
      },
      "execution_count": null,
      "outputs": [
        {
          "output_type": "stream",
          "name": "stdout",
          "text": [
            "Looking in indexes: https://pypi.org/simple, https://us-python.pkg.dev/colab-wheels/public/simple/\n",
            "Collecting clean-text\n",
            "  Downloading clean_text-0.6.0-py3-none-any.whl (11 kB)\n",
            "Collecting emoji<2.0.0,>=1.0.0\n",
            "  Downloading emoji-1.7.0.tar.gz (175 kB)\n",
            "\u001b[K     |████████████████████████████████| 175 kB 5.0 MB/s \n",
            "\u001b[?25hCollecting ftfy<7.0,>=6.0\n",
            "  Downloading ftfy-6.1.1-py3-none-any.whl (53 kB)\n",
            "\u001b[K     |████████████████████████████████| 53 kB 2.1 MB/s \n",
            "\u001b[?25hRequirement already satisfied: wcwidth>=0.2.5 in /usr/local/lib/python3.7/dist-packages (from ftfy<7.0,>=6.0->clean-text) (0.2.5)\n",
            "Building wheels for collected packages: emoji\n",
            "  Building wheel for emoji (setup.py) ... \u001b[?25l\u001b[?25hdone\n",
            "  Created wheel for emoji: filename=emoji-1.7.0-py3-none-any.whl size=171046 sha256=88c5f90fa17ef5377a1b1b33477f141d48276429f858a74c92df07eba43c657e\n",
            "  Stored in directory: /root/.cache/pip/wheels/8a/4e/b6/57b01db010d17ef6ea9b40300af725ef3e210cb1acfb7ac8b6\n",
            "Successfully built emoji\n",
            "Installing collected packages: ftfy, emoji, clean-text\n",
            "Successfully installed clean-text-0.6.0 emoji-1.7.0 ftfy-6.1.1\n"
          ]
        }
      ]
    },
    {
      "cell_type": "code",
      "source": [
        "!cp drive/MyDrive/data.py 'data.py'\n",
        "!cp drive/MyDrive/models.py 'models.py'"
      ],
      "metadata": {
        "id": "_qZZTJtcQfia"
      },
      "execution_count": null,
      "outputs": []
    },
    {
      "cell_type": "code",
      "source": [
        "import data, models\n",
        "import pandas as pd\n",
        "import numpy as np\n",
        "from sklearn.naive_bayes import GaussianNB\n",
        "from sklearn import svm\n",
        "from sklearn.svm import SVC\n",
        "from sklearn.ensemble import RandomForestClassifier\n",
        "from sklearn.linear_model import LogisticRegression\n",
        "from sklearn.neighbors import KNeighborsClassifier\n",
        "import importlib\n",
        "\n",
        "importlib.reload(data)\n",
        "importlib.reload(models)\n",
        "\n",
        "# data\n",
        "kaggle_x_train, kaggle_y_train, kaggle_x_test, kaggle_y_test = data.youtube_comments()\n",
        "# scraper_x_train, scraper_y_train, scraper_x_test, scraper_y_test = data.my_youtube_comments()\n",
        "\n",
        "# take kaggle dataset as train data and scraper dataset as test data\n",
        "# kaggle_x_train, kaggle_y_train = np.concatenate((kaggle_x_train, kaggle_x_test)), np.concatenate((kaggle_y_train, kaggle_y_test))\n",
        "# kaggle_x_test, kaggle_y_test = np.concatenate((scraper_x_train, scraper_x_test)), np.concatenate((scraper_y_train, scraper_y_test))\n",
        "\n",
        "# models\n",
        "models_scores = []\n",
        "model = GaussianNB()\n",
        "models_scores.append(models.evaluate_model(kaggle_x_train, kaggle_y_train, kaggle_x_test, kaggle_y_test, model))\n",
        "model = KNeighborsClassifier(n_neighbors=5)\n",
        "models_scores.append(models.evaluate_model(kaggle_x_train, kaggle_y_train, kaggle_x_test, kaggle_y_test, model))\n",
        "model = RandomForestClassifier(max_depth=2)\n",
        "models_scores.append(models.evaluate_model(kaggle_x_train, kaggle_y_train, kaggle_x_test, kaggle_y_test, model))\n",
        "model = SVC(kernel = 'rbf', random_state = 0)\n",
        "models_scores.append(models.evaluate_model(kaggle_x_train, kaggle_y_train, kaggle_x_test, kaggle_y_test, model))\n",
        "models_scores.append(models.cnn(kaggle_x_train, kaggle_y_train, kaggle_x_test, kaggle_y_test))\n",
        "model = LogisticRegression(max_iter=131, verbose=2, random_state=42)\n",
        "models_scores.append(models.evaluate_model(kaggle_x_train, kaggle_y_train, kaggle_x_test, kaggle_y_test, model))\n",
        "\n",
        "# models_scores[0] = models.nb(kaggle_x_train, kaggle_y_train, kaggle_x_test, kaggle_y_test, 0)\n",
        "# models_scores[1] = models.nb(kaggle_x_train, kaggle_y_train, kaggle_x_test, kaggle_y_test, 1)\n",
        "# models_scores[2] = models.nb(kaggle_x_train, kaggle_y_train, kaggle_x_test, kaggle_y_test, 2)\n",
        "\n",
        "# comparison\n",
        "# specificity, sensitivity\n",
        "models = ['nb', 'knn', 'rf', 'svm', 'cnn', 'lr']\n",
        "scores = ['accuracy', 'f1', 'precision', 'recall']\n",
        "pd.DataFrame(models_scores, models, scores)"
      ],
      "metadata": {
        "id": "CHs2oJgqXIUe",
        "colab": {
          "base_uri": "https://localhost:8080/",
          "height": 969
        },
        "outputId": "a667b5b2-bbd7-46c8-d72f-5096187b93a9"
      },
      "execution_count": null,
      "outputs": [
        {
          "output_type": "stream",
          "name": "stdout",
          "text": [
            "Drive already mounted at /content/drive; to attempt to forcibly remount, call drive.mount(\"/content/drive\", force_remount=True).\n",
            "[nltk_data] Downloading package wordnet to /root/nltk_data...\n",
            "[nltk_data]   Package wordnet is already up-to-date!\n"
          ]
        },
        {
          "output_type": "stream",
          "name": "stderr",
          "text": [
            "/usr/local/lib/python3.7/dist-packages/sklearn/metrics/_classification.py:1318: UndefinedMetricWarning: Precision is ill-defined and being set to 0.0 due to no predicted samples. Use `zero_division` parameter to control this behavior.\n",
            "  _warn_prf(average, modifier, msg_start, len(result))\n"
          ]
        },
        {
          "output_type": "stream",
          "name": "stdout",
          "text": [
            "19/19 [==============================] - 0s 9ms/step\n"
          ]
        },
        {
          "output_type": "stream",
          "name": "stderr",
          "text": [
            "[Parallel(n_jobs=1)]: Using backend SequentialBackend with 1 concurrent workers.\n",
            "[Parallel(n_jobs=1)]: Done   1 out of   1 | elapsed:    0.0s remaining:    0.0s\n",
            "[Parallel(n_jobs=1)]: Done   1 out of   1 | elapsed:    0.0s finished\n",
            "[Parallel(n_jobs=1)]: Using backend SequentialBackend with 1 concurrent workers.\n",
            "[Parallel(n_jobs=1)]: Done   1 out of   1 | elapsed:    0.0s remaining:    0.0s\n",
            "[Parallel(n_jobs=1)]: Done   1 out of   1 | elapsed:    0.0s finished\n",
            "[Parallel(n_jobs=1)]: Using backend SequentialBackend with 1 concurrent workers.\n",
            "[Parallel(n_jobs=1)]: Done   1 out of   1 | elapsed:    0.0s remaining:    0.0s\n",
            "[Parallel(n_jobs=1)]: Done   1 out of   1 | elapsed:    0.0s finished\n",
            "[Parallel(n_jobs=1)]: Using backend SequentialBackend with 1 concurrent workers.\n",
            "[Parallel(n_jobs=1)]: Done   1 out of   1 | elapsed:    0.0s remaining:    0.0s\n",
            "[Parallel(n_jobs=1)]: Done   1 out of   1 | elapsed:    0.0s finished\n",
            "[Parallel(n_jobs=1)]: Using backend SequentialBackend with 1 concurrent workers.\n",
            "[Parallel(n_jobs=1)]: Done   1 out of   1 | elapsed:    0.0s remaining:    0.0s\n",
            "[Parallel(n_jobs=1)]: Done   1 out of   1 | elapsed:    0.0s finished\n",
            "[Parallel(n_jobs=1)]: Using backend SequentialBackend with 1 concurrent workers.\n",
            "[Parallel(n_jobs=1)]: Done   1 out of   1 | elapsed:    0.0s remaining:    0.0s\n",
            "[Parallel(n_jobs=1)]: Done   1 out of   1 | elapsed:    0.0s finished\n",
            "[Parallel(n_jobs=1)]: Using backend SequentialBackend with 1 concurrent workers.\n",
            "[Parallel(n_jobs=1)]: Done   1 out of   1 | elapsed:    0.0s remaining:    0.0s\n",
            "[Parallel(n_jobs=1)]: Done   1 out of   1 | elapsed:    0.0s finished\n",
            "[Parallel(n_jobs=1)]: Using backend SequentialBackend with 1 concurrent workers.\n",
            "[Parallel(n_jobs=1)]: Done   1 out of   1 | elapsed:    0.0s remaining:    0.0s\n",
            "[Parallel(n_jobs=1)]: Done   1 out of   1 | elapsed:    0.0s finished\n",
            "[Parallel(n_jobs=1)]: Using backend SequentialBackend with 1 concurrent workers.\n",
            "[Parallel(n_jobs=1)]: Done   1 out of   1 | elapsed:    0.0s remaining:    0.0s\n",
            "[Parallel(n_jobs=1)]: Done   1 out of   1 | elapsed:    0.0s finished\n",
            "[Parallel(n_jobs=1)]: Using backend SequentialBackend with 1 concurrent workers.\n",
            "[Parallel(n_jobs=1)]: Done   1 out of   1 | elapsed:    0.0s remaining:    0.0s\n",
            "[Parallel(n_jobs=1)]: Done   1 out of   1 | elapsed:    0.0s finished\n",
            "[Parallel(n_jobs=1)]: Using backend SequentialBackend with 1 concurrent workers.\n",
            "[Parallel(n_jobs=1)]: Done   1 out of   1 | elapsed:    0.0s remaining:    0.0s\n",
            "[Parallel(n_jobs=1)]: Done   1 out of   1 | elapsed:    0.0s finished\n"
          ]
        },
        {
          "output_type": "execute_result",
          "data": {
            "text/plain": [
              "     accuracy   f1  precision  recall\n",
              "nb       1.00  1.0        1.0     1.0\n",
              "knn      1.00  1.0        1.0     1.0\n",
              "rf       0.95  0.0        0.0     0.0\n",
              "svm      1.00  1.0        1.0     1.0\n",
              "cnn      1.00  1.0        1.0     1.0\n",
              "lr       1.00  1.0        1.0     1.0"
            ],
            "text/html": [
              "\n",
              "  <div id=\"df-0ea1b40e-3f14-43c7-978c-f208f46178b4\">\n",
              "    <div class=\"colab-df-container\">\n",
              "      <div>\n",
              "<style scoped>\n",
              "    .dataframe tbody tr th:only-of-type {\n",
              "        vertical-align: middle;\n",
              "    }\n",
              "\n",
              "    .dataframe tbody tr th {\n",
              "        vertical-align: top;\n",
              "    }\n",
              "\n",
              "    .dataframe thead th {\n",
              "        text-align: right;\n",
              "    }\n",
              "</style>\n",
              "<table border=\"1\" class=\"dataframe\">\n",
              "  <thead>\n",
              "    <tr style=\"text-align: right;\">\n",
              "      <th></th>\n",
              "      <th>accuracy</th>\n",
              "      <th>f1</th>\n",
              "      <th>precision</th>\n",
              "      <th>recall</th>\n",
              "    </tr>\n",
              "  </thead>\n",
              "  <tbody>\n",
              "    <tr>\n",
              "      <th>nb</th>\n",
              "      <td>1.00</td>\n",
              "      <td>1.0</td>\n",
              "      <td>1.0</td>\n",
              "      <td>1.0</td>\n",
              "    </tr>\n",
              "    <tr>\n",
              "      <th>knn</th>\n",
              "      <td>1.00</td>\n",
              "      <td>1.0</td>\n",
              "      <td>1.0</td>\n",
              "      <td>1.0</td>\n",
              "    </tr>\n",
              "    <tr>\n",
              "      <th>rf</th>\n",
              "      <td>0.95</td>\n",
              "      <td>0.0</td>\n",
              "      <td>0.0</td>\n",
              "      <td>0.0</td>\n",
              "    </tr>\n",
              "    <tr>\n",
              "      <th>svm</th>\n",
              "      <td>1.00</td>\n",
              "      <td>1.0</td>\n",
              "      <td>1.0</td>\n",
              "      <td>1.0</td>\n",
              "    </tr>\n",
              "    <tr>\n",
              "      <th>cnn</th>\n",
              "      <td>1.00</td>\n",
              "      <td>1.0</td>\n",
              "      <td>1.0</td>\n",
              "      <td>1.0</td>\n",
              "    </tr>\n",
              "    <tr>\n",
              "      <th>lr</th>\n",
              "      <td>1.00</td>\n",
              "      <td>1.0</td>\n",
              "      <td>1.0</td>\n",
              "      <td>1.0</td>\n",
              "    </tr>\n",
              "  </tbody>\n",
              "</table>\n",
              "</div>\n",
              "      <button class=\"colab-df-convert\" onclick=\"convertToInteractive('df-0ea1b40e-3f14-43c7-978c-f208f46178b4')\"\n",
              "              title=\"Convert this dataframe to an interactive table.\"\n",
              "              style=\"display:none;\">\n",
              "        \n",
              "  <svg xmlns=\"http://www.w3.org/2000/svg\" height=\"24px\"viewBox=\"0 0 24 24\"\n",
              "       width=\"24px\">\n",
              "    <path d=\"M0 0h24v24H0V0z\" fill=\"none\"/>\n",
              "    <path d=\"M18.56 5.44l.94 2.06.94-2.06 2.06-.94-2.06-.94-.94-2.06-.94 2.06-2.06.94zm-11 1L8.5 8.5l.94-2.06 2.06-.94-2.06-.94L8.5 2.5l-.94 2.06-2.06.94zm10 10l.94 2.06.94-2.06 2.06-.94-2.06-.94-.94-2.06-.94 2.06-2.06.94z\"/><path d=\"M17.41 7.96l-1.37-1.37c-.4-.4-.92-.59-1.43-.59-.52 0-1.04.2-1.43.59L10.3 9.45l-7.72 7.72c-.78.78-.78 2.05 0 2.83L4 21.41c.39.39.9.59 1.41.59.51 0 1.02-.2 1.41-.59l7.78-7.78 2.81-2.81c.8-.78.8-2.07 0-2.86zM5.41 20L4 18.59l7.72-7.72 1.47 1.35L5.41 20z\"/>\n",
              "  </svg>\n",
              "      </button>\n",
              "      \n",
              "  <style>\n",
              "    .colab-df-container {\n",
              "      display:flex;\n",
              "      flex-wrap:wrap;\n",
              "      gap: 12px;\n",
              "    }\n",
              "\n",
              "    .colab-df-convert {\n",
              "      background-color: #E8F0FE;\n",
              "      border: none;\n",
              "      border-radius: 50%;\n",
              "      cursor: pointer;\n",
              "      display: none;\n",
              "      fill: #1967D2;\n",
              "      height: 32px;\n",
              "      padding: 0 0 0 0;\n",
              "      width: 32px;\n",
              "    }\n",
              "\n",
              "    .colab-df-convert:hover {\n",
              "      background-color: #E2EBFA;\n",
              "      box-shadow: 0px 1px 2px rgba(60, 64, 67, 0.3), 0px 1px 3px 1px rgba(60, 64, 67, 0.15);\n",
              "      fill: #174EA6;\n",
              "    }\n",
              "\n",
              "    [theme=dark] .colab-df-convert {\n",
              "      background-color: #3B4455;\n",
              "      fill: #D2E3FC;\n",
              "    }\n",
              "\n",
              "    [theme=dark] .colab-df-convert:hover {\n",
              "      background-color: #434B5C;\n",
              "      box-shadow: 0px 1px 3px 1px rgba(0, 0, 0, 0.15);\n",
              "      filter: drop-shadow(0px 1px 2px rgba(0, 0, 0, 0.3));\n",
              "      fill: #FFFFFF;\n",
              "    }\n",
              "  </style>\n",
              "\n",
              "      <script>\n",
              "        const buttonEl =\n",
              "          document.querySelector('#df-0ea1b40e-3f14-43c7-978c-f208f46178b4 button.colab-df-convert');\n",
              "        buttonEl.style.display =\n",
              "          google.colab.kernel.accessAllowed ? 'block' : 'none';\n",
              "\n",
              "        async function convertToInteractive(key) {\n",
              "          const element = document.querySelector('#df-0ea1b40e-3f14-43c7-978c-f208f46178b4');\n",
              "          const dataTable =\n",
              "            await google.colab.kernel.invokeFunction('convertToInteractive',\n",
              "                                                     [key], {});\n",
              "          if (!dataTable) return;\n",
              "\n",
              "          const docLinkHtml = 'Like what you see? Visit the ' +\n",
              "            '<a target=\"_blank\" href=https://colab.research.google.com/notebooks/data_table.ipynb>data table notebook</a>'\n",
              "            + ' to learn more about interactive tables.';\n",
              "          element.innerHTML = '';\n",
              "          dataTable['output_type'] = 'display_data';\n",
              "          await google.colab.output.renderOutput(dataTable, element);\n",
              "          const docLink = document.createElement('div');\n",
              "          docLink.innerHTML = docLinkHtml;\n",
              "          element.appendChild(docLink);\n",
              "        }\n",
              "      </script>\n",
              "    </div>\n",
              "  </div>\n",
              "  "
            ]
          },
          "metadata": {},
          "execution_count": 30
        }
      ]
    },
    {
      "cell_type": "code",
      "source": [
        "import data, models\n",
        "import pandas as pd\n",
        "import numpy as np\n",
        "from sklearn.naive_bayes import GaussianNB\n",
        "from sklearn import svm\n",
        "from sklearn.svm import SVC\n",
        "from sklearn.ensemble import RandomForestClassifier\n",
        "from sklearn.linear_model import LogisticRegression\n",
        "from sklearn.neighbors import KNeighborsClassifier\n",
        "import importlib\n",
        "\n",
        "importlib.reload(data)\n",
        "importlib.reload(models)\n",
        "\n",
        "# data\n",
        "kaggle_x_train, kaggle_y_train, kaggle_x_test, kaggle_y_test = data.youtube_comments()\n",
        "\n",
        "models_scores = []\n",
        "models_scores.append(models.nb(kaggle_x_train, kaggle_y_train, kaggle_x_test, kaggle_y_test, 0))\n",
        "models_scores.append(models.nb(kaggle_x_train, kaggle_y_train, kaggle_x_test, kaggle_y_test, 1))\n",
        "models_scores.append(models.nb(kaggle_x_train, kaggle_y_train, kaggle_x_test, kaggle_y_test, 2))\n",
        "\n",
        "# comparison\n",
        "models = ['nb count', 'nb tfidf', 'nb hash']\n",
        "scores = ['accuracy', 'f1', 'precision', 'recall']\n",
        "pd.DataFrame(models_scores, models, scores)"
      ],
      "metadata": {
        "colab": {
          "base_uri": "https://localhost:8080/",
          "height": 255
        },
        "id": "EXWAZzuZDyc1",
        "outputId": "809597b9-29cc-4577-e9bd-3bb1bdc074e2"
      },
      "execution_count": null,
      "outputs": [
        {
          "output_type": "stream",
          "name": "stdout",
          "text": [
            "Drive already mounted at /content/drive; to attempt to forcibly remount, call drive.mount(\"/content/drive\", force_remount=True).\n",
            "[nltk_data] Downloading package wordnet to /root/nltk_data...\n",
            "[nltk_data]   Package wordnet is already up-to-date!\n",
            "ham: 713 238\n",
            "spam: 753 252\n"
          ]
        },
        {
          "output_type": "execute_result",
          "data": {
            "text/plain": [
              "          accuracy        f1  precision    recall\n",
              "nb count  0.746939  0.719457   0.836842  0.630952\n",
              "nb tfidf  0.736735  0.715232   0.805970  0.642857\n",
              "nb hash   0.671429  0.686160   0.674330  0.698413"
            ],
            "text/html": [
              "\n",
              "  <div id=\"df-8e8a34a8-3806-46bc-9484-12dae8beeb2c\">\n",
              "    <div class=\"colab-df-container\">\n",
              "      <div>\n",
              "<style scoped>\n",
              "    .dataframe tbody tr th:only-of-type {\n",
              "        vertical-align: middle;\n",
              "    }\n",
              "\n",
              "    .dataframe tbody tr th {\n",
              "        vertical-align: top;\n",
              "    }\n",
              "\n",
              "    .dataframe thead th {\n",
              "        text-align: right;\n",
              "    }\n",
              "</style>\n",
              "<table border=\"1\" class=\"dataframe\">\n",
              "  <thead>\n",
              "    <tr style=\"text-align: right;\">\n",
              "      <th></th>\n",
              "      <th>accuracy</th>\n",
              "      <th>f1</th>\n",
              "      <th>precision</th>\n",
              "      <th>recall</th>\n",
              "    </tr>\n",
              "  </thead>\n",
              "  <tbody>\n",
              "    <tr>\n",
              "      <th>nb count</th>\n",
              "      <td>0.746939</td>\n",
              "      <td>0.719457</td>\n",
              "      <td>0.836842</td>\n",
              "      <td>0.630952</td>\n",
              "    </tr>\n",
              "    <tr>\n",
              "      <th>nb tfidf</th>\n",
              "      <td>0.736735</td>\n",
              "      <td>0.715232</td>\n",
              "      <td>0.805970</td>\n",
              "      <td>0.642857</td>\n",
              "    </tr>\n",
              "    <tr>\n",
              "      <th>nb hash</th>\n",
              "      <td>0.671429</td>\n",
              "      <td>0.686160</td>\n",
              "      <td>0.674330</td>\n",
              "      <td>0.698413</td>\n",
              "    </tr>\n",
              "  </tbody>\n",
              "</table>\n",
              "</div>\n",
              "      <button class=\"colab-df-convert\" onclick=\"convertToInteractive('df-8e8a34a8-3806-46bc-9484-12dae8beeb2c')\"\n",
              "              title=\"Convert this dataframe to an interactive table.\"\n",
              "              style=\"display:none;\">\n",
              "        \n",
              "  <svg xmlns=\"http://www.w3.org/2000/svg\" height=\"24px\"viewBox=\"0 0 24 24\"\n",
              "       width=\"24px\">\n",
              "    <path d=\"M0 0h24v24H0V0z\" fill=\"none\"/>\n",
              "    <path d=\"M18.56 5.44l.94 2.06.94-2.06 2.06-.94-2.06-.94-.94-2.06-.94 2.06-2.06.94zm-11 1L8.5 8.5l.94-2.06 2.06-.94-2.06-.94L8.5 2.5l-.94 2.06-2.06.94zm10 10l.94 2.06.94-2.06 2.06-.94-2.06-.94-.94-2.06-.94 2.06-2.06.94z\"/><path d=\"M17.41 7.96l-1.37-1.37c-.4-.4-.92-.59-1.43-.59-.52 0-1.04.2-1.43.59L10.3 9.45l-7.72 7.72c-.78.78-.78 2.05 0 2.83L4 21.41c.39.39.9.59 1.41.59.51 0 1.02-.2 1.41-.59l7.78-7.78 2.81-2.81c.8-.78.8-2.07 0-2.86zM5.41 20L4 18.59l7.72-7.72 1.47 1.35L5.41 20z\"/>\n",
              "  </svg>\n",
              "      </button>\n",
              "      \n",
              "  <style>\n",
              "    .colab-df-container {\n",
              "      display:flex;\n",
              "      flex-wrap:wrap;\n",
              "      gap: 12px;\n",
              "    }\n",
              "\n",
              "    .colab-df-convert {\n",
              "      background-color: #E8F0FE;\n",
              "      border: none;\n",
              "      border-radius: 50%;\n",
              "      cursor: pointer;\n",
              "      display: none;\n",
              "      fill: #1967D2;\n",
              "      height: 32px;\n",
              "      padding: 0 0 0 0;\n",
              "      width: 32px;\n",
              "    }\n",
              "\n",
              "    .colab-df-convert:hover {\n",
              "      background-color: #E2EBFA;\n",
              "      box-shadow: 0px 1px 2px rgba(60, 64, 67, 0.3), 0px 1px 3px 1px rgba(60, 64, 67, 0.15);\n",
              "      fill: #174EA6;\n",
              "    }\n",
              "\n",
              "    [theme=dark] .colab-df-convert {\n",
              "      background-color: #3B4455;\n",
              "      fill: #D2E3FC;\n",
              "    }\n",
              "\n",
              "    [theme=dark] .colab-df-convert:hover {\n",
              "      background-color: #434B5C;\n",
              "      box-shadow: 0px 1px 3px 1px rgba(0, 0, 0, 0.15);\n",
              "      filter: drop-shadow(0px 1px 2px rgba(0, 0, 0, 0.3));\n",
              "      fill: #FFFFFF;\n",
              "    }\n",
              "  </style>\n",
              "\n",
              "      <script>\n",
              "        const buttonEl =\n",
              "          document.querySelector('#df-8e8a34a8-3806-46bc-9484-12dae8beeb2c button.colab-df-convert');\n",
              "        buttonEl.style.display =\n",
              "          google.colab.kernel.accessAllowed ? 'block' : 'none';\n",
              "\n",
              "        async function convertToInteractive(key) {\n",
              "          const element = document.querySelector('#df-8e8a34a8-3806-46bc-9484-12dae8beeb2c');\n",
              "          const dataTable =\n",
              "            await google.colab.kernel.invokeFunction('convertToInteractive',\n",
              "                                                     [key], {});\n",
              "          if (!dataTable) return;\n",
              "\n",
              "          const docLinkHtml = 'Like what you see? Visit the ' +\n",
              "            '<a target=\"_blank\" href=https://colab.research.google.com/notebooks/data_table.ipynb>data table notebook</a>'\n",
              "            + ' to learn more about interactive tables.';\n",
              "          element.innerHTML = '';\n",
              "          dataTable['output_type'] = 'display_data';\n",
              "          await google.colab.output.renderOutput(dataTable, element);\n",
              "          const docLink = document.createElement('div');\n",
              "          docLink.innerHTML = docLinkHtml;\n",
              "          element.appendChild(docLink);\n",
              "        }\n",
              "      </script>\n",
              "    </div>\n",
              "  </div>\n",
              "  "
            ]
          },
          "metadata": {},
          "execution_count": 11
        }
      ]
    },
    {
      "cell_type": "code",
      "source": [
        "len(kaggle_x_train), len(kaggle_x_test)"
      ],
      "metadata": {
        "colab": {
          "base_uri": "https://localhost:8080/"
        },
        "id": "Ce-sYwdNIaJa",
        "outputId": "f9b3f530-6970-44a4-fe6a-5891260275e7"
      },
      "execution_count": null,
      "outputs": [
        {
          "output_type": "execute_result",
          "data": {
            "text/plain": [
              "(1190, 398)"
            ]
          },
          "metadata": {},
          "execution_count": 27
        }
      ]
    },
    {
      "cell_type": "code",
      "source": [
        "df = pd.DataFrame(models_scores, models, scores)\n",
        "df.sort_values(by=['accuracy'])"
      ],
      "metadata": {
        "id": "r5aM6wBmEB4P",
        "colab": {
          "base_uri": "https://localhost:8080/",
          "height": 237
        },
        "outputId": "dd5f953c-fa24-4115-c287-5b4a2bb844dd"
      },
      "execution_count": null,
      "outputs": [
        {
          "output_type": "execute_result",
          "data": {
            "text/plain": [
              "     accuracy        f1  precision    recall\n",
              "nb   0.248744  0.227390   0.128655  0.977778\n",
              "rf   0.886935  0.000000   0.000000  0.000000\n",
              "lr   0.964824  0.820513   0.969697  0.711111\n",
              "knn  0.987437  0.942529   0.976190  0.911111\n",
              "svm  0.987437  0.943820   0.954545  0.933333\n",
              "cnn  0.994975  0.977778   0.977778  0.977778"
            ],
            "text/html": [
              "\n",
              "  <div id=\"df-345339a8-95bf-491c-874a-cc8c25b08876\">\n",
              "    <div class=\"colab-df-container\">\n",
              "      <div>\n",
              "<style scoped>\n",
              "    .dataframe tbody tr th:only-of-type {\n",
              "        vertical-align: middle;\n",
              "    }\n",
              "\n",
              "    .dataframe tbody tr th {\n",
              "        vertical-align: top;\n",
              "    }\n",
              "\n",
              "    .dataframe thead th {\n",
              "        text-align: right;\n",
              "    }\n",
              "</style>\n",
              "<table border=\"1\" class=\"dataframe\">\n",
              "  <thead>\n",
              "    <tr style=\"text-align: right;\">\n",
              "      <th></th>\n",
              "      <th>accuracy</th>\n",
              "      <th>f1</th>\n",
              "      <th>precision</th>\n",
              "      <th>recall</th>\n",
              "    </tr>\n",
              "  </thead>\n",
              "  <tbody>\n",
              "    <tr>\n",
              "      <th>nb</th>\n",
              "      <td>0.248744</td>\n",
              "      <td>0.227390</td>\n",
              "      <td>0.128655</td>\n",
              "      <td>0.977778</td>\n",
              "    </tr>\n",
              "    <tr>\n",
              "      <th>rf</th>\n",
              "      <td>0.886935</td>\n",
              "      <td>0.000000</td>\n",
              "      <td>0.000000</td>\n",
              "      <td>0.000000</td>\n",
              "    </tr>\n",
              "    <tr>\n",
              "      <th>lr</th>\n",
              "      <td>0.964824</td>\n",
              "      <td>0.820513</td>\n",
              "      <td>0.969697</td>\n",
              "      <td>0.711111</td>\n",
              "    </tr>\n",
              "    <tr>\n",
              "      <th>knn</th>\n",
              "      <td>0.987437</td>\n",
              "      <td>0.942529</td>\n",
              "      <td>0.976190</td>\n",
              "      <td>0.911111</td>\n",
              "    </tr>\n",
              "    <tr>\n",
              "      <th>svm</th>\n",
              "      <td>0.987437</td>\n",
              "      <td>0.943820</td>\n",
              "      <td>0.954545</td>\n",
              "      <td>0.933333</td>\n",
              "    </tr>\n",
              "    <tr>\n",
              "      <th>cnn</th>\n",
              "      <td>0.994975</td>\n",
              "      <td>0.977778</td>\n",
              "      <td>0.977778</td>\n",
              "      <td>0.977778</td>\n",
              "    </tr>\n",
              "  </tbody>\n",
              "</table>\n",
              "</div>\n",
              "      <button class=\"colab-df-convert\" onclick=\"convertToInteractive('df-345339a8-95bf-491c-874a-cc8c25b08876')\"\n",
              "              title=\"Convert this dataframe to an interactive table.\"\n",
              "              style=\"display:none;\">\n",
              "        \n",
              "  <svg xmlns=\"http://www.w3.org/2000/svg\" height=\"24px\"viewBox=\"0 0 24 24\"\n",
              "       width=\"24px\">\n",
              "    <path d=\"M0 0h24v24H0V0z\" fill=\"none\"/>\n",
              "    <path d=\"M18.56 5.44l.94 2.06.94-2.06 2.06-.94-2.06-.94-.94-2.06-.94 2.06-2.06.94zm-11 1L8.5 8.5l.94-2.06 2.06-.94-2.06-.94L8.5 2.5l-.94 2.06-2.06.94zm10 10l.94 2.06.94-2.06 2.06-.94-2.06-.94-.94-2.06-.94 2.06-2.06.94z\"/><path d=\"M17.41 7.96l-1.37-1.37c-.4-.4-.92-.59-1.43-.59-.52 0-1.04.2-1.43.59L10.3 9.45l-7.72 7.72c-.78.78-.78 2.05 0 2.83L4 21.41c.39.39.9.59 1.41.59.51 0 1.02-.2 1.41-.59l7.78-7.78 2.81-2.81c.8-.78.8-2.07 0-2.86zM5.41 20L4 18.59l7.72-7.72 1.47 1.35L5.41 20z\"/>\n",
              "  </svg>\n",
              "      </button>\n",
              "      \n",
              "  <style>\n",
              "    .colab-df-container {\n",
              "      display:flex;\n",
              "      flex-wrap:wrap;\n",
              "      gap: 12px;\n",
              "    }\n",
              "\n",
              "    .colab-df-convert {\n",
              "      background-color: #E8F0FE;\n",
              "      border: none;\n",
              "      border-radius: 50%;\n",
              "      cursor: pointer;\n",
              "      display: none;\n",
              "      fill: #1967D2;\n",
              "      height: 32px;\n",
              "      padding: 0 0 0 0;\n",
              "      width: 32px;\n",
              "    }\n",
              "\n",
              "    .colab-df-convert:hover {\n",
              "      background-color: #E2EBFA;\n",
              "      box-shadow: 0px 1px 2px rgba(60, 64, 67, 0.3), 0px 1px 3px 1px rgba(60, 64, 67, 0.15);\n",
              "      fill: #174EA6;\n",
              "    }\n",
              "\n",
              "    [theme=dark] .colab-df-convert {\n",
              "      background-color: #3B4455;\n",
              "      fill: #D2E3FC;\n",
              "    }\n",
              "\n",
              "    [theme=dark] .colab-df-convert:hover {\n",
              "      background-color: #434B5C;\n",
              "      box-shadow: 0px 1px 3px 1px rgba(0, 0, 0, 0.15);\n",
              "      filter: drop-shadow(0px 1px 2px rgba(0, 0, 0, 0.3));\n",
              "      fill: #FFFFFF;\n",
              "    }\n",
              "  </style>\n",
              "\n",
              "      <script>\n",
              "        const buttonEl =\n",
              "          document.querySelector('#df-345339a8-95bf-491c-874a-cc8c25b08876 button.colab-df-convert');\n",
              "        buttonEl.style.display =\n",
              "          google.colab.kernel.accessAllowed ? 'block' : 'none';\n",
              "\n",
              "        async function convertToInteractive(key) {\n",
              "          const element = document.querySelector('#df-345339a8-95bf-491c-874a-cc8c25b08876');\n",
              "          const dataTable =\n",
              "            await google.colab.kernel.invokeFunction('convertToInteractive',\n",
              "                                                     [key], {});\n",
              "          if (!dataTable) return;\n",
              "\n",
              "          const docLinkHtml = 'Like what you see? Visit the ' +\n",
              "            '<a target=\"_blank\" href=https://colab.research.google.com/notebooks/data_table.ipynb>data table notebook</a>'\n",
              "            + ' to learn more about interactive tables.';\n",
              "          element.innerHTML = '';\n",
              "          dataTable['output_type'] = 'display_data';\n",
              "          await google.colab.output.renderOutput(dataTable, element);\n",
              "          const docLink = document.createElement('div');\n",
              "          docLink.innerHTML = docLinkHtml;\n",
              "          element.appendChild(docLink);\n",
              "        }\n",
              "      </script>\n",
              "    </div>\n",
              "  </div>\n",
              "  "
            ]
          },
          "metadata": {},
          "execution_count": 9
        }
      ]
    },
    {
      "cell_type": "code",
      "source": [
        "from sklearn.feature_extraction.text import CountVectorizer\n",
        "from sklearn.metrics import confusion_matrix\n",
        "import seaborn as sn\n",
        "import matplotlib.pyplot as plt\n",
        "\n",
        "cv = CountVectorizer() \n",
        "X_train = cv.fit_transform(kaggle_x_train)\n",
        "X_test = cv.transform(kaggle_x_test)\n",
        "\n",
        "lr = LogisticRegression(max_iter=131, verbose=2, random_state=42)\n",
        "lr.fit(X_train.toarray(), kaggle_y_train)\n",
        "y_predict = lr.predict(X_test.toarray())\n",
        "\n",
        "FP = [kaggle_x_test[i] for i, x in enumerate(kaggle_y_test) if x == 1 and y_predict[i] == 0]\n",
        "print(\"FP:\", FP)\n",
        "\n",
        "conf_mat = confusion_matrix(kaggle_y_test, y_predict)\n",
        "df_cm = pd.DataFrame(conf_mat, index = ['True','False'], columns = ['True','False'])\n",
        "sn.set(font_scale=1.4)\n",
        "sn.heatmap(df_cm, annot=True, fmt='g', annot_kws={\"size\": 16})\n",
        "plt.show()"
      ],
      "metadata": {
        "id": "rPzwF2SN3G-l",
        "colab": {
          "base_uri": "https://localhost:8080/",
          "height": 366
        },
        "outputId": "8816c62b-38c7-440d-c35e-8997c39c5df1"
      },
      "execution_count": null,
      "outputs": [
        {
          "output_type": "stream",
          "name": "stderr",
          "text": [
            "[Parallel(n_jobs=1)]: Using backend SequentialBackend with 1 concurrent workers.\n",
            "[Parallel(n_jobs=1)]: Done   1 out of   1 | elapsed:    0.7s remaining:    0.0s\n",
            "[Parallel(n_jobs=1)]: Done   1 out of   1 | elapsed:    0.7s finished\n"
          ]
        },
        {
          "output_type": "stream",
          "name": "stdout",
          "text": [
            "FP: [\"thanks commenting brcongratulations y' randomly selected dm meai claim prize y'\", \"y'congratulations yzsyou selected shortlisted winnersbrbrtelegram claim giveaway prizeyzysyz\", 'iicongratulations yz shortlisted winner claim pcy\"y\"', 'iicongratulations yz shortlisted winner claim pcy\"y\"', 'congratulation aiaiaibrclaim prizey\"iy\"ibrtelegram y\"y\"', \"thi~ksfii' iitchi~gbrwhitsipi12148149371y'lets talk bigger introduce\", \"y' congratulation won prize right away yzy'\", \"thi~ksfii' iitchi~gbrwhitsipi12148149371y'lets talk bigger introduce\", \"lol y' watsap y' br\", \"thi~ksfii' iitchi~gbrwhitsipi12148149371y'lets talk bigger introduce\", \"watsap y' br\", \"thanks commenting brcongratulations y' randomly selected dm meai claim prize y'\", 'iicongratulations yz shortlisted winner claim pcy\"y\"', \"y'congratulations yzsyou selected shortlisted winnersbrbrtelegram claim giveaway prizeyzys\", \"y'y'y'brthanks watching leaving commentbrtelegram claim prize yzyz\", \"y'congratulations yzsyou selected shortlisted winnersbrbrtelegram claim giveaway prizeyzys\", 'iicongratulations yz shortlisted winner claim pcy\"y\"', 'iicongratulations yz shortlisted winner claim pcy\"y\"', 'congratulation selected shortlisted winner yzyzsyzsyzs', \"thanks commenting brcongratulations y' randomly selected dm meai claim prize y'\", \"thi~ksfii' iitchi~gbrwhitsipi12148149371y'lets talk bigger introduce\", \"thanks commenting brcongratulations y' randomly selected dm meai claim prize y'\", \"thi~ksfii' iitchi~gbrwhitsipi12148149371y'lets talk bigger introduce\", \"thi~ksfii' iitchi~gbrwhitsipi12148149371y'lets talk bigger introduce\", \"thi~ksfii' iitchi~gbrwhitsipi12148149371y'lets talk bigger introduce\", 'congratulation aiaiaibrclaim prizey\"iy\"ibrtelegram y\"y\"', \"y' congratulation won prize right away yzy'\", \"y'congratulations yzsyou selected shortlisted winnersbrbrtelegram claim giveaway prizeyzysyz\", 'congratulation aiaiaibrclaim prizey\"iy\"ibrtelegram y\"y\"', \"y'y'y'brthanks watching leaving commentbrtelegram claim prize yzyz\", \"y'congratulations yzsyou selected shortlisted winnersbrbrtelegram claim giveaway prizeyzys\", 'iicongratulations yz shortlisted winner claim pcy\"y\"', 'alright congratulation selected shortlisted winner', 'congratulation aiaiaibrclaim prizey\"iy\"ibrtelegram y\"y\"', \"y' congratulation won prize right away yzy'\", \"thi~ksfii' iitchi~gbrwhitsipi12148149371y'lets talk bigger introduce\", \"thanks commenting brcongratulations y' randomly selected dm meai claim prize y'\", \"thanks commenting brcongratulations y' randomly selected dm meai claim prize y'\", \"y'congratulations yzsyou selected shortlisted winnersbrbrtelegram claim giveaway prizeyzys\", \"thanks commenting brcongratulations y' randomly selected dm meai claim prize y'\", \"y'congratulations yzsyou selected shortlisted winnersbrbrtelegram claim giveaway prizeyzys\", \"watsap y' br\", 'iicongratulations yz shortlisted winner claim pcy\"y\"', \"y'congratulations yzsyou selected shortlisted winnersbrbrtelegram claim giveaway prizeyzys\", \"y'congratulations yzsyou selected shortlisted winnersbrbrtelegram claim giveaway prizeyzys\", 'y\\'y\\'thanks watching congratulationsyzyz selected winnersbrbrtelegram clam prize yzyzyzy\"', 'alright congratulation selected shortlisted winner', \"y'congratulations yzsyou selected shortlisted winnersbrbrtelegram claim giveaway prizeyzys\", \"thi~ksfii' iitchi~gbrwhitsipi12148149371y'lets talk bigger introduce\", 'iicongratulations yz shortlisted winner claim pcy\"y\"', \"thi~ksfii' iitchi~gbrwhitsipi12148149371y'lets talk bigger introduce\", 'congratulation aiaiaibrclaim prizey\"iy\"ibrtelegram y\"y\"', 'iicongratulations yz shortlisted winner claim pcy\"y\"', \"thanks commenting brcongratulations y' randomly selected dm meai claim prize y'\", \"thi~ksfii' iitchi~gbrwhitsipi12148149371y'lets talk bigger introduce\", 'alright congratulation selected shortlisted winner', \"watsap y' br\", \"y'congratulations yzsyou selected shortlisted winnersbrbrtelegram claim giveaway prizeyzysyz\", \"y' congratulation won prize right away yzy'\", \"y' congratulation won prize right away yzy'\", 'alright congratulation selected shortlisted winner', 'iicongratulations yz shortlisted winner claim pcy\"y\"', \"thi~ksfii' iitchi~gbrwhitsipi12148149371y'lets talk bigger introduce\", \"thanks commenting brcongratulations y' randomly selected dm meai claim prize y'\", \"y'congratulations yzsyou selected shortlisted winnersbrbrtelegram claim giveaway prizeyzys\", 'iicongratulations yz shortlisted winner claim pcy\"y\"', 'alright congratulation selected shortlisted winner', \"thi~ksfii' iitchi~gbrwhitsipi12148149371y'lets talk bigger introduce\", 'iicongratulations yz shortlisted winner claim pcy\"y\"', \"thi~ksfii' iitchi~gbrwhitsipi12148149371y'lets talk bigger introduce\", \"thanks commenting brcongratulations y' randomly selected dm meai claim prize y'\", \"y' congratulation won prize right away yzy'\", 'iicongratulations yz shortlisted winner claim pcy\"y\"', \"thanks commenting brcongratulations y' randomly selected dm meai claim prize y'\", \"thanks commenting brcongratulations y' randomly selected dm meai claim prize y'\", \"y'congratulations yzsyou selected shortlisted winnersbrbrtelegram claim giveaway prizeyzysyz\", \"y'y'y'brthanks watching leaving commentbrtelegram claim prize yzyz\", \"thanks commenting brcongratulations y' randomly selected dm meai claim prize y'\", \"thi~ksfii' iitchi~gbrwhitsipi12148149371y'lets talk bigger introduce\", \"thanks commenting brcongratulations y' randomly selected dm meai claim prize y'\", \"thi~ksfii' iitchi~gbrwhitsipi12148149371y'lets talk bigger introduce\", \"y'congratulations yzsyou selected shortlisted winnersbrbrtelegram claim giveaway prizeyzys\", 'iicongratulations yz shortlisted winner claim pcy\"y\"', 'congratulation aiaiaibrclaim prizey\"iy\"ibrtelegram y\"y\"', 'iicongratulations yz shortlisted winner claim pcy\"y\"', \"y'congratulations yzsyou selected shortlisted winnersbrbrtelegram claim giveaway prizeyzysyz\", \"thi~ksfii' iitchi~gbrwhitsipi12148149371y'lets talk bigger introduce\", \"thanks commenting brcongratulations y' randomly selected dm meai claim prize y'\", \"y'congratulations yzsyou selected shortlisted winnersbrbrtelegram claim giveaway prizeyzys\", \"y'congratulations yzsyou selected shortlisted winnersbrbrtelegram claim giveaway prizeyzys\", \"y' congratulation won prize right away yzy'\", 'iicongratulations yz shortlisted winner claim pcy\"y\"', \"y' congratulation won prize right away yzy'\", \"y' congratulation won prize right away yzy'\", 'alright congratulation selected shortlisted winner', \"thanks commenting brcongratulations y' randomly selected dm meai claim prize y'\", \"y' congratulation won prize right away yzy'\", \"y'congratulations yzsyou selected shortlisted winnersbrbrtelegram claim giveaway prizeyzys\", 'iicongratulations yz shortlisted winner claim pcy\"y\"', \"y'congratulations yzsyou selected shortlisted winnersbrbrtelegram claim giveaway prizeyzys\", \"thanks commenting brcongratulations y' randomly selected dm meai claim prize y'\", \"thanks commenting brcongratulations y' randomly selected dm meai claim prize y'\", \"watsap y' br\", 'alright congratulation selected shortlisted winner', \"thi~ksfii' iitchi~gbrwhitsipi12148149371y'lets talk bigger introduce\", \"watsap y' br\", \"y' congratulation won prize right away yzy'\", \"y'y'y'brthanks watching leaving commentbrtelegram claim prize yzyz\", 'congratulation aiaiaibrclaim prizey\"iy\"ibrtelegram y\"y\"', \"y'congratulations yzsyou selected shortlisted winnersbrbrtelegram claim giveaway prizeyzys\", \"thanks commenting brcongratulations y' randomly selected dm meai claim prize y'\", \"y'congratulations yzsyou selected shortlisted winnersbrbrtelegram claim giveaway prizeyzys\", \"thi~ksfii' iitchi~gbrwhitsipi12148149371y'lets talk bigger introduce\", \"thi~ksfii' iitchi~gbrwhitsipi12148149371y'lets talk bigger introduce\", 'congratulation aiaiaibrclaim prizey\"iy\"ibrtelegram y\"y\"', \"y'congratulations yzsyou selected shortlisted winnersbrbrtelegram claim giveaway prizeyzysyz\", 'iicongratulations yz shortlisted winner claim pcy\"y\"', \"thi~ksfii' iitchi~gbrwhitsipi12148149371y'lets talk bigger introduce\", \"y'congratulations yzsyou selected shortlisted winnersbrbrtelegram claim giveaway prizeyzysyz\", \"thanks commenting brcongratulations y' randomly selected dm meai claim prize y'\", 'iicongratulations yz shortlisted winner claim pcy\"y\"', \"thanks commenting brcongratulations y' randomly selected dm meai claim prize y'\", \"watsap y' br\", 'congratulation aiaiaibrclaim prizey\"iy\"ibrtelegram y\"y\"', \"thanks commenting brcongratulations y' randomly selected dm meai claim prize y'\", \"thanks commenting brcongratulations y' randomly selected dm meai claim prize y'\", 'iicongratulations yz shortlisted winner claim pcy\"y\"', 'iicongratulations yz shortlisted winner claim pcy\"y\"', 'congratulation selected shortlisted winner yzyzsyzsyzs', \"watsap y' br\", 'congratulation aiaiaibrclaim prizey\"iy\"ibrtelegram y\"y\"', 'congratulation aiaiaibrclaim prizey\"iy\"ibrtelegram y\"y\"', \"thanks commenting brcongratulations y' randomly selected dm meai claim prize y'\", \"thi~ksfii' iitchi~gbrwhitsipi12148149371y'lets talk bigger introduce\", \"y'congratulations yzsyou selected shortlisted winnersbrbrtelegram claim giveaway prizeyzys\", 'let talk y congratulation yzyz', \"thanks commenting brcongratulations y' randomly selected dm meai claim prize y'\", 'iicongratulations yz shortlisted winner claim pcy\"y\"', \"y'congratulations yzsyou selected shortlisted winnersbrbrtelegram claim giveaway prizeyzys\", \"thanks commenting brcongratulations y' randomly selected dm meai claim prize y'\", \"thanks commenting brcongratulations y' randomly selected dm meai claim prize y'\", \"thi~ksfii' iitchi~gbrwhitsipi12148149371y'lets talk bigger introduce\", 'iicongratulations yz shortlisted winner claim pcy\"y\"', 'iicongratulations yz shortlisted winner claim pcy\"y\"', \"thi~ksfii' iitchi~gbrwhitsipi12148149371y'lets talk bigger introduce\", 'iicongratulations yz shortlisted winner claim pcy\"y\"', \"y' congratulation won prize right away yzy'\", 'iicongratulations yz shortlisted winner claim pcy\"y\"', 'alright congratulation selected shortlisted winner', 'alright congratulation selected shortlisted winner', \"thi~ksfii' iitchi~gbrwhitsipi12148149371y'lets talk bigger introduce\", \"thanks commenting brcongratulations y' randomly selected dm meai claim prize y'\", \"y' congratulation won prize right away yzy'\", 'iicongratulations yz shortlisted winner claim pcy\"y\"', \"y'congratulations yzsyou selected shortlisted winnersbrbrtelegram claim giveaway prizeyzysyz\", 'iicongratulations yz shortlisted winner claim pcy\"y\"', 'congratulation selected shortlisted winner yzyzsyzsyzs', \"thanks commenting brcongratulations y' randomly selected dm meai claim prize y'\", \"y'congratulations yzsyou selected shortlisted winnersbrbrtelegram claim giveaway prizeyzys\", \"thi~ksfii' iitchi~gbrwhitsipi12148149371y'lets talk bigger introduce\", \"thi~ksfii' iitchi~gbrwhitsipi12148149371y'lets talk bigger introduce\", \"let talk y congratulation y'yzyz\", 'iicongratulations yz shortlisted winner claim pcy\"y\"', \"thanks commenting brcongratulations y' randomly selected dm meai claim prize y'\", \"thanks commenting brcongratulations y' randomly selected dm meai claim prize y'\", \"y'congratulations yzsyou selected shortlisted winnersbrbrtelegram claim giveaway prizeyzys\", 'alright congratulation selected shortlisted winner', 'alright congratulation selected shortlisted winner', \"y'congratulations yzsyou selected shortlisted winnersbrbrtelegram claim giveaway prizeyzys\", 'iicongratulations yz shortlisted winner claim pcy\"y\"']\n"
          ]
        },
        {
          "output_type": "display_data",
          "data": {
            "text/plain": [
              "<Figure size 432x288 with 2 Axes>"
            ],
            "image/png": "[encoded data removed]"
          },
          "metadata": {}
        }
      ]
    },
    {
      "cell_type": "markdown",
      "source": [
        "# Data info"
      ],
      "metadata": {
        "id": "24EGCs5MefoV"
      }
    },
    {
      "cell_type": "code",
      "source": [
        "import pandas as pd\n",
        "data = [['running','-ing','run'],['runs','-s','run'],['consolidate','-ate','consolid'],['consolidated','-ated','consolid']]\n",
        "pd.DataFrame(data, columns=['Form','Suffix','Stem'])\n",
        "\n",
        "data = [['studies','Present tense of the word study','study'],['ran', 'Past tense of the word run', 'run']]\n",
        "pd.DataFrame(data, columns=['Form','Morphological Information','Lemma'])"
      ],
      "metadata": {
        "id": "xHLDrScBtTY6"
      },
      "execution_count": null,
      "outputs": []
    },
    {
      "cell_type": "code",
      "source": [
        "import matplotlib.pyplot as plt\n",
        "\n",
        "labels = 'ham', 'spam', 'spam', 'ham'\n",
        "sizes = [713, 753, 252, 238]\n",
        "# sizes = [1056, 353, 45, 134]\n",
        "colors = ['lightgray', 'lightgray', 'gray', 'gray']\n",
        "\n",
        "patches, _, _ = plt.pie(sizes, labels=labels, colors=colors, autopct='%1.1f%%')\n",
        "plt.legend([patches[0], patches[2]], ['train set', 'test set'], loc=\"best\")\n",
        "\n",
        "plt.axis('equal')\n",
        "plt.show()"
      ],
      "metadata": {
        "colab": {
          "base_uri": "https://localhost:8080/",
          "height": 248
        },
        "id": "hVxZy1rhvmiM",
        "outputId": "42aa0371-4b59-477b-8ad8-26609659fc19"
      },
      "execution_count": null,
      "outputs": [
        {
          "output_type": "display_data",
          "data": {
            "text/plain": [
              "<Figure size 432x288 with 1 Axes>"
            ],
            "image/png": "[encoded data removed]"
          },
          "metadata": {}
        }
      ]
    },
    {
      "cell_type": "code",
      "source": [
        "1-252/753, 1-238/713"
      ],
      "metadata": {
        "colab": {
          "base_uri": "https://localhost:8080/"
        },
        "id": "iRLP880IeVTz",
        "outputId": "c60b36a2-a978-45bc-c4be-6ad30b6c9aa6"
      },
      "execution_count": null,
      "outputs": [
        {
          "output_type": "execute_result",
          "data": {
            "text/plain": [
              "(0.6653386454183268, 0.6661991584852736)"
            ]
          },
          "metadata": {},
          "execution_count": 33
        }
      ]
    }
  ]
}